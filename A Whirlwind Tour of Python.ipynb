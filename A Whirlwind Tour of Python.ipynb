{
 "cells": [
  {
   "cell_type": "markdown",
   "metadata": {},
   "source": [
    "<!--BOOK_INFORMATION-->\n",
    "<img align=\"left\" style=\"padding-right:10px;\" src=\"fig/cover-small.jpg\">\n",
    "*This notebook contains an excerpt from the [Whirlwind Tour of Python](http://www.oreilly.com/programming/free/a-whirlwind-tour-of-python.csp) by Jake VanderPlas; the content is available [on GitHub](https://github.com/jakevdp/WhirlwindTourOfPython).*\n",
    "\n",
    "*The text and code are released under the [CC0](https://github.com/jakevdp/WhirlwindTourOfPython/blob/master/LICENSE) license; see also the companion project, the [Python Data Science Handbook](https://github.com/jakevdp/PythonDataScienceHandbook).*\n"
   ]
  },
  {
   "cell_type": "markdown",
   "metadata": {},
   "source": [
    "# A Whirlwind Tour of Python"
   ]
  },
  {
   "cell_type": "markdown",
   "metadata": {},
   "source": [
    "*Jake VanderPlas*"
   ]
  },
  {
   "cell_type": "markdown",
   "metadata": {},
   "source": [
    "<img src=\"fig/cover-large.gif\">"
   ]
  },
  {
   "cell_type": "markdown",
   "metadata": {},
   "source": [
    "These are the Jupyter Notebooks behind my O'Reilly report,\n",
    "[*A Whirlwind Tour of Python*](http://www.oreilly.com/programming/free/a-whirlwind-tour-of-python.csp).\n",
    "The full notebook listing is available [on Github](https://github.com/jakevdp/WhirlwindTourOfPython).\n",
    "\n",
    "*A Whirlwind Tour of Python* is a fast-paced introduction to essential\n",
    "components of the Python language for researchers and developers who are\n",
    "already familiar with programming in another language.\n",
    "\n",
    "The material is particularly aimed at those who wish to use Python for data \n",
    "science and/or scientific programming, and in this capacity serves as an\n",
    "introduction to my upcoming book, *The Python Data Science Handbook*.\n",
    "These notebooks are adapted from lectures and workshops I've given on these\n",
    "topics at University of Washington and at various conferences, meetings, and\n",
    "workshops around the world."
   ]
  },
  {
   "cell_type": "markdown",
   "metadata": {},
   "source": [
    "<a id='Index'></a>"
   ]
  },
  {
   "cell_type": "markdown",
   "metadata": {},
   "source": [
    "## Index\n",
    "\n",
    "1. [Introduction](#section00)\n",
    "2. [How to Run Python Code](#section01)\n",
    "3. [Basic Python Syntax](#section02)\n",
    "4. [Python Semantics: Variables](#section03)\n",
    "5. [Python Semantics: Operators](#section04)\n",
    "6. [Built-In Scalar Types](#section05)\n",
    "7. [Built-In Data Structures](#section06)\n",
    "8. [Control Flow Statements](#section07)\n",
    "9. [Defining Functions](#section08)\n",
    "10. [Errors and Exceptions](#section09)\n",
    "11. [Iterators](#section10)\n",
    "12. [List Comprehensions](#section11)\n",
    "13. [Generators and Generator Expressions](#section12)\n",
    "14. [Modules and Packages](#section13)\n",
    "15. [Strings and Regular Expressions](#section14)\n",
    "16. [Preview of Data Science Tools](#section15)\n",
    "17. [Resources for Further Learning](#section16)\n",
    "18. [Appendix: Code To Reproduce Figures](#section17)"
   ]
  },
  {
   "cell_type": "markdown",
   "metadata": {},
   "source": [
    "## License\n",
    "\n",
    "This material is released under the \"No Rights Reserved\" [CC0](LICENSE)\n",
    "license, and thus you are free to re-use, modify, build-on, and enhance\n",
    "this material for any purpose.\n",
    "\n",
    "That said, I request (but do not require) that if you use or adapt this material,\n",
    "you include a proper attribution and/or citation; for example\n",
    "\n",
    "> *A Whirlwind Tour of Python* by Jake VanderPlas (O’Reilly). Copyright 2016 O’Reilly Media, Inc., 978-1-491-96465-1\n",
    "\n",
    "Read more about CC0 [here](https://creativecommons.org/share-your-work/public-domain/cc0/)."
   ]
  },
  {
   "cell_type": "markdown",
   "metadata": {},
   "source": [
    "<!--NAVIGATION-->\n",
    "| [Contents](#Index) | [How to Run Python Code](#section01) >"
   ]
  },
  {
   "cell_type": "markdown",
   "metadata": {},
   "source": [
    "<a id='section00'></a>"
   ]
  },
  {
   "cell_type": "markdown",
   "metadata": {},
   "source": [
    "# 1. Introduction"
   ]
  },
  {
   "cell_type": "markdown",
   "metadata": {},
   "source": [
    "Conceived in the late 1980s as a teaching and scripting language, Python has since become an essential tool for many programmers, engineers, researchers, and data scientists across academia and industry.\n",
    "As an astronomer focused on building and promoting the free open tools for data-intensive science, I've found Python to be a near-perfect fit for the types of problems I face day to day, whether it's extracting meaning from large astronomical datasets, scraping and munging data sources from the Web, or automating day-to-day research tasks.\n",
    "\n",
    "The appeal of Python is in its simplicity and beauty, as well as the convenience of the large ecosystem of domain-specific tools that have been built on top of it.\n",
    "For example, most of the Python code in scientific computing and data science is built around a group of mature and useful packages:\n",
    "\n",
    "- [NumPy](http://numpy.org) provides efficient storage and computation for multi-dimensional data arrays.\n",
    "- [SciPy](http://scipy.org) contains a wide array of numerical tools such as numerical integration and interpolation.\n",
    "- [Pandas](http://pandas.pydata.org) provides a DataFrame object along with a powerful set of methods to manipulate, filter, group, and transform data.\n",
    "- [Matplotlib](http://matplotlib.org) provides a useful interface for creation of publication-quality plots and figures.\n",
    "- [Scikit-Learn](http://scikit-learn.org) provides a uniform toolkit for applying common machine learning algorithms to data.\n",
    "- [IPython/Jupyter](http://jupyter.org) provides an enhanced terminal and an interactive notebook environment that is useful for exploratory analysis, as well as creation of interactive, executable documents. For example, the manuscript for this report was composed entirely in Jupyter notebooks.\n",
    "\n",
    "No less important are the numerous other tools and packages which accompany these: if there is a scientific or data analysis task you want to perform, chances are someone has written a package that will do it for you.\n",
    "\n",
    "To tap into the power of this data science ecosystem, however, first requires familiarity with the Python language itself.\n",
    "I often encounter students and colleagues who have (sometimes extensive) backgrounds in computing in some language – MATLAB, IDL, R, Java, C++, etc. – and are looking for a brief but comprehensive tour of the Python language that respects their level of knowledge rather than starting from ground zero.\n",
    "This report seeks to fill that niche.\n",
    "\n",
    "As such, this report in no way aims to be a comprehensive introduction to programming, or a full introduction to the Python language itself; if that is what you are looking for, you might check out one of the recommended references listed in [Resources for Learning](16-Further-Resources.ipynb).\n",
    "Instead, this will provide a whirlwind tour of some of Python's essential syntax and semantics, built-in data types and structures, function definitions, control flow statements, and other aspects of the language.\n",
    "My aim is that readers will walk away with a solid foundation from which to explore the data science stack just outlined."
   ]
  },
  {
   "cell_type": "markdown",
   "metadata": {},
   "source": [
    "## Using Code Examples\n",
    "\n",
    "Supplemental material (code examples, exercises, etc.) is available for download at https://github.com/jakevdp/WhirlwindTourOfPython/.\n",
    "This book is here to help you get your job done.\n",
    "In general, if example code is offered with this book, you may use it in your programs and documentation.\n",
    "You do not need to contact us for permission unless you’re reproducing a significant portion of the code.\n",
    "For example, writing a program that uses several chunks of code from this book does not require permission.\n",
    "Selling or distributing a CD-ROM of examples from O’Reilly books does require permission.\n",
    "Answering a question by citing this book and quoting example code does not require permission.\n",
    "Incorporating a significant amount of example code from this book into your product’s documentation does require permission.\n",
    "\n",
    "We appreciate, but do not require, attribution.\n",
    "An attribution usually includes the title, author, publisher, and ISBN.\n",
    "For example: \"A Whirlwind Tour of Python by Jake VanderPlas (O’Reilly). Copyright 2016 O’Reilly Media, Inc., 978-1-491-96465-1.\"\n",
    "\n",
    "If you feel your use of code examples falls outside fair use or the per‐ mission given above, feel free to contact us at permissions@oreilly.com."
   ]
  },
  {
   "cell_type": "markdown",
   "metadata": {},
   "source": [
    "## Installation and Practical Considerations\n",
    "\n",
    "Installing Python and the suite of libraries that enable scientific computing is straightforward whether you use Windows, Linux, or Mac OS X. This section will outline some of the considerations when setting up your computer."
   ]
  },
  {
   "cell_type": "markdown",
   "metadata": {},
   "source": [
    "### Python 2 vs Python 3\n",
    "\n",
    "This report uses the syntax of Python 3, which contains language enhancements that are not compatible with the *2.x* series of Python.\n",
    "Though Python 3.0 was first released in 2008, adoption has been relatively slow, particularly in the scientific and web development communities.\n",
    "This is primarily because it took some time for many of the essential packages and toolkits to be made compatible with the new language internals.\n",
    "Since early 2014, however, stable releases of the most important tools in the data science ecosystem have been fully-compatible with both Python 2 and 3, and so this book will use the newer Python 3 syntax.\n",
    "Even though that is the case, the vast majority of code snippets in this book will also work without modification in Python 2: in cases where a Py2-incompatible syntax is used, I will make every effort to note it explicitly."
   ]
  },
  {
   "cell_type": "markdown",
   "metadata": {},
   "source": [
    "### Installation with conda\n",
    "\n",
    "Though there are various ways to install Python, the one I would suggest – particularly if you wish to eventually use the data science tools mentioned above – is via the cross-platform Anaconda distribution.\n",
    "There are two flavors of the Anaconda distribution:\n",
    "\n",
    "- [Miniconda](http://conda.pydata.org/miniconda.html) gives you Python interpreter itself, along with a command-line tool called ``conda`` which operates as a cross-platform package manager geared toward Python packages, similar in spirit to the ``apt`` or ``yum`` tools that Linux users might be familiar with.\n",
    "- [Anaconda](https://www.continuum.io/downloads) includes both Python and ``conda``, and additionally bundles a suite of other pre-installed packages geared toward scientific computing.\n",
    "\n",
    "Any of the packages included with Anaconda can also be installed manually on top of Miniconda; for this reason I suggest starting with Miniconda.\n",
    "\n",
    "To get started, download and install the Miniconda package – make sure to choose a version with Python 3 – and then install the IPython notebook package:\n",
    "```\n",
    "[~]$ conda install ipython-notebook\n",
    "```\n",
    "For more information on ``conda``, including information about creating and using conda environments, refer to the Miniconda package documentation linked at the above page."
   ]
  },
  {
   "cell_type": "markdown",
   "metadata": {},
   "source": [
    "## The Zen of Python\n",
    "\n",
    "Python aficionados are often quick to point out how \"intuitive\", \"beautiful\", or \"fun\" Python is.\n",
    "While I tend to agree, I also recognize that beauty, intuition, and fun often go hand in hand with familiarity, and so for those familiar with other languages such florid sentiments can come across as a bit smug.\n",
    "Nevertheless, I hope that if you give Python a chance, you'll see where such impressions might come from.\n",
    "And if you *really* want to dig into the programming philosophy that drives much of the coding practice of Python power-users, a nice little Easter egg exists in the Python interpreter: simply close your eyes, meditate for a few minutes, and ``import this``:"
   ]
  },
  {
   "cell_type": "code",
   "execution_count": 1,
   "metadata": {
    "scrolled": false
   },
   "outputs": [
    {
     "name": "stdout",
     "output_type": "stream",
     "text": [
      "The Zen of Python, by Tim Peters\n",
      "\n",
      "Beautiful is better than ugly.\n",
      "Explicit is better than implicit.\n",
      "Simple is better than complex.\n",
      "Complex is better than complicated.\n",
      "Flat is better than nested.\n",
      "Sparse is better than dense.\n",
      "Readability counts.\n",
      "Special cases aren't special enough to break the rules.\n",
      "Although practicality beats purity.\n",
      "Errors should never pass silently.\n",
      "Unless explicitly silenced.\n",
      "In the face of ambiguity, refuse the temptation to guess.\n",
      "There should be one-- and preferably only one --obvious way to do it.\n",
      "Although that way may not be obvious at first unless you're Dutch.\n",
      "Now is better than never.\n",
      "Although never is often better than *right* now.\n",
      "If the implementation is hard to explain, it's a bad idea.\n",
      "If the implementation is easy to explain, it may be a good idea.\n",
      "Namespaces are one honking great idea -- let's do more of those!\n"
     ]
    }
   ],
   "source": [
    "import this"
   ]
  },
  {
   "cell_type": "markdown",
   "metadata": {},
   "source": [
    "With that, let's start our tour of the Python language."
   ]
  },
  {
   "cell_type": "markdown",
   "metadata": {},
   "source": [
    "<!--NAVIGATION-->\n",
    "< [1. Introduction](#section00) | [Contents](#Index) | [A Quick Tour of Python Language Syntax](#section02) >"
   ]
  },
  {
   "cell_type": "markdown",
   "metadata": {},
   "source": [
    "<a id='section01'></a>"
   ]
  },
  {
   "cell_type": "markdown",
   "metadata": {},
   "source": [
    "# How to Run Python Code"
   ]
  },
  {
   "cell_type": "markdown",
   "metadata": {},
   "source": [
    "Python is a flexible language, and there are several ways to use it depending on your particular task.\n",
    "One thing that distinguishes Python from other programming languages is that it is *interpreted* rather than *compiled*.\n",
    "This means that it is executed line by line, which allows programming to be interactive in a way that is not directly possible with compiled languages like Fortran, C, or Java. This section will describe four primary ways you can run Python code: the *Python interpreter*, the *IPython interpreter*, via *Self-contained Scripts*, or in the *Jupyter notebook*."
   ]
  },
  {
   "cell_type": "markdown",
   "metadata": {},
   "source": [
    "### The Python Interpreter\n",
    "\n",
    "The most basic way to execute Python code is line by line within the *Python interpreter*.\n",
    "The Python interpreter can be started by installing the Python language (see the previous section) and typing ``python`` at the command prompt (look for the Terminal on Mac OS X and Unix/Linux systems, or the Command Prompt application in Windows):\n",
    "```\n",
    "$ python\n",
    "Python 3.5.1 |Continuum Analytics, Inc.| (default, Dec  7 2015, 11:24:55)\n",
    "Type \"help\", \"copyright\", \"credits\" or \"license\" for more information.\n",
    ">>>\n",
    "```\n",
    "With the interpreter running, you can begin to type and execute code snippets.\n",
    "Here we'll use the interpreter as a simple calculator, performing calculations and assigning values to variables:\n",
    "``` python\n",
    ">>> 1 + 1\n",
    "2\n",
    ">>> x = 5\n",
    ">>> x * 3\n",
    "15\n",
    "```\n",
    "\n",
    "The interpreter makes it very convenient to try out small snippets of Python code and to experiment with short sequences of operations."
   ]
  },
  {
   "cell_type": "markdown",
   "metadata": {},
   "source": [
    "### The IPython interpreter\n",
    "\n",
    "If you spend much time with the basic Python interpreter, you'll find that it lacks many of the features of a full-fledged interactive development environment.\n",
    "An alternative interpreter called *IPython* (for Interactive Python) is bundled with the Anaconda distribution, and includes a host of convenient enhancements to the basic Python interpreter.\n",
    "It can be started by typing ``ipython`` at the command prompt:\n",
    "```\n",
    "$ ipython\n",
    "Python 3.5.1 |Continuum Analytics, Inc.| (default, Dec  7 2015, 11:24:55) \n",
    "Type \"copyright\", \"credits\" or \"license\" for more information.\n",
    "\n",
    "IPython 4.0.0 -- An enhanced Interactive Python.\n",
    "?         -> Introduction and overview of IPython's features.\n",
    "%quickref -> Quick reference.\n",
    "help      -> Python's own help system.\n",
    "object?   -> Details about 'object', use 'object??' for extra details.\n",
    "\n",
    "In [1]: \n",
    "```\n",
    "The main aesthetic difference between the Python interpreter and the enhanced IPython interpreter lies in the command prompt: Python uses ``>>>`` by default, while IPython uses numbered commands (e.g. ``In [1]:``).\n",
    "Regardless, we can execute code line by line just as we did before:\n",
    "``` ipython\n",
    "In [1]: 1 + 1\n",
    "Out[1]: 2\n",
    "\n",
    "In [2]: x = 5\n",
    "\n",
    "In [3]: x * 3\n",
    "Out[3]: 15\n",
    "```\n",
    "Note that just as the input is numbered, the output of each command is numbered as well.\n",
    "IPython makes available a wide array of useful features; for some suggestions on where to read more, see [Resources for Further Learning](16-Further-Resources.ipynb)."
   ]
  },
  {
   "cell_type": "markdown",
   "metadata": {},
   "source": [
    "### Self-contained Python scripts\n",
    "\n",
    "Running Python snippets line by line is useful in some cases, but for more complicated programs it is more convenient to save code to file, and execute it all at once.\n",
    "By convention, Python scripts are saved in files with a *.py* extension.\n",
    "For example, let's create a script called *test.py* which contains the following:\n",
    "``` python\n",
    "# file: test.py\n",
    "print(\"Running test.py\")\n",
    "x = 5\n",
    "print(\"Result is\", 3 * x)\n",
    "```\n",
    "To run this file, we make sure it is in the current directory and type ``python`` *``filename``* at the command prompt:\n",
    "```\n",
    "$ python test.py\n",
    "Running test.py\n",
    "Result is 15\n",
    "```\n",
    "For more complicated programs, creating self-contained scripts like this one is a must."
   ]
  },
  {
   "cell_type": "markdown",
   "metadata": {},
   "source": [
    "### The Jupyter notebook\n",
    "\n",
    "A useful hybrid of the interactive terminal and the self-contained script is the *Jupyter notebook*, a document format that allows executable code, formatted text, graphics, and even interactive features to be combined into a single document.\n",
    "Though the notebook began as a Python-only format, it has since been made compatible with a large number of programming languages, and is now an essential part of the [*Jupyter Project*](https://jupyter.org/).\n",
    "The notebook is useful both as a development environment, and as a means of sharing work via rich computational and data-driven narratives that mix together code, figures, data, and text."
   ]
  },
  {
   "cell_type": "markdown",
   "metadata": {},
   "source": [
    "<!--NAVIGATION-->\n",
    "< [How to Run Python Code](#section01) | [Contents](#Index) | [A Quick Tour of Python Language Syntax](#section03) >"
   ]
  },
  {
   "cell_type": "markdown",
   "metadata": {},
   "source": [
    "<a id='section02'></a>"
   ]
  },
  {
   "cell_type": "markdown",
   "metadata": {},
   "source": [
    "# A Quick Tour of Python Language Syntax"
   ]
  },
  {
   "cell_type": "markdown",
   "metadata": {},
   "source": [
    "Python was originally developed as a teaching language, but its ease of use and clean syntax have led it to be embraced by beginners and experts alike.\n",
    "The cleanliness of Python's syntax has led some to call it \"executable pseudocode\", and indeed my own experience has been that it is often much easier to read and understand a Python script than to read a similar script written in, say, C.\n",
    "Here we'll begin to discuss the main features of Python's syntax.\n",
    "\n",
    "Syntax refers to the structure of the language (i.e., what constitutes a correctly-formed program).\n",
    "For the time being, we'll not focus on the semantics – the meaning of the words and symbols within the syntax – but will return to this at a later point.\n",
    "\n",
    "Consider the following code example:"
   ]
  },
  {
   "cell_type": "code",
   "execution_count": 1,
   "metadata": {},
   "outputs": [
    {
     "name": "stdout",
     "output_type": "stream",
     "text": [
      "lower: [0, 1, 2, 3, 4]\n",
      "upper: [5, 6, 7, 8, 9]\n"
     ]
    }
   ],
   "source": [
    "# set the midpoint\n",
    "midpoint = 5\n",
    "\n",
    "# make two empty lists\n",
    "lower = []; upper = []\n",
    "\n",
    "# split the numbers into lower and upper\n",
    "for i in range(10):\n",
    "    if (i < midpoint):\n",
    "        lower.append(i)\n",
    "    else:\n",
    "        upper.append(i)\n",
    "        \n",
    "print(\"lower:\", lower)\n",
    "print(\"upper:\", upper)"
   ]
  },
  {
   "cell_type": "markdown",
   "metadata": {},
   "source": [
    "This script is a bit silly, but it compactly illustrates several of the important aspects of Python syntax.\n",
    "Let's walk through it and discuss some of the syntactical features of Python"
   ]
  },
  {
   "cell_type": "markdown",
   "metadata": {},
   "source": [
    "## Comments Are Marked by ``#``\n",
    "The script starts with a comment:\n",
    "``` python\n",
    "# set the midpoint\n",
    "```\n",
    "Comments in Python are indicated by a pound sign (``#``), and anything on the line following the pound sign is ignored by the interpreter.\n",
    "This means, for example, that you can have stand-alone comments like the one just shown, as well as inline comments that follow a statement. For example:\n",
    "``` python\n",
    "x += 2  # shorthand for x = x + 2\n",
    "```\n",
    "Python does not have any syntax for multi-line comments, such as the ``/* ... */`` syntax used in C and C++, though multi-line strings are often used as a replacement for multi-line comments (more on this in [String Manipulation and Regular Expressions](14-Strings-and-Regular-Expressions.ipynb))."
   ]
  },
  {
   "cell_type": "markdown",
   "metadata": {},
   "source": [
    "## End-of-Line Terminates a Statement\n",
    "The next line in the script is\n",
    "``` python\n",
    "midpoint = 5\n",
    "```\n",
    "This is an assignment operation, where we've created a variable named ``midpoint`` and assigned it the value ``5``.\n",
    "Notice that the end of this statement is simply marked by the end of the line.\n",
    "This is in contrast to languages like C and C++, where every statement must end with a semicolon (``;``).\n",
    "\n",
    "In Python, if you'd like a statement to continue to the next line, it is possible to use the \"``\\``\" marker to indicate this:"
   ]
  },
  {
   "cell_type": "code",
   "execution_count": 2,
   "metadata": {
    "collapsed": true
   },
   "outputs": [],
   "source": [
    "x = 1 + 2 + 3 + 4 +\\\n",
    "    5 + 6 + 7 + 8"
   ]
  },
  {
   "cell_type": "markdown",
   "metadata": {},
   "source": [
    "It is also possible to continue expressions on the next line within parentheses, without using the \"``\\``\" marker:"
   ]
  },
  {
   "cell_type": "code",
   "execution_count": 3,
   "metadata": {
    "collapsed": true
   },
   "outputs": [],
   "source": [
    "x = (1 + 2 + 3 + 4 +\n",
    "     5 + 6 + 7 + 8)"
   ]
  },
  {
   "cell_type": "markdown",
   "metadata": {},
   "source": [
    "Most Python style guides recommend the second version of line continuation (within parentheses) to the first (use of the \"``\\``\" marker)."
   ]
  },
  {
   "cell_type": "markdown",
   "metadata": {},
   "source": [
    "## Semicolon Can Optionally Terminate a Statement\n",
    "Sometimes it can be useful to put multiple statements on a single line.\n",
    "The next portion of the script is\n",
    "``` python\n",
    "lower = []; upper = []\n",
    "```\n",
    "This shows the example of how the semicolon (``;``) familiar in C can be used optionally in Python to put two statements on a single line.\n",
    "Functionally, this is entirely equivalent to writing\n",
    "``` python\n",
    "lower = []\n",
    "upper = []\n",
    "```\n",
    "Using a semicolon to put multiple statements on a single line is generally discouraged by most Python style guides, though occasionally it proves convenient."
   ]
  },
  {
   "cell_type": "markdown",
   "metadata": {},
   "source": [
    "## Indentation: Whitespace Matters!\n",
    "Next, we get to the main block of code:\n",
    "``` Python\n",
    "for i in range(10):\n",
    "    if i < midpoint:\n",
    "        lower.append(i)\n",
    "    else:\n",
    "        upper.append(i)\n",
    "```\n",
    "This is a compound control-flow statement including a loop and a conditional – we'll look at these types of statements in a moment.\n",
    "For now, consider that this demonstrates what is perhaps the most controversial feature of Python's syntax: whitespace is meaningful!\n",
    "\n",
    "In programming languages, a *block* of code is a set of statements that should be treated as a unit.\n",
    "In C, for example, code blocks are denoted by curly braces:\n",
    "``` C\n",
    "// C code\n",
    "for(int i=0; i<100; i++)\n",
    "   {\n",
    "      // curly braces indicate code block\n",
    "      total += i;\n",
    "   }\n",
    "```\n",
    "In Python, code blocks are denoted by *indentation*:\n",
    "``` python\n",
    "for i in range(100):\n",
    "    # indentation indicates code block\n",
    "    total += i\n",
    "```\n",
    "In Python, indented code blocks are always preceded by a colon (``:``) on the previous line."
   ]
  },
  {
   "cell_type": "markdown",
   "metadata": {},
   "source": [
    "The use of indentation helps to enforce the uniform, readable style that many find appealing in Python code.\n",
    "But it might be confusing to the uninitiated; for example, the following two snippets will produce different results:\n",
    "```python\n",
    ">>> if x < 4:         >>> if x < 4:\n",
    "...     y = x * 2     ...     y = x * 2\n",
    "...     print(x)      ... print(x)\n",
    "```\n",
    "In the snippet on the left, ``print(x)`` is in the indented block, and will be executed only if ``x`` is less than ``4``.\n",
    "In the snippet on the right ``print(x)`` is outside the block, and will be executed regardless of the value of ``x``!"
   ]
  },
  {
   "cell_type": "markdown",
   "metadata": {},
   "source": [
    "Python's use of meaningful whitespace often is surprising to programmers who are accustomed to other languages, but in practice it can lead to much more consistent and readable code than languages that do not enforce indentation of code blocks.\n",
    "If you find Python's use of whitespace disagreeable, I'd encourage you to give it a try: as I did, you may find that you come to appreciate it.\n",
    "\n",
    "Finally, you should be aware that the *amount* of whitespace used for indenting code blocks is up to the user, as long as it is consistent throughout the script.\n",
    "By convention, most style guides recommend to indent code blocks by four spaces, and that is the convention we will follow in this report.\n",
    "Note that many text editors like Emacs and Vim contain Python modes that do four-space indentation automatically."
   ]
  },
  {
   "cell_type": "markdown",
   "metadata": {},
   "source": [
    "## Whitespace *Within* Lines Does Not Matter\n",
    "While the mantra of *meaningful whitespace* holds true for whitespace *before* lines (which indicate a code block), white space *within* lines of Python code does not matter.\n",
    "For example, all three of these expressions are equivalent:"
   ]
  },
  {
   "cell_type": "code",
   "execution_count": 4,
   "metadata": {
    "collapsed": true
   },
   "outputs": [],
   "source": [
    "x=1+2\n",
    "x = 1 + 2\n",
    "x             =        1    +                2"
   ]
  },
  {
   "cell_type": "markdown",
   "metadata": {},
   "source": [
    "Abusing this flexibility can lead to issues with code readibility – in fact, abusing white space is often one of the primary means of intentionally obfuscating code (which some people do for sport).\n",
    "Using whitespace effectively can lead to much more readable code, \n",
    "especially in cases where operators follow each other – compare the following two expressions for exponentiating by a negative number:\n",
    "``` python\n",
    "x=10**-2\n",
    "```\n",
    "to\n",
    "``` python\n",
    "x = 10 ** -2\n",
    "```\n",
    "I find the second version with spaces much more easily readable at a single glance.\n",
    "Most Python style guides recommend using a single space around binary operators, and no space around unary operators.\n",
    "We'll discuss Python's operators further in [Basic Python Semantics: Operators](04-Semantics-Operators.ipynb)."
   ]
  },
  {
   "cell_type": "markdown",
   "metadata": {},
   "source": [
    "## Parentheses Are for Grouping or Calling\n",
    "\n",
    "In the previous code snippet, we see two uses of parentheses.\n",
    "First, they can be used in the typical way to group statements or mathematical operations:"
   ]
  },
  {
   "cell_type": "code",
   "execution_count": 5,
   "metadata": {},
   "outputs": [
    {
     "data": {
      "text/plain": [
       "14"
      ]
     },
     "execution_count": 5,
     "metadata": {},
     "output_type": "execute_result"
    }
   ],
   "source": [
    "2 * (3 + 4)"
   ]
  },
  {
   "cell_type": "markdown",
   "metadata": {},
   "source": [
    "They can also be used to indicate that a *function* is being called.\n",
    "In the next snippet, the ``print()`` function is used to display the contents of a variable (see the sidebar).\n",
    "The function call is indicated by a pair of opening and closing parentheses, with the *arguments* to the function contained within:"
   ]
  },
  {
   "cell_type": "code",
   "execution_count": 6,
   "metadata": {},
   "outputs": [
    {
     "name": "stdout",
     "output_type": "stream",
     "text": [
      "first value: 1\n"
     ]
    }
   ],
   "source": [
    "print('first value:', 1)"
   ]
  },
  {
   "cell_type": "code",
   "execution_count": 7,
   "metadata": {},
   "outputs": [
    {
     "name": "stdout",
     "output_type": "stream",
     "text": [
      "second value: 2\n"
     ]
    }
   ],
   "source": [
    "print('second value:', 2)"
   ]
  },
  {
   "cell_type": "markdown",
   "metadata": {},
   "source": [
    "Some functions can be called with no arguments at all, in which case the opening and closing parentheses still must be used to indicate a function evaluation.\n",
    "An example of this is the ``sort`` method of lists:"
   ]
  },
  {
   "cell_type": "code",
   "execution_count": 8,
   "metadata": {},
   "outputs": [
    {
     "name": "stdout",
     "output_type": "stream",
     "text": [
      "[1, 2, 3, 4]\n"
     ]
    }
   ],
   "source": [
    "L = [4,2,3,1]\n",
    "L.sort()\n",
    "print(L)"
   ]
  },
  {
   "cell_type": "markdown",
   "metadata": {},
   "source": [
    "The \"``()``\" after ``sort`` indicates that the function should be executed, and is required even if no arguments are necessary."
   ]
  },
  {
   "cell_type": "markdown",
   "metadata": {},
   "source": [
    "## Aside: A Note on the ``print()`` Function\n",
    "\n",
    "Above we used the example of the ``print()`` function.\n",
    "The ``print()`` function is one piece that has changed between Python *2.x* and Python *3.x*. In Python 2, ``print`` behaved as a statement: that is, you could write\n",
    "``` python\n",
    "# Python 2 only!\n",
    ">> print \"first value:\", 1\n",
    "first value: 1\n",
    "```\n",
    "For various reasons, the language maintainers decided that in Python 3 ``print()`` should become a function, so we now write\n",
    "``` python\n",
    "# Python 3 only!\n",
    ">>> print(\"first value:\", 1)\n",
    "first value: 1\n",
    "```\n",
    "This is one of the many backward-incompatible constructs between Python 2 and 3.\n",
    "As of the writing of this book, it is common to find examples written in both versions of Python, and the presence of the ``print`` statement rather than the ``print()`` function is often one of the first signs that you're looking at Python 2 code."
   ]
  },
  {
   "cell_type": "markdown",
   "metadata": {},
   "source": [
    "## Finishing Up and Learning More\n",
    "\n",
    "This has been a very brief exploration of the essential features of Python syntax; its purpose is to give you a good frame of reference for when you're reading the code in later sections.\n",
    "Several times we've mentioned Python \"style guides\", which can help teams to write code in a consistent style.\n",
    "The most widely used style guide in Python is known as PEP8, and can be found at https://www.python.org/dev/peps/pep-0008/.\n",
    "As you begin to write more Python code, it would be useful to read through this!\n",
    "The style suggestions contain the wisdom of many Python gurus, and most suggestions go beyond simple pedantry: they are experience-based recommendations that can help avoid subtle mistakes and bugs in your code."
   ]
  },
  {
   "cell_type": "markdown",
   "metadata": {},
   "source": [
    "<!--NAVIGATION-->\n",
    "< [A Quick Tour of Python Language Syntax](#section02) | [Contents](#Index) | [Basic Python Semantics: Operators](#section04) >"
   ]
  },
  {
   "cell_type": "markdown",
   "metadata": {},
   "source": [
    "<a id='section03'></a>"
   ]
  },
  {
   "cell_type": "markdown",
   "metadata": {},
   "source": [
    "# Basic Python Semantics: Variables and Objects"
   ]
  },
  {
   "cell_type": "markdown",
   "metadata": {},
   "source": [
    "This section will begin to cover the basic semantics of the Python language.\n",
    "As opposed to the *syntax* covered in the previous section, the *semantics* of a language involve the meaning of the statements.\n",
    "As with our discussion of syntax, here we'll preview a few of the essential semantic constructions in Python to give you a better frame of reference for understanding the code in the following sections.\n",
    "\n",
    "This section will cover the semantics of *variables* and *objects*, which are the main ways you store, reference, and operate on data within a Python script."
   ]
  },
  {
   "cell_type": "markdown",
   "metadata": {},
   "source": [
    "## Python Variables Are Pointers\n",
    "\n",
    "Assigning variables in Python is as easy as putting a variable name to the left of the equals (``=``) sign:\n",
    "\n",
    "```python\n",
    "# assign 4 to the variable x\n",
    "x = 4\n",
    "```\n",
    "\n",
    "This may seem straightforward, but if you have the wrong mental model of what this operation does, the way Python works may seem confusing.\n",
    "We'll briefly dig into that here.\n",
    "\n",
    "In many programming languages, variables are best thought of as containers or buckets into which you put data.\n",
    "So in C, for example, when you write\n",
    "\n",
    "```C\n",
    "// C code\n",
    "int x = 4;\n",
    "```\n",
    "\n",
    "you are essentially defining a \"memory bucket\" named ``x``, and putting the value ``4`` into it.\n",
    "In Python, by contrast, variables are best thought of not as containers but as pointers.\n",
    "So in Python, when you write\n",
    "\n",
    "```python\n",
    "x = 4\n",
    "```\n",
    "\n",
    "you are essentially defining a *pointer* named ``x`` that points to some other bucket containing the value ``4``.\n",
    "Note one consequence of this: because Python variables just point to various objects, there is no need to \"declare\" the variable, or even require the variable to always point to information of the same type!\n",
    "This is the sense in which people say Python is *dynamically-typed*: variable names can point to objects of any type.\n",
    "So in Python, you can do things like this:"
   ]
  },
  {
   "cell_type": "code",
   "execution_count": 1,
   "metadata": {
    "collapsed": true
   },
   "outputs": [],
   "source": [
    "x = 1         # x is an integer\n",
    "x = 'hello'   # now x is a string\n",
    "x = [1, 2, 3] # now x is a list"
   ]
  },
  {
   "cell_type": "markdown",
   "metadata": {},
   "source": [
    "While users of statically-typed languages might miss the type-safety that comes with declarations like those found in C,\n",
    "\n",
    "```C\n",
    "int x = 4;\n",
    "```\n",
    "\n",
    "this dynamic typing is one of the pieces that makes Python so quick to write and easy to read.\n",
    "\n",
    "There is a consequence of this \"variable as pointer\" approach that you need to be aware of.\n",
    "If we have two variable names pointing to the same *mutable* object, then changing one will change the other as well!\n",
    "For example, let's create and modify a list:"
   ]
  },
  {
   "cell_type": "code",
   "execution_count": 2,
   "metadata": {
    "collapsed": true
   },
   "outputs": [],
   "source": [
    "x = [1, 2, 3]\n",
    "y = x"
   ]
  },
  {
   "cell_type": "markdown",
   "metadata": {},
   "source": [
    "We've created two variables ``x`` and ``y`` which both point to the same object.\n",
    "Because of this, if we modify the list via one of its names, we'll see that the \"other\" list will be modified as well:"
   ]
  },
  {
   "cell_type": "code",
   "execution_count": 3,
   "metadata": {},
   "outputs": [
    {
     "name": "stdout",
     "output_type": "stream",
     "text": [
      "[1, 2, 3]\n"
     ]
    }
   ],
   "source": [
    "print(y)"
   ]
  },
  {
   "cell_type": "code",
   "execution_count": 4,
   "metadata": {},
   "outputs": [
    {
     "name": "stdout",
     "output_type": "stream",
     "text": [
      "[1, 2, 3, 4]\n"
     ]
    }
   ],
   "source": [
    "x.append(4) # append 4 to the list pointed to by x\n",
    "print(y) # y's list is modified as well!"
   ]
  },
  {
   "cell_type": "markdown",
   "metadata": {},
   "source": [
    "This behavior might seem confusing if you're wrongly thinking of variables as buckets that contain data.\n",
    "But if you're correctly thinking of variables as pointers to objects, then this behavior makes sense.\n",
    "\n",
    "Note also that if we use \"``=``\" to assign another value to ``x``, this will not affect the value of ``y`` – assignment is simply a change of what object the variable points to:"
   ]
  },
  {
   "cell_type": "code",
   "execution_count": 5,
   "metadata": {},
   "outputs": [
    {
     "name": "stdout",
     "output_type": "stream",
     "text": [
      "[1, 2, 3, 4]\n"
     ]
    }
   ],
   "source": [
    "x = 'something else'\n",
    "print(y)  # y is unchanged"
   ]
  },
  {
   "cell_type": "markdown",
   "metadata": {},
   "source": [
    "Again, this makes perfect sense if you think of ``x`` and ``y`` as pointers, and the \"``=``\" operator as an operation that changes what the name points to.\n",
    "\n",
    "You might wonder whether this pointer idea makes arithmetic operations in Python difficult to track, but Python is set up so that this is not an issue. Numbers, strings, and other *simple types* are immutable: you can't change their value – you can only change what values the variables point to.\n",
    "So, for example, it's perfectly safe to do operations like the following:"
   ]
  },
  {
   "cell_type": "code",
   "execution_count": 6,
   "metadata": {},
   "outputs": [
    {
     "name": "stdout",
     "output_type": "stream",
     "text": [
      "x = 15\n",
      "y = 10\n"
     ]
    }
   ],
   "source": [
    "x = 10\n",
    "y = x\n",
    "x += 5  # add 5 to x's value, and assign it to x\n",
    "print(\"x =\", x)\n",
    "print(\"y =\", y)"
   ]
  },
  {
   "cell_type": "markdown",
   "metadata": {},
   "source": [
    "When we call ``x += 5``, we are not modifying the value of the ``10`` object pointed to by ``x``; we are rather changing the variable ``x`` so that it points to a new integer object with value ``15``.\n",
    "For this reason, the value of ``y`` is not affected by the operation."
   ]
  },
  {
   "cell_type": "markdown",
   "metadata": {},
   "source": [
    "## Everything Is an Object\n",
    "\n",
    "Python is an object-oriented programming language, and in Python everything is an object.\n",
    "\n",
    "Let's flesh-out what this means. Earlier we saw that variables are simply pointers, and the variable names themselves have no attached type information.\n",
    "This leads some to claim erroneously that Python is a type-free language. But this is not the case!\n",
    "Consider the following:"
   ]
  },
  {
   "cell_type": "code",
   "execution_count": 7,
   "metadata": {},
   "outputs": [
    {
     "data": {
      "text/plain": [
       "int"
      ]
     },
     "execution_count": 7,
     "metadata": {},
     "output_type": "execute_result"
    }
   ],
   "source": [
    "x = 4\n",
    "type(x)"
   ]
  },
  {
   "cell_type": "code",
   "execution_count": 8,
   "metadata": {},
   "outputs": [
    {
     "data": {
      "text/plain": [
       "str"
      ]
     },
     "execution_count": 8,
     "metadata": {},
     "output_type": "execute_result"
    }
   ],
   "source": [
    "x = 'hello'\n",
    "type(x)"
   ]
  },
  {
   "cell_type": "code",
   "execution_count": 9,
   "metadata": {},
   "outputs": [
    {
     "data": {
      "text/plain": [
       "float"
      ]
     },
     "execution_count": 9,
     "metadata": {},
     "output_type": "execute_result"
    }
   ],
   "source": [
    "x = 3.14159\n",
    "type(x)"
   ]
  },
  {
   "cell_type": "markdown",
   "metadata": {},
   "source": [
    "Python has types; however, the types are linked not to the variable names but *to the objects themselves*.\n",
    "\n",
    "In object-oriented programming languages like Python, an *object* is an entity that contains data along with associated metadata and/or functionality.\n",
    "In Python everything is an object, which means every entity has some metadata (called *attributes*) and associated functionality (called *methods*).\n",
    "These attributes and methods are accessed via the dot syntax.\n",
    "\n",
    "For example, before we saw that lists have an ``append`` method, which adds an item to the list, and is accessed via the dot (\"``.``\") syntax:"
   ]
  },
  {
   "cell_type": "code",
   "execution_count": 10,
   "metadata": {},
   "outputs": [
    {
     "name": "stdout",
     "output_type": "stream",
     "text": [
      "[1, 2, 3, 100]\n"
     ]
    }
   ],
   "source": [
    "L = [1, 2, 3]\n",
    "L.append(100)\n",
    "print(L)"
   ]
  },
  {
   "cell_type": "markdown",
   "metadata": {},
   "source": [
    "While it might be expected for compound objects like lists to have attributes and methods, what is sometimes unexpected is that in Python even simple types have attached attributes and methods.\n",
    "For example, numerical types have a ``real`` and ``imag`` attribute that returns the real and imaginary part of the value, if viewed as a complex number:"
   ]
  },
  {
   "cell_type": "code",
   "execution_count": 11,
   "metadata": {},
   "outputs": [
    {
     "name": "stdout",
     "output_type": "stream",
     "text": [
      "4.5 + 0.0 i\n"
     ]
    }
   ],
   "source": [
    "x = 4.5\n",
    "print(x.real, \"+\", x.imag, 'i')"
   ]
  },
  {
   "cell_type": "markdown",
   "metadata": {},
   "source": [
    "Methods are like attributes, except they are functions that you can call using opening and closing parentheses.\n",
    "For example, floating point numbers have a method called ``is_integer`` that checks whether the value is an integer:"
   ]
  },
  {
   "cell_type": "code",
   "execution_count": 12,
   "metadata": {},
   "outputs": [
    {
     "data": {
      "text/plain": [
       "False"
      ]
     },
     "execution_count": 12,
     "metadata": {},
     "output_type": "execute_result"
    }
   ],
   "source": [
    "x = 4.5\n",
    "x.is_integer()"
   ]
  },
  {
   "cell_type": "code",
   "execution_count": 13,
   "metadata": {},
   "outputs": [
    {
     "data": {
      "text/plain": [
       "True"
      ]
     },
     "execution_count": 13,
     "metadata": {},
     "output_type": "execute_result"
    }
   ],
   "source": [
    "x = 4.0\n",
    "x.is_integer()"
   ]
  },
  {
   "cell_type": "markdown",
   "metadata": {},
   "source": [
    "When we say that everything in Python is an object, we really mean that *everything* is an object – even the attributes and methods of objects are themselves objects with their own ``type`` information:"
   ]
  },
  {
   "cell_type": "code",
   "execution_count": 14,
   "metadata": {},
   "outputs": [
    {
     "data": {
      "text/plain": [
       "builtin_function_or_method"
      ]
     },
     "execution_count": 14,
     "metadata": {},
     "output_type": "execute_result"
    }
   ],
   "source": [
    "type(x.is_integer)"
   ]
  },
  {
   "cell_type": "markdown",
   "metadata": {},
   "source": [
    "We'll find that the everything-is-object design choice of Python allows for some very convenient language constructs."
   ]
  },
  {
   "cell_type": "markdown",
   "metadata": {},
   "source": [
    "<!--NAVIGATION-->\n",
    "< [Basic Python Semantics: Variables and Objects](#section03) | [Contents](#Index) | [Built-In Types: Simple Values](#section05) >"
   ]
  },
  {
   "cell_type": "markdown",
   "metadata": {},
   "source": [
    "<a id='section04'></a>"
   ]
  },
  {
   "cell_type": "markdown",
   "metadata": {},
   "source": [
    "# Basic Python Semantics: Operators"
   ]
  },
  {
   "cell_type": "markdown",
   "metadata": {},
   "source": [
    "In the previous section, we began to look at the semantics of Python variables and objects; here we'll dig into the semantics of the various *operators* included in the language.\n",
    "By the end of this section, you'll have the basic tools to begin comparing and operating on data in Python."
   ]
  },
  {
   "cell_type": "markdown",
   "metadata": {},
   "source": [
    "## Arithmetic Operations\n",
    "Python implements seven basic binary arithmetic operators, two of which can double as unary operators.\n",
    "They are summarized in the following table:\n",
    "\n",
    "| Operator     | Name           | Description                                            |\n",
    "|--------------|----------------|--------------------------------------------------------|\n",
    "| ``a + b``    | Addition       | Sum of ``a`` and ``b``                                 |\n",
    "| ``a - b``    | Subtraction    | Difference of ``a`` and ``b``                          |\n",
    "| ``a * b``    | Multiplication | Product of ``a`` and ``b``                             |\n",
    "| ``a / b``    | True division  | Quotient of ``a`` and ``b``                            |\n",
    "| ``a // b``   | Floor division | Quotient of ``a`` and ``b``, removing fractional parts |\n",
    "| ``a % b``    | Modulus        | Integer remainder after division of ``a`` by ``b``     |\n",
    "| ``a ** b``   | Exponentiation | ``a`` raised to the power of ``b``                     |\n",
    "| ``-a``       | Negation       | The negative of ``a``                                  |\n",
    "| ``+a``       | Unary plus     | ``a`` unchanged (rarely used)                          |\n",
    "\n",
    "These operators can be used and combined in intuitive ways, using standard parentheses to group operations.\n",
    "For example:"
   ]
  },
  {
   "cell_type": "code",
   "execution_count": 1,
   "metadata": {},
   "outputs": [
    {
     "data": {
      "text/plain": [
       "42.0"
      ]
     },
     "execution_count": 1,
     "metadata": {},
     "output_type": "execute_result"
    }
   ],
   "source": [
    "# addition, subtraction, multiplication\n",
    "(4 + 8) * (6.5 - 3)"
   ]
  },
  {
   "cell_type": "markdown",
   "metadata": {},
   "source": [
    "Floor division is true division with fractional parts truncated:"
   ]
  },
  {
   "cell_type": "code",
   "execution_count": 2,
   "metadata": {},
   "outputs": [
    {
     "name": "stdout",
     "output_type": "stream",
     "text": [
      "5.5\n"
     ]
    }
   ],
   "source": [
    "# True division\n",
    "print(11 / 2)"
   ]
  },
  {
   "cell_type": "code",
   "execution_count": 3,
   "metadata": {},
   "outputs": [
    {
     "name": "stdout",
     "output_type": "stream",
     "text": [
      "5\n"
     ]
    }
   ],
   "source": [
    "# Floor division\n",
    "print(11 // 2)"
   ]
  },
  {
   "cell_type": "markdown",
   "metadata": {},
   "source": [
    "The floor division operator was added in Python 3; you should be aware if working in Python 2 that the standard division operator (``/``) acts like floor division for integers and like true division for floating-point numbers.\n",
    "\n",
    "Finally, I'll mention an eighth arithmetic operator that was added in Python 3.5: the ``a @ b`` operator, which is meant to indicate the *matrix product* of ``a`` and ``b``, for use in various linear algebra packages."
   ]
  },
  {
   "cell_type": "markdown",
   "metadata": {},
   "source": [
    "## Bitwise Operations\n",
    "In addition to the standard numerical operations, Python includes operators to perform bitwise logical operations on integers.\n",
    "These are much less commonly used than the standard arithmetic operations, but it's useful to know that they exist.\n",
    "The six bitwise operators are summarized in the following table:\n",
    "\n",
    "| Operator     | Name            | Description                                 |\n",
    "|--------------|-----------------|---------------------------------------------|\n",
    "| ``a & b``    | Bitwise AND     | Bits defined in both ``a`` and ``b``        |\n",
    "| <code>a &#124; b</code>| Bitwise OR      | Bits defined in ``a`` or ``b`` or both      |\n",
    "| ``a ^ b``    | Bitwise XOR     | Bits defined in ``a`` or ``b`` but not both |\n",
    "| ``a << b``   | Bit shift left  | Shift bits of ``a`` left by ``b`` units     |\n",
    "| ``a >> b``   | Bit shift right | Shift bits of ``a`` right by ``b`` units    |\n",
    "| ``~a``       | Bitwise NOT     | Bitwise negation of ``a``                          |\n",
    "\n",
    "These bitwise operators only make sense in terms of the binary representation of numbers, which you can see using the built-in ``bin`` function:"
   ]
  },
  {
   "cell_type": "code",
   "execution_count": 4,
   "metadata": {},
   "outputs": [
    {
     "data": {
      "text/plain": [
       "'0b1010'"
      ]
     },
     "execution_count": 4,
     "metadata": {},
     "output_type": "execute_result"
    }
   ],
   "source": [
    "bin(10)"
   ]
  },
  {
   "cell_type": "markdown",
   "metadata": {},
   "source": [
    "The result is prefixed with ``'0b'``, which indicates a binary representation.\n",
    "The rest of the digits indicate that the number 10 is expressed as the sum $1 \\cdot 2^3 + 0 \\cdot 2^2 + 1 \\cdot 2^1 + 0 \\cdot 2^0$.\n",
    "Similarly, we can write:"
   ]
  },
  {
   "cell_type": "code",
   "execution_count": 5,
   "metadata": {},
   "outputs": [
    {
     "data": {
      "text/plain": [
       "'0b100'"
      ]
     },
     "execution_count": 5,
     "metadata": {},
     "output_type": "execute_result"
    }
   ],
   "source": [
    "bin(4)"
   ]
  },
  {
   "cell_type": "markdown",
   "metadata": {},
   "source": [
    "Now, using bitwise OR, we can find the number which combines the bits of 4 and 10:"
   ]
  },
  {
   "cell_type": "code",
   "execution_count": 6,
   "metadata": {},
   "outputs": [
    {
     "data": {
      "text/plain": [
       "14"
      ]
     },
     "execution_count": 6,
     "metadata": {},
     "output_type": "execute_result"
    }
   ],
   "source": [
    "4 | 10"
   ]
  },
  {
   "cell_type": "code",
   "execution_count": 7,
   "metadata": {},
   "outputs": [
    {
     "data": {
      "text/plain": [
       "'0b1110'"
      ]
     },
     "execution_count": 7,
     "metadata": {},
     "output_type": "execute_result"
    }
   ],
   "source": [
    "bin(4 | 10)"
   ]
  },
  {
   "cell_type": "markdown",
   "metadata": {},
   "source": [
    "These bitwise operators are not as immediately useful as the standard arithmetic operators, but it's helpful to see them at least once to understand what class of operation they perform.\n",
    "In particular, users from other languages are sometimes tempted to use XOR (i.e., ``a ^ b``) when they really mean exponentiation (i.e., ``a ** b``)."
   ]
  },
  {
   "cell_type": "markdown",
   "metadata": {},
   "source": [
    "## Assignment Operations\n",
    "We've seen that variables can be assigned with the \"``=``\" operator, and the values stored for later use. For example:"
   ]
  },
  {
   "cell_type": "code",
   "execution_count": 8,
   "metadata": {},
   "outputs": [
    {
     "name": "stdout",
     "output_type": "stream",
     "text": [
      "24\n"
     ]
    }
   ],
   "source": [
    "a = 24\n",
    "print(a)"
   ]
  },
  {
   "cell_type": "markdown",
   "metadata": {},
   "source": [
    "We can use these variables in expressions with any of the operators mentioned earlier.\n",
    "For example, to add 2 to ``a`` we write:"
   ]
  },
  {
   "cell_type": "code",
   "execution_count": 9,
   "metadata": {},
   "outputs": [
    {
     "data": {
      "text/plain": [
       "26"
      ]
     },
     "execution_count": 9,
     "metadata": {},
     "output_type": "execute_result"
    }
   ],
   "source": [
    "a + 2"
   ]
  },
  {
   "cell_type": "markdown",
   "metadata": {},
   "source": [
    "We might want to update the variable ``a`` with this new value; in this case, we could combine the addition and the assignment and write ``a = a + 2``.\n",
    "Because this type of combined operation and assignment is so common, Python includes built-in update operators for all of the arithmetic operations:"
   ]
  },
  {
   "cell_type": "code",
   "execution_count": 10,
   "metadata": {},
   "outputs": [
    {
     "name": "stdout",
     "output_type": "stream",
     "text": [
      "26\n"
     ]
    }
   ],
   "source": [
    "a += 2  # equivalent to a = a + 2\n",
    "print(a)"
   ]
  },
  {
   "cell_type": "markdown",
   "metadata": {},
   "source": [
    "There is an augmented assignment operator corresponding to each of the binary operators listed earlier; in brief, they are:\n",
    "\n",
    "|||||\n",
    "|-|-|\n",
    "|``a += b``| ``a -= b``|``a *= b``| ``a /= b``|\n",
    "|``a //= b``| ``a %= b``|``a **= b``|``a &= b``|\n",
    "|<code>a &#124;= b</code>| ``a ^= b``|``a <<= b``| ``a >>= b``|\n",
    "\n",
    "Each one is equivalent to the corresponding operation followed by assignment: that is, for any operator \"``■``\", the expression ``a ■= b`` is equivalent to ``a = a ■ b``, with a slight catch.\n",
    "For mutable objects like lists, arrays, or DataFrames, these augmented assignment operations are actually subtly different than their more verbose counterparts: they modify the contents of the original object rather than creating a new object to store the result."
   ]
  },
  {
   "cell_type": "markdown",
   "metadata": {},
   "source": [
    "## Comparison Operations\n",
    "\n",
    "Another type of operation which can be very useful is comparison of different values.\n",
    "For this, Python implements standard comparison operators, which return Boolean values ``True`` and ``False``.\n",
    "The comparison operations are listed in the following table:\n",
    "\n",
    "| Operation     | Description                       || Operation     | Description                          |\n",
    "|---------------|-----------------------------------||---------------|--------------------------------------|\n",
    "| ``a == b``    | ``a`` equal to ``b``              || ``a != b``    | ``a`` not equal to ``b``             |\n",
    "| ``a < b``     | ``a`` less than ``b``             || ``a > b``     | ``a`` greater than ``b``             |\n",
    "| ``a <= b``    | ``a`` less than or equal to ``b`` || ``a >= b``    | ``a`` greater than or equal to ``b`` |\n",
    "\n",
    "These comparison operators can be combined with the arithmetic and bitwise operators to express a virtually limitless range of tests for the numbers.\n",
    "For example, we can check if a number is odd by checking that the modulus with 2 returns 1:"
   ]
  },
  {
   "cell_type": "code",
   "execution_count": 11,
   "metadata": {},
   "outputs": [
    {
     "data": {
      "text/plain": [
       "True"
      ]
     },
     "execution_count": 11,
     "metadata": {},
     "output_type": "execute_result"
    }
   ],
   "source": [
    "# 25 is odd\n",
    "25 % 2 == 1"
   ]
  },
  {
   "cell_type": "code",
   "execution_count": 12,
   "metadata": {},
   "outputs": [
    {
     "data": {
      "text/plain": [
       "False"
      ]
     },
     "execution_count": 12,
     "metadata": {},
     "output_type": "execute_result"
    }
   ],
   "source": [
    "# 66 is odd\n",
    "66 % 2 == 1"
   ]
  },
  {
   "cell_type": "markdown",
   "metadata": {},
   "source": [
    "We can string-together multiple comparisons to check more complicated relationships:"
   ]
  },
  {
   "cell_type": "code",
   "execution_count": 13,
   "metadata": {},
   "outputs": [
    {
     "data": {
      "text/plain": [
       "True"
      ]
     },
     "execution_count": 13,
     "metadata": {},
     "output_type": "execute_result"
    }
   ],
   "source": [
    "# check if a is between 15 and 30\n",
    "a = 25\n",
    "15 < a < 30"
   ]
  },
  {
   "cell_type": "markdown",
   "metadata": {},
   "source": [
    "And, just to make your head hurt a bit, take a look at this comparison:"
   ]
  },
  {
   "cell_type": "code",
   "execution_count": 14,
   "metadata": {},
   "outputs": [
    {
     "data": {
      "text/plain": [
       "True"
      ]
     },
     "execution_count": 14,
     "metadata": {},
     "output_type": "execute_result"
    }
   ],
   "source": [
    "-1 == ~0"
   ]
  },
  {
   "cell_type": "markdown",
   "metadata": {},
   "source": [
    "Recall that ``~`` is the bit-flip operator, and evidently when you flip all the bits of zero you end up with -1.\n",
    "If you're curious as to why this is, look up the *two's complement* integer encoding scheme, which is what Python uses to encode signed integers, and think about what happens when you start flipping all the bits of integers encoded this way."
   ]
  },
  {
   "cell_type": "markdown",
   "metadata": {},
   "source": [
    "## Boolean Operations\n",
    "When working with Boolean values, Python provides operators to combine the values using the standard concepts of \"and\", \"or\", and \"not\".\n",
    "Predictably, these operators are expressed using the words ``and``, ``or``, and ``not``:"
   ]
  },
  {
   "cell_type": "code",
   "execution_count": 15,
   "metadata": {},
   "outputs": [
    {
     "data": {
      "text/plain": [
       "True"
      ]
     },
     "execution_count": 15,
     "metadata": {},
     "output_type": "execute_result"
    }
   ],
   "source": [
    "x = 4\n",
    "(x < 6) and (x > 2)"
   ]
  },
  {
   "cell_type": "code",
   "execution_count": 16,
   "metadata": {},
   "outputs": [
    {
     "data": {
      "text/plain": [
       "True"
      ]
     },
     "execution_count": 16,
     "metadata": {},
     "output_type": "execute_result"
    }
   ],
   "source": [
    "(x > 10) or (x % 2 == 0)"
   ]
  },
  {
   "cell_type": "code",
   "execution_count": 17,
   "metadata": {},
   "outputs": [
    {
     "data": {
      "text/plain": [
       "False"
      ]
     },
     "execution_count": 17,
     "metadata": {},
     "output_type": "execute_result"
    }
   ],
   "source": [
    "not (x < 6)"
   ]
  },
  {
   "cell_type": "markdown",
   "metadata": {},
   "source": [
    "Boolean algebra aficionados might notice that the XOR operator is not included; this can of course be constructed in several ways from a compound statement of the other operators.\n",
    "Otherwise, a clever trick you can use for XOR of Boolean values is the following:"
   ]
  },
  {
   "cell_type": "code",
   "execution_count": 18,
   "metadata": {},
   "outputs": [
    {
     "data": {
      "text/plain": [
       "False"
      ]
     },
     "execution_count": 18,
     "metadata": {},
     "output_type": "execute_result"
    }
   ],
   "source": [
    "# (x > 1) xor (x < 10)\n",
    "(x > 1) != (x < 10)"
   ]
  },
  {
   "cell_type": "markdown",
   "metadata": {},
   "source": [
    "These sorts of Boolean operations will become extremely useful when we begin discussing *control flow statements* such as conditionals and loops.\n",
    "\n",
    "One sometimes confusing thing about the language is when to use Boolean operators (``and``, ``or``, ``not``), and when to use bitwise operations (``&``, ``|``, ``~``).\n",
    "The answer lies in their names: Boolean operators should be used when you want to compute *Boolean values (i.e., truth or falsehood) of entire statements*.\n",
    "Bitwise operations should be used when you want to *operate on individual bits or components of the objects in question*."
   ]
  },
  {
   "cell_type": "markdown",
   "metadata": {},
   "source": [
    "## Identity and Membership Operators\n",
    "\n",
    "Like ``and``, ``or``, and ``not``, Python also contains prose-like operators  to check for identity and membership.\n",
    "They are the following:\n",
    "\n",
    "| Operator      | Description                                       |\n",
    "|---------------|---------------------------------------------------|\n",
    "| ``a is b``    | True if ``a`` and ``b`` are identical objects     |\n",
    "| ``a is not b``| True if ``a`` and ``b`` are not identical objects |\n",
    "| ``a in b``    | True if ``a`` is a member of ``b``                |\n",
    "| ``a not in b``| True if ``a`` is not a member of ``b``            |"
   ]
  },
  {
   "cell_type": "markdown",
   "metadata": {},
   "source": [
    "### Identity Operators: \"``is``\" and \"``is not``\"\n",
    "\n",
    "The identity operators, \"``is``\" and \"``is not``\" check for *object identity*.\n",
    "Object identity is different than equality, as we can see here:"
   ]
  },
  {
   "cell_type": "code",
   "execution_count": 19,
   "metadata": {
    "collapsed": true
   },
   "outputs": [],
   "source": [
    "a = [1, 2, 3]\n",
    "b = [1, 2, 3]"
   ]
  },
  {
   "cell_type": "code",
   "execution_count": 20,
   "metadata": {},
   "outputs": [
    {
     "data": {
      "text/plain": [
       "True"
      ]
     },
     "execution_count": 20,
     "metadata": {},
     "output_type": "execute_result"
    }
   ],
   "source": [
    "a == b"
   ]
  },
  {
   "cell_type": "code",
   "execution_count": 21,
   "metadata": {},
   "outputs": [
    {
     "data": {
      "text/plain": [
       "False"
      ]
     },
     "execution_count": 21,
     "metadata": {},
     "output_type": "execute_result"
    }
   ],
   "source": [
    "a is b"
   ]
  },
  {
   "cell_type": "code",
   "execution_count": 22,
   "metadata": {},
   "outputs": [
    {
     "data": {
      "text/plain": [
       "True"
      ]
     },
     "execution_count": 22,
     "metadata": {},
     "output_type": "execute_result"
    }
   ],
   "source": [
    "a is not b"
   ]
  },
  {
   "cell_type": "markdown",
   "metadata": {},
   "source": [
    "What do identical objects look like? Here is an example:"
   ]
  },
  {
   "cell_type": "code",
   "execution_count": 23,
   "metadata": {},
   "outputs": [
    {
     "data": {
      "text/plain": [
       "True"
      ]
     },
     "execution_count": 23,
     "metadata": {},
     "output_type": "execute_result"
    }
   ],
   "source": [
    "a = [1, 2, 3]\n",
    "b = a\n",
    "a is b"
   ]
  },
  {
   "cell_type": "markdown",
   "metadata": {},
   "source": [
    "The difference between the two cases here is that in the first, ``a`` and ``b`` point to *different objects*, while in the second they point to the *same object*.\n",
    "As we saw in the previous section, Python variables are pointers. The \"``is``\" operator checks whether the two variables are pointing to the same container (object), rather than referring to what the container contains.\n",
    "With this in mind, in most cases that a beginner is tempted to use \"``is``\" what they really mean is ``==``."
   ]
  },
  {
   "cell_type": "markdown",
   "metadata": {},
   "source": [
    "### Membership operators\n",
    "Membership operators check for membership within compound objects.\n",
    "So, for example, we can write:"
   ]
  },
  {
   "cell_type": "code",
   "execution_count": 24,
   "metadata": {},
   "outputs": [
    {
     "data": {
      "text/plain": [
       "True"
      ]
     },
     "execution_count": 24,
     "metadata": {},
     "output_type": "execute_result"
    }
   ],
   "source": [
    "1 in [1, 2, 3]"
   ]
  },
  {
   "cell_type": "code",
   "execution_count": 25,
   "metadata": {},
   "outputs": [
    {
     "data": {
      "text/plain": [
       "False"
      ]
     },
     "execution_count": 25,
     "metadata": {},
     "output_type": "execute_result"
    }
   ],
   "source": [
    "2 not in [1, 2, 3]"
   ]
  },
  {
   "cell_type": "markdown",
   "metadata": {},
   "source": [
    "These membership operations are an example of what makes Python so easy to use compared to lower-level languages such as C.\n",
    "In C, membership would generally be determined by manually constructing a loop over the list and checking for equality of each value.\n",
    "In Python, you just type what you want to know, in a manner reminiscent of straightforward English prose."
   ]
  },
  {
   "cell_type": "markdown",
   "metadata": {},
   "source": [
    "<!--NAVIGATION-->\n",
    "< [Basic Python Semantics: Operators](#section04) | [Contents](#Index) | [Built-In Data Structures](#section06) >"
   ]
  },
  {
   "cell_type": "markdown",
   "metadata": {},
   "source": [
    "<a id='section05'></a>"
   ]
  },
  {
   "cell_type": "markdown",
   "metadata": {},
   "source": [
    "# Built-In Types: Simple Values"
   ]
  },
  {
   "cell_type": "markdown",
   "metadata": {},
   "source": [
    "When discussing Python variables and objects, we mentioned the fact that all Python objects have type information attached. Here we'll briefly walk through the built-in simple types offered by Python.\n",
    "We say \"simple types\" to contrast with several compound types, which will be discussed in the following section.\n",
    "\n",
    "Python's simple types are summarized in the following table:\n",
    "\n",
    "<center>**Python Scalar Types**</center>\n",
    "\n",
    "| Type        | Example        | Description                                                  |\n",
    "|-------------|----------------|--------------------------------------------------------------|\n",
    "| ``int``     | ``x = 1``      | integers (i.e., whole numbers)                               |\n",
    "| ``float``   | ``x = 1.0``    | floating-point numbers (i.e., real numbers)                  |\n",
    "| ``complex`` | ``x = 1 + 2j`` | Complex numbers (i.e., numbers with real and imaginary part) |\n",
    "| ``bool``    | ``x = True``   | Boolean: True/False values                                   |\n",
    "| ``str``     | ``x = 'abc'``  | String: characters or text                                   |\n",
    "| ``NoneType``| ``x = None``   | Special object indicating nulls                              |\n",
    "\n",
    "We'll take a quick look at each of these in turn."
   ]
  },
  {
   "cell_type": "markdown",
   "metadata": {},
   "source": [
    "## Integers\n",
    "The most basic numerical type is the integer.\n",
    "Any number without a decimal point is an integer:"
   ]
  },
  {
   "cell_type": "code",
   "execution_count": 1,
   "metadata": {},
   "outputs": [
    {
     "data": {
      "text/plain": [
       "int"
      ]
     },
     "execution_count": 1,
     "metadata": {},
     "output_type": "execute_result"
    }
   ],
   "source": [
    "x = 1\n",
    "type(x)"
   ]
  },
  {
   "cell_type": "markdown",
   "metadata": {},
   "source": [
    "Python integers are actually quite a bit more sophisticated than integers in languages like ``C``.\n",
    "C integers are fixed-precision, and usually overflow at some value (often near $2^{31}$ or $2^{63}$, depending on your system).\n",
    "Python integers are variable-precision, so you can do computations that would overflow in other languages:"
   ]
  },
  {
   "cell_type": "code",
   "execution_count": 2,
   "metadata": {},
   "outputs": [
    {
     "data": {
      "text/plain": [
       "1606938044258990275541962092341162602522202993782792835301376"
      ]
     },
     "execution_count": 2,
     "metadata": {},
     "output_type": "execute_result"
    }
   ],
   "source": [
    "2 ** 200"
   ]
  },
  {
   "cell_type": "markdown",
   "metadata": {},
   "source": [
    "Another convenient feature of Python integers is that by default, division up-casts to floating-point type:"
   ]
  },
  {
   "cell_type": "code",
   "execution_count": 3,
   "metadata": {},
   "outputs": [
    {
     "data": {
      "text/plain": [
       "2.5"
      ]
     },
     "execution_count": 3,
     "metadata": {},
     "output_type": "execute_result"
    }
   ],
   "source": [
    "5 / 2"
   ]
  },
  {
   "cell_type": "markdown",
   "metadata": {},
   "source": [
    "Note that this upcasting is a feature of Python 3; in Python 2, like in many statically-typed languages such as C, integer division truncates any decimal and always returns an integer:\n",
    "``` python\n",
    "# Python 2 behavior\n",
    ">>> 5 / 2\n",
    "2\n",
    "```\n",
    "To recover this behavior in Python 3, you can use the floor-division operator:"
   ]
  },
  {
   "cell_type": "code",
   "execution_count": 4,
   "metadata": {},
   "outputs": [
    {
     "data": {
      "text/plain": [
       "2"
      ]
     },
     "execution_count": 4,
     "metadata": {},
     "output_type": "execute_result"
    }
   ],
   "source": [
    "5 // 2"
   ]
  },
  {
   "cell_type": "markdown",
   "metadata": {},
   "source": [
    "Finally, note that although Python *2.x* had both an ``int`` and ``long`` type, Python 3 combines the behavior of these two into a single ``int`` type."
   ]
  },
  {
   "cell_type": "markdown",
   "metadata": {},
   "source": [
    "## Floating-Point Numbers\n",
    "The floating-point type can store fractional numbers.\n",
    "They can be defined either in standard decimal notation, or in exponential notation:"
   ]
  },
  {
   "cell_type": "code",
   "execution_count": 5,
   "metadata": {},
   "outputs": [
    {
     "name": "stdout",
     "output_type": "stream",
     "text": [
      "True\n"
     ]
    }
   ],
   "source": [
    "x = 0.000005\n",
    "y = 5e-6\n",
    "print(x == y)"
   ]
  },
  {
   "cell_type": "code",
   "execution_count": 6,
   "metadata": {},
   "outputs": [
    {
     "name": "stdout",
     "output_type": "stream",
     "text": [
      "True\n"
     ]
    }
   ],
   "source": [
    "x = 1400000.00\n",
    "y = 1.4e6\n",
    "print(x == y)"
   ]
  },
  {
   "cell_type": "markdown",
   "metadata": {},
   "source": [
    "In the exponential notation, the ``e`` or ``E`` can be read \"...times ten to the...\",\n",
    "so that ``1.4e6`` is interpreted as $~1.4 \\times 10^6$."
   ]
  },
  {
   "cell_type": "markdown",
   "metadata": {},
   "source": [
    "An integer can be explicitly converted to a float with the ``float`` constructor:"
   ]
  },
  {
   "cell_type": "code",
   "execution_count": 7,
   "metadata": {},
   "outputs": [
    {
     "data": {
      "text/plain": [
       "1.0"
      ]
     },
     "execution_count": 7,
     "metadata": {},
     "output_type": "execute_result"
    }
   ],
   "source": [
    "float(1)"
   ]
  },
  {
   "cell_type": "markdown",
   "metadata": {},
   "source": [
    "### Aside: Floating-point precision\n",
    "One thing to be aware of with floating point arithmetic is that its precision is limited, which can cause equality tests to be unstable. For example:"
   ]
  },
  {
   "cell_type": "code",
   "execution_count": 8,
   "metadata": {},
   "outputs": [
    {
     "data": {
      "text/plain": [
       "False"
      ]
     },
     "execution_count": 8,
     "metadata": {},
     "output_type": "execute_result"
    }
   ],
   "source": [
    "0.1 + 0.2 == 0.3"
   ]
  },
  {
   "cell_type": "markdown",
   "metadata": {},
   "source": [
    "Why is this the case? It turns out that it is not a behavior unique to Python, but is due to the fixed-precision format of the binary floating-point storage used by most, if not all, scientific computing platforms.\n",
    "All programming languages using floating-point numbers store them in a fixed number of bits, and this leads some numbers to be represented only approximately.\n",
    "We can see this by printing the three values to high precision:"
   ]
  },
  {
   "cell_type": "code",
   "execution_count": 9,
   "metadata": {},
   "outputs": [
    {
     "name": "stdout",
     "output_type": "stream",
     "text": [
      "0.1 = 0.10000000000000001\n",
      "0.2 = 0.20000000000000001\n",
      "0.3 = 0.29999999999999999\n"
     ]
    }
   ],
   "source": [
    "print(\"0.1 = {0:.17f}\".format(0.1))\n",
    "print(\"0.2 = {0:.17f}\".format(0.2))\n",
    "print(\"0.3 = {0:.17f}\".format(0.3))"
   ]
  },
  {
   "cell_type": "markdown",
   "metadata": {},
   "source": [
    "We're accustomed to thinking of numbers in decimal (base-10) notation, so that each fraction must be expressed as a sum of powers of 10:\n",
    "$$\n",
    "1 /8 = 1\\cdot 10^{-1} + 2\\cdot 10^{-2} + 5\\cdot 10^{-3}\n",
    "$$\n",
    "In the familiar base-10 representation, we represent this in the familiar decimal expression: $0.125$.\n",
    "\n",
    "Computers usually store values in binary notation, so that each number is expressed as a sum of powers of 2:\n",
    "$$\n",
    "1/8 = 0\\cdot 2^{-1} + 0\\cdot 2^{-2} + 1\\cdot 2^{-3}\n",
    "$$\n",
    "In a base-2 representation, we can write this $0.001_2$, where the subscript 2 indicates binary notation.\n",
    "The value $0.125 = 0.001_2$ happens to be one number which both binary and decimal notation can represent in a finite number of digits.\n",
    "\n",
    "In the familiar base-10 representation of numbers, you are probably familiar with numbers that can't be expressed in a finite number of digits.\n",
    "For example, dividing $1$ by $3$ gives, in standard decimal notation:\n",
    "$$\n",
    "1 / 3 = 0.333333333\\cdots\n",
    "$$\n",
    "The 3s go on forever: that is, to truly represent this quotient, the number of required digits is infinite!\n",
    "\n",
    "Similarly, there are numbers for which binary representations require an infinite number of digits.\n",
    "For example:\n",
    "$$\n",
    "1 / 10 = 0.00011001100110011\\cdots_2\n",
    "$$\n",
    "Just as decimal notation requires an infinite number of digits to perfectly represent $1/3$, binary notation requires an infinite number of digits to represent $1/10$.\n",
    "Python internally truncates these representations at 52 bits beyond the first nonzero bit on most systems.\n",
    "\n",
    "This rounding error for floating-point values is a necessary evil of working with floating-point numbers.\n",
    "The best way to deal with it is to always keep in mind that floating-point arithmetic is approximate, and *never* rely on exact equality tests with floating-point values."
   ]
  },
  {
   "cell_type": "markdown",
   "metadata": {},
   "source": [
    "## Complex Numbers\n",
    "Complex numbers are numbers with real and imaginary (floating-point) parts.\n",
    "We've seen integers and real numbers before; we can use these to construct a complex number:"
   ]
  },
  {
   "cell_type": "code",
   "execution_count": 10,
   "metadata": {},
   "outputs": [
    {
     "data": {
      "text/plain": [
       "(1+2j)"
      ]
     },
     "execution_count": 10,
     "metadata": {},
     "output_type": "execute_result"
    }
   ],
   "source": [
    "complex(1, 2)"
   ]
  },
  {
   "cell_type": "markdown",
   "metadata": {},
   "source": [
    "Alternatively, we can use the \"``j``\" suffix in expressions to indicate the imaginary part:"
   ]
  },
  {
   "cell_type": "code",
   "execution_count": 11,
   "metadata": {},
   "outputs": [
    {
     "data": {
      "text/plain": [
       "(1+2j)"
      ]
     },
     "execution_count": 11,
     "metadata": {},
     "output_type": "execute_result"
    }
   ],
   "source": [
    "1 + 2j"
   ]
  },
  {
   "cell_type": "markdown",
   "metadata": {},
   "source": [
    "Complex numbers have a variety of interesting attributes and methods, which we'll briefly demonstrate here:"
   ]
  },
  {
   "cell_type": "code",
   "execution_count": 12,
   "metadata": {
    "collapsed": true
   },
   "outputs": [],
   "source": [
    "c = 3 + 4j"
   ]
  },
  {
   "cell_type": "code",
   "execution_count": 13,
   "metadata": {},
   "outputs": [
    {
     "data": {
      "text/plain": [
       "3.0"
      ]
     },
     "execution_count": 13,
     "metadata": {},
     "output_type": "execute_result"
    }
   ],
   "source": [
    "c.real  # real part"
   ]
  },
  {
   "cell_type": "code",
   "execution_count": 14,
   "metadata": {},
   "outputs": [
    {
     "data": {
      "text/plain": [
       "4.0"
      ]
     },
     "execution_count": 14,
     "metadata": {},
     "output_type": "execute_result"
    }
   ],
   "source": [
    "c.imag  # imaginary part"
   ]
  },
  {
   "cell_type": "code",
   "execution_count": 15,
   "metadata": {},
   "outputs": [
    {
     "data": {
      "text/plain": [
       "(3-4j)"
      ]
     },
     "execution_count": 15,
     "metadata": {},
     "output_type": "execute_result"
    }
   ],
   "source": [
    "c.conjugate()  # complex conjugate"
   ]
  },
  {
   "cell_type": "code",
   "execution_count": 16,
   "metadata": {},
   "outputs": [
    {
     "data": {
      "text/plain": [
       "5.0"
      ]
     },
     "execution_count": 16,
     "metadata": {},
     "output_type": "execute_result"
    }
   ],
   "source": [
    "abs(c)  # magnitude, i.e. sqrt(c.real ** 2 + c.imag ** 2)"
   ]
  },
  {
   "cell_type": "markdown",
   "metadata": {},
   "source": [
    "## String Type\n",
    "Strings in Python are created with single or double quotes:"
   ]
  },
  {
   "cell_type": "code",
   "execution_count": 17,
   "metadata": {
    "collapsed": true
   },
   "outputs": [],
   "source": [
    "message = \"what do you like?\"\n",
    "response = 'spam'"
   ]
  },
  {
   "cell_type": "markdown",
   "metadata": {},
   "source": [
    "Python has many extremely useful string functions and methods; here are a few of them:"
   ]
  },
  {
   "cell_type": "code",
   "execution_count": 18,
   "metadata": {},
   "outputs": [
    {
     "data": {
      "text/plain": [
       "4"
      ]
     },
     "execution_count": 18,
     "metadata": {},
     "output_type": "execute_result"
    }
   ],
   "source": [
    "# length of string\n",
    "len(response)"
   ]
  },
  {
   "cell_type": "code",
   "execution_count": 19,
   "metadata": {},
   "outputs": [
    {
     "data": {
      "text/plain": [
       "'SPAM'"
      ]
     },
     "execution_count": 19,
     "metadata": {},
     "output_type": "execute_result"
    }
   ],
   "source": [
    "# Make upper-case. See also str.lower()\n",
    "response.upper()"
   ]
  },
  {
   "cell_type": "code",
   "execution_count": 20,
   "metadata": {},
   "outputs": [
    {
     "data": {
      "text/plain": [
       "'What do you like?'"
      ]
     },
     "execution_count": 20,
     "metadata": {},
     "output_type": "execute_result"
    }
   ],
   "source": [
    "# Capitalize. See also str.title()\n",
    "message.capitalize()"
   ]
  },
  {
   "cell_type": "code",
   "execution_count": 21,
   "metadata": {},
   "outputs": [
    {
     "data": {
      "text/plain": [
       "'what do you like?spam'"
      ]
     },
     "execution_count": 21,
     "metadata": {},
     "output_type": "execute_result"
    }
   ],
   "source": [
    "# concatenation with +\n",
    "message + response"
   ]
  },
  {
   "cell_type": "code",
   "execution_count": 22,
   "metadata": {},
   "outputs": [
    {
     "data": {
      "text/plain": [
       "'spamspamspamspamspam'"
      ]
     },
     "execution_count": 22,
     "metadata": {},
     "output_type": "execute_result"
    }
   ],
   "source": [
    "# multiplication is multiple concatenation\n",
    "5 * response"
   ]
  },
  {
   "cell_type": "code",
   "execution_count": 23,
   "metadata": {},
   "outputs": [
    {
     "data": {
      "text/plain": [
       "'w'"
      ]
     },
     "execution_count": 23,
     "metadata": {},
     "output_type": "execute_result"
    }
   ],
   "source": [
    "# Access individual characters (zero-based indexing)\n",
    "message[0]"
   ]
  },
  {
   "cell_type": "markdown",
   "metadata": {},
   "source": [
    "For more discussion of indexing in Python, see [\"Lists\"](06-Built-in-Data-Structures.ipynb#Lists)."
   ]
  },
  {
   "cell_type": "markdown",
   "metadata": {},
   "source": [
    "## None Type\n",
    "Python includes a special type, the ``NoneType``, which has only a single possible value: ``None``. For example:"
   ]
  },
  {
   "cell_type": "code",
   "execution_count": 24,
   "metadata": {},
   "outputs": [
    {
     "data": {
      "text/plain": [
       "NoneType"
      ]
     },
     "execution_count": 24,
     "metadata": {},
     "output_type": "execute_result"
    }
   ],
   "source": [
    "type(None)"
   ]
  },
  {
   "cell_type": "markdown",
   "metadata": {},
   "source": [
    "You'll see ``None`` used in many places, but perhaps most commonly it is used as the default return value of a function.\n",
    "For example, the ``print()`` function in Python 3 does not return anything, but we can still catch its value:"
   ]
  },
  {
   "cell_type": "code",
   "execution_count": 25,
   "metadata": {},
   "outputs": [
    {
     "name": "stdout",
     "output_type": "stream",
     "text": [
      "abc\n"
     ]
    }
   ],
   "source": [
    "return_value = print('abc')"
   ]
  },
  {
   "cell_type": "code",
   "execution_count": 26,
   "metadata": {},
   "outputs": [
    {
     "name": "stdout",
     "output_type": "stream",
     "text": [
      "None\n"
     ]
    }
   ],
   "source": [
    "print(return_value)"
   ]
  },
  {
   "cell_type": "markdown",
   "metadata": {},
   "source": [
    "Likewise, any function in Python with no return value is, in reality, returning ``None``."
   ]
  },
  {
   "cell_type": "markdown",
   "metadata": {},
   "source": [
    "## Boolean Type\n",
    "The Boolean type is a simple type with two possible values: ``True`` and ``False``, and is returned by comparison operators discussed previously:"
   ]
  },
  {
   "cell_type": "code",
   "execution_count": 27,
   "metadata": {},
   "outputs": [
    {
     "data": {
      "text/plain": [
       "True"
      ]
     },
     "execution_count": 27,
     "metadata": {},
     "output_type": "execute_result"
    }
   ],
   "source": [
    "result = (4 < 5)\n",
    "result"
   ]
  },
  {
   "cell_type": "code",
   "execution_count": 28,
   "metadata": {},
   "outputs": [
    {
     "data": {
      "text/plain": [
       "bool"
      ]
     },
     "execution_count": 28,
     "metadata": {},
     "output_type": "execute_result"
    }
   ],
   "source": [
    "type(result)"
   ]
  },
  {
   "cell_type": "markdown",
   "metadata": {},
   "source": [
    "Keep in mind that the Boolean values are case-sensitive: unlike some other languages, ``True`` and ``False`` must be capitalized!"
   ]
  },
  {
   "cell_type": "code",
   "execution_count": 29,
   "metadata": {},
   "outputs": [
    {
     "name": "stdout",
     "output_type": "stream",
     "text": [
      "True False\n"
     ]
    }
   ],
   "source": [
    "print(True, False)"
   ]
  },
  {
   "cell_type": "markdown",
   "metadata": {},
   "source": [
    "Booleans can also be constructed using the ``bool()`` object constructor: values of any other type can be converted to Boolean via predictable rules.\n",
    "For example, any numeric type is False if equal to zero, and True otherwise:"
   ]
  },
  {
   "cell_type": "code",
   "execution_count": 30,
   "metadata": {},
   "outputs": [
    {
     "data": {
      "text/plain": [
       "True"
      ]
     },
     "execution_count": 30,
     "metadata": {},
     "output_type": "execute_result"
    }
   ],
   "source": [
    "bool(2014)"
   ]
  },
  {
   "cell_type": "code",
   "execution_count": 31,
   "metadata": {},
   "outputs": [
    {
     "data": {
      "text/plain": [
       "False"
      ]
     },
     "execution_count": 31,
     "metadata": {},
     "output_type": "execute_result"
    }
   ],
   "source": [
    "bool(0)"
   ]
  },
  {
   "cell_type": "code",
   "execution_count": 32,
   "metadata": {},
   "outputs": [
    {
     "data": {
      "text/plain": [
       "True"
      ]
     },
     "execution_count": 32,
     "metadata": {},
     "output_type": "execute_result"
    }
   ],
   "source": [
    "bool(3.1415)"
   ]
  },
  {
   "cell_type": "markdown",
   "metadata": {},
   "source": [
    "The Boolean conversion of ``None`` is always False:"
   ]
  },
  {
   "cell_type": "code",
   "execution_count": 33,
   "metadata": {},
   "outputs": [
    {
     "data": {
      "text/plain": [
       "False"
      ]
     },
     "execution_count": 33,
     "metadata": {},
     "output_type": "execute_result"
    }
   ],
   "source": [
    "bool(None)"
   ]
  },
  {
   "cell_type": "markdown",
   "metadata": {},
   "source": [
    "For strings, ``bool(s)`` is False for empty strings and True otherwise:"
   ]
  },
  {
   "cell_type": "code",
   "execution_count": 34,
   "metadata": {},
   "outputs": [
    {
     "data": {
      "text/plain": [
       "False"
      ]
     },
     "execution_count": 34,
     "metadata": {},
     "output_type": "execute_result"
    }
   ],
   "source": [
    "bool(\"\")"
   ]
  },
  {
   "cell_type": "code",
   "execution_count": 35,
   "metadata": {},
   "outputs": [
    {
     "data": {
      "text/plain": [
       "True"
      ]
     },
     "execution_count": 35,
     "metadata": {},
     "output_type": "execute_result"
    }
   ],
   "source": [
    "bool(\"abc\")"
   ]
  },
  {
   "cell_type": "markdown",
   "metadata": {},
   "source": [
    "For sequences, which we'll see in the next section, the Boolean representation is False for empty sequences and True for any other sequences"
   ]
  },
  {
   "cell_type": "code",
   "execution_count": 36,
   "metadata": {},
   "outputs": [
    {
     "data": {
      "text/plain": [
       "True"
      ]
     },
     "execution_count": 36,
     "metadata": {},
     "output_type": "execute_result"
    }
   ],
   "source": [
    "bool([1, 2, 3])"
   ]
  },
  {
   "cell_type": "code",
   "execution_count": 37,
   "metadata": {},
   "outputs": [
    {
     "data": {
      "text/plain": [
       "False"
      ]
     },
     "execution_count": 37,
     "metadata": {},
     "output_type": "execute_result"
    }
   ],
   "source": [
    "bool([])"
   ]
  },
  {
   "cell_type": "markdown",
   "metadata": {},
   "source": [
    "<!--NAVIGATION-->\n",
    "< [Built-In Types: Simple Values](#section05) | [Contents](#Index) | [Control Flow](#section07) >"
   ]
  },
  {
   "cell_type": "markdown",
   "metadata": {},
   "source": [
    "<a id='section06'></a>"
   ]
  },
  {
   "cell_type": "markdown",
   "metadata": {},
   "source": [
    "# Built-In Data Structures"
   ]
  },
  {
   "cell_type": "markdown",
   "metadata": {},
   "source": [
    "We have seen Python's simple types: ``int``, ``float``, ``complex``, ``bool``, ``str``, and so on.\n",
    "Python also has several built-in compound types, which act as containers for other types.\n",
    "These compound types are:\n",
    "\n",
    "| Type Name | Example                   |Description                            |\n",
    "|-----------|---------------------------|---------------------------------------|\n",
    "| ``list``  | ``[1, 2, 3]``             | Ordered collection                    |\n",
    "| ``tuple`` | ``(1, 2, 3)``             | Immutable ordered collection          |\n",
    "| ``dict``  | ``{'a':1, 'b':2, 'c':3}`` | Unordered (key,value) mapping         |\n",
    "| ``set``   | ``{1, 2, 3}``             | Unordered collection of unique values |\n",
    "\n",
    "As you can see, round, square, and curly brackets have distinct meanings when it comes to the type of collection produced.\n",
    "We'll take a quick tour of these data structures here."
   ]
  },
  {
   "cell_type": "markdown",
   "metadata": {},
   "source": [
    "## Lists\n",
    "Lists are the basic *ordered* and *mutable* data collection type in Python.\n",
    "They can be defined with comma-separated values between square brackets; for example, here is a list of the first several prime numbers:"
   ]
  },
  {
   "cell_type": "code",
   "execution_count": 1,
   "metadata": {
    "collapsed": true
   },
   "outputs": [],
   "source": [
    "L = [2, 3, 5, 7]"
   ]
  },
  {
   "cell_type": "markdown",
   "metadata": {},
   "source": [
    "Lists have a number of useful properties and methods available to them.\n",
    "Here we'll take a quick look at some of the more common and useful ones:"
   ]
  },
  {
   "cell_type": "code",
   "execution_count": 2,
   "metadata": {},
   "outputs": [
    {
     "data": {
      "text/plain": [
       "4"
      ]
     },
     "execution_count": 2,
     "metadata": {},
     "output_type": "execute_result"
    }
   ],
   "source": [
    "# Length of a list\n",
    "len(L)"
   ]
  },
  {
   "cell_type": "code",
   "execution_count": 3,
   "metadata": {},
   "outputs": [
    {
     "data": {
      "text/plain": [
       "[2, 3, 5, 7, 11]"
      ]
     },
     "execution_count": 3,
     "metadata": {},
     "output_type": "execute_result"
    }
   ],
   "source": [
    "# Append a value to the end\n",
    "L.append(11)\n",
    "L"
   ]
  },
  {
   "cell_type": "code",
   "execution_count": 4,
   "metadata": {},
   "outputs": [
    {
     "data": {
      "text/plain": [
       "[2, 3, 5, 7, 11, 13, 17, 19]"
      ]
     },
     "execution_count": 4,
     "metadata": {},
     "output_type": "execute_result"
    }
   ],
   "source": [
    "# Addition concatenates lists\n",
    "L + [13, 17, 19]"
   ]
  },
  {
   "cell_type": "code",
   "execution_count": 5,
   "metadata": {},
   "outputs": [
    {
     "data": {
      "text/plain": [
       "[1, 2, 3, 4, 5, 6]"
      ]
     },
     "execution_count": 5,
     "metadata": {},
     "output_type": "execute_result"
    }
   ],
   "source": [
    "# sort() method sorts in-place\n",
    "L = [2, 5, 1, 6, 3, 4]\n",
    "L.sort()\n",
    "L"
   ]
  },
  {
   "cell_type": "markdown",
   "metadata": {},
   "source": [
    "In addition, there are many more built-in list methods; they are well-covered in Python's [online documentation](https://docs.python.org/3/tutorial/datastructures.html).\n",
    "\n",
    "While we've been demonstrating lists containing values of a single type, one of the powerful features of Python's compound objects is that they can contain objects of *any* type, or even a mix of types. For example:"
   ]
  },
  {
   "cell_type": "code",
   "execution_count": 6,
   "metadata": {
    "collapsed": true
   },
   "outputs": [],
   "source": [
    "L = [1, 'two', 3.14, [0, 3, 5]]"
   ]
  },
  {
   "cell_type": "markdown",
   "metadata": {},
   "source": [
    "This flexibility is a consequence of Python's dynamic type system.\n",
    "Creating such a mixed sequence in a statically-typed language like C can be much more of a headache!\n",
    "We see that lists can even contain other lists as elements.\n",
    "Such type flexibility is an essential piece of what makes Python code relatively quick and easy to write.\n",
    "\n",
    "So far we've been considering manipulations of lists as a whole; another essential piece is the accessing of individual elements.\n",
    "This is done in Python via *indexing* and *slicing*, which we'll explore next."
   ]
  },
  {
   "cell_type": "markdown",
   "metadata": {},
   "source": [
    "### List indexing and slicing\n",
    "Python provides access to elements in compound types through *indexing* for single elements, and *slicing* for multiple elements.\n",
    "As we'll see, both are indicated by a square-bracket syntax.\n",
    "Suppose we return to our list of the first several primes:"
   ]
  },
  {
   "cell_type": "code",
   "execution_count": 7,
   "metadata": {
    "collapsed": true
   },
   "outputs": [],
   "source": [
    "L = [2, 3, 5, 7, 11]"
   ]
  },
  {
   "cell_type": "markdown",
   "metadata": {},
   "source": [
    "Python uses *zero-based* indexing, so we can access the first and second element in using the following syntax:"
   ]
  },
  {
   "cell_type": "code",
   "execution_count": 8,
   "metadata": {},
   "outputs": [
    {
     "data": {
      "text/plain": [
       "2"
      ]
     },
     "execution_count": 8,
     "metadata": {},
     "output_type": "execute_result"
    }
   ],
   "source": [
    "L[0]"
   ]
  },
  {
   "cell_type": "code",
   "execution_count": 9,
   "metadata": {},
   "outputs": [
    {
     "data": {
      "text/plain": [
       "3"
      ]
     },
     "execution_count": 9,
     "metadata": {},
     "output_type": "execute_result"
    }
   ],
   "source": [
    "L[1]"
   ]
  },
  {
   "cell_type": "markdown",
   "metadata": {},
   "source": [
    "Elements at the end of the list can be accessed with negative numbers, starting from -1:"
   ]
  },
  {
   "cell_type": "code",
   "execution_count": 10,
   "metadata": {},
   "outputs": [
    {
     "data": {
      "text/plain": [
       "11"
      ]
     },
     "execution_count": 10,
     "metadata": {},
     "output_type": "execute_result"
    }
   ],
   "source": [
    "L[-1]"
   ]
  },
  {
   "cell_type": "code",
   "execution_count": 11,
   "metadata": {},
   "outputs": [
    {
     "data": {
      "text/plain": [
       "7"
      ]
     },
     "execution_count": 11,
     "metadata": {},
     "output_type": "execute_result"
    }
   ],
   "source": [
    "L[-2]"
   ]
  },
  {
   "cell_type": "markdown",
   "metadata": {},
   "source": [
    "You can visualize this indexing scheme this way:"
   ]
  },
  {
   "cell_type": "markdown",
   "metadata": {},
   "source": [
    "![List Indexing Figure](fig/list-indexing.png)"
   ]
  },
  {
   "cell_type": "markdown",
   "metadata": {},
   "source": [
    "Here values in the list are represented by large numbers in the squares; list indices are represented by small numbers above and below.\n",
    "In this case, ``L[2]`` returns ``5``, because that is the next value at index ``2``."
   ]
  },
  {
   "cell_type": "markdown",
   "metadata": {},
   "source": [
    "Where *indexing* is a means of fetching a single value from the list, *slicing* is a means of accessing multiple values in sub-lists.\n",
    "It uses a colon to indicate the start point (inclusive) and end point (non-inclusive) of the sub-array.\n",
    "For example, to get the first three elements of the list, we can write:"
   ]
  },
  {
   "cell_type": "code",
   "execution_count": 12,
   "metadata": {},
   "outputs": [
    {
     "data": {
      "text/plain": [
       "[2, 3, 5]"
      ]
     },
     "execution_count": 12,
     "metadata": {},
     "output_type": "execute_result"
    }
   ],
   "source": [
    "L[0:3]"
   ]
  },
  {
   "cell_type": "markdown",
   "metadata": {},
   "source": [
    "Notice where ``0`` and ``3`` lie in the preceding diagram, and how the slice takes just the values between the indices.\n",
    "If we leave out the first index, ``0`` is assumed, so we can equivalently write:"
   ]
  },
  {
   "cell_type": "code",
   "execution_count": 13,
   "metadata": {},
   "outputs": [
    {
     "data": {
      "text/plain": [
       "[2, 3, 5]"
      ]
     },
     "execution_count": 13,
     "metadata": {},
     "output_type": "execute_result"
    }
   ],
   "source": [
    "L[:3]"
   ]
  },
  {
   "cell_type": "markdown",
   "metadata": {},
   "source": [
    "Similarly, if we leave out the last index, it defaults to the length of the list.\n",
    "Thus, the last three elements can be accessed as follows:"
   ]
  },
  {
   "cell_type": "code",
   "execution_count": 14,
   "metadata": {},
   "outputs": [
    {
     "data": {
      "text/plain": [
       "[5, 7, 11]"
      ]
     },
     "execution_count": 14,
     "metadata": {},
     "output_type": "execute_result"
    }
   ],
   "source": [
    "L[-3:]"
   ]
  },
  {
   "cell_type": "markdown",
   "metadata": {},
   "source": [
    "Finally, it is possible to specify a third integer that represents the step size; for example, to select every second element of the list, we can write:"
   ]
  },
  {
   "cell_type": "code",
   "execution_count": 15,
   "metadata": {},
   "outputs": [
    {
     "data": {
      "text/plain": [
       "[2, 5, 11]"
      ]
     },
     "execution_count": 15,
     "metadata": {},
     "output_type": "execute_result"
    }
   ],
   "source": [
    "L[::2]  # equivalent to L[0:len(L):2]"
   ]
  },
  {
   "cell_type": "markdown",
   "metadata": {},
   "source": [
    "A particularly useful version of this is to specify a negative step, which will reverse the array:"
   ]
  },
  {
   "cell_type": "code",
   "execution_count": 16,
   "metadata": {},
   "outputs": [
    {
     "data": {
      "text/plain": [
       "[11, 7, 5, 3, 2]"
      ]
     },
     "execution_count": 16,
     "metadata": {},
     "output_type": "execute_result"
    }
   ],
   "source": [
    "L[::-1]"
   ]
  },
  {
   "cell_type": "markdown",
   "metadata": {},
   "source": [
    "Both indexing and slicing can be used to set elements as well as access them.\n",
    "The syntax is as you would expect:"
   ]
  },
  {
   "cell_type": "code",
   "execution_count": 17,
   "metadata": {},
   "outputs": [
    {
     "name": "stdout",
     "output_type": "stream",
     "text": [
      "[100, 3, 5, 7, 11]\n"
     ]
    }
   ],
   "source": [
    "L[0] = 100\n",
    "print(L)"
   ]
  },
  {
   "cell_type": "code",
   "execution_count": 18,
   "metadata": {},
   "outputs": [
    {
     "name": "stdout",
     "output_type": "stream",
     "text": [
      "[100, 55, 56, 7, 11]\n"
     ]
    }
   ],
   "source": [
    "L[1:3] = [55, 56]\n",
    "print(L)"
   ]
  },
  {
   "cell_type": "markdown",
   "metadata": {},
   "source": [
    "A very similar slicing syntax is also used in many data science-oriented packages, including NumPy and Pandas (mentioned in the introduction).\n",
    "\n",
    "Now that we have seen Python lists and how to access elements in ordered compound types, let's take a look at the other three standard compound data types mentioned earlier."
   ]
  },
  {
   "cell_type": "markdown",
   "metadata": {},
   "source": [
    "## Tuples\n",
    "Tuples are in many ways similar to lists, but they are defined with parentheses rather than square brackets:"
   ]
  },
  {
   "cell_type": "code",
   "execution_count": 19,
   "metadata": {
    "collapsed": true
   },
   "outputs": [],
   "source": [
    "t = (1, 2, 3)"
   ]
  },
  {
   "cell_type": "markdown",
   "metadata": {},
   "source": [
    "They can also be defined without any brackets at all:"
   ]
  },
  {
   "cell_type": "code",
   "execution_count": 20,
   "metadata": {},
   "outputs": [
    {
     "name": "stdout",
     "output_type": "stream",
     "text": [
      "(1, 2, 3)\n"
     ]
    }
   ],
   "source": [
    "t = 1, 2, 3\n",
    "print(t)"
   ]
  },
  {
   "cell_type": "markdown",
   "metadata": {},
   "source": [
    "Like the lists discussed before, tuples have a length, and individual elements can be extracted using square-bracket indexing:"
   ]
  },
  {
   "cell_type": "code",
   "execution_count": 21,
   "metadata": {},
   "outputs": [
    {
     "data": {
      "text/plain": [
       "3"
      ]
     },
     "execution_count": 21,
     "metadata": {},
     "output_type": "execute_result"
    }
   ],
   "source": [
    "len(t)"
   ]
  },
  {
   "cell_type": "code",
   "execution_count": 22,
   "metadata": {},
   "outputs": [
    {
     "data": {
      "text/plain": [
       "1"
      ]
     },
     "execution_count": 22,
     "metadata": {},
     "output_type": "execute_result"
    }
   ],
   "source": [
    "t[0]"
   ]
  },
  {
   "cell_type": "markdown",
   "metadata": {},
   "source": [
    "The main distinguishing feature of tuples is that they are *immutable*: this means that once they are created, their size and contents cannot be changed:"
   ]
  },
  {
   "cell_type": "code",
   "execution_count": 23,
   "metadata": {},
   "outputs": [
    {
     "ename": "TypeError",
     "evalue": "'tuple' object does not support item assignment",
     "output_type": "error",
     "traceback": [
      "\u001b[0;31m---------------------------------------------------------------------------\u001b[0m",
      "\u001b[0;31mTypeError\u001b[0m                                 Traceback (most recent call last)",
      "\u001b[0;32m<ipython-input-23-141c76cb54a2>\u001b[0m in \u001b[0;36m<module>\u001b[0;34m()\u001b[0m\n\u001b[0;32m----> 1\u001b[0;31m \u001b[0mt\u001b[0m\u001b[0;34m[\u001b[0m\u001b[0;36m1\u001b[0m\u001b[0;34m]\u001b[0m \u001b[0;34m=\u001b[0m \u001b[0;36m4\u001b[0m\u001b[0;34m\u001b[0m\u001b[0m\n\u001b[0m",
      "\u001b[0;31mTypeError\u001b[0m: 'tuple' object does not support item assignment"
     ]
    }
   ],
   "source": [
    "t[1] = 4"
   ]
  },
  {
   "cell_type": "code",
   "execution_count": 24,
   "metadata": {},
   "outputs": [
    {
     "ename": "AttributeError",
     "evalue": "'tuple' object has no attribute 'append'",
     "output_type": "error",
     "traceback": [
      "\u001b[0;31m---------------------------------------------------------------------------\u001b[0m",
      "\u001b[0;31mAttributeError\u001b[0m                            Traceback (most recent call last)",
      "\u001b[0;32m<ipython-input-24-e8bd1632f9dd>\u001b[0m in \u001b[0;36m<module>\u001b[0;34m()\u001b[0m\n\u001b[0;32m----> 1\u001b[0;31m \u001b[0mt\u001b[0m\u001b[0;34m.\u001b[0m\u001b[0mappend\u001b[0m\u001b[0;34m(\u001b[0m\u001b[0;36m4\u001b[0m\u001b[0;34m)\u001b[0m\u001b[0;34m\u001b[0m\u001b[0m\n\u001b[0m",
      "\u001b[0;31mAttributeError\u001b[0m: 'tuple' object has no attribute 'append'"
     ]
    }
   ],
   "source": [
    "t.append(4)"
   ]
  },
  {
   "cell_type": "markdown",
   "metadata": {},
   "source": [
    "Tuples are often used in a Python program; a particularly common case is in functions that have multiple return values.\n",
    "For example, the ``as_integer_ratio()`` method of floating-point objects returns a numerator and a denominator; this dual return value comes in the form of a tuple:"
   ]
  },
  {
   "cell_type": "code",
   "execution_count": 25,
   "metadata": {},
   "outputs": [
    {
     "data": {
      "text/plain": [
       "(1, 8)"
      ]
     },
     "execution_count": 25,
     "metadata": {},
     "output_type": "execute_result"
    }
   ],
   "source": [
    "x = 0.125\n",
    "x.as_integer_ratio()"
   ]
  },
  {
   "cell_type": "markdown",
   "metadata": {},
   "source": [
    "These multiple return values can be individually assigned as follows:"
   ]
  },
  {
   "cell_type": "code",
   "execution_count": 26,
   "metadata": {},
   "outputs": [
    {
     "name": "stdout",
     "output_type": "stream",
     "text": [
      "0.125\n"
     ]
    }
   ],
   "source": [
    "numerator, denominator = x.as_integer_ratio()\n",
    "print(numerator / denominator)"
   ]
  },
  {
   "cell_type": "markdown",
   "metadata": {},
   "source": [
    "The indexing and slicing logic covered earlier for lists works for tuples as well, along with a host of other methods.\n",
    "Refer to the online [Python documentation](https://docs.python.org/3/tutorial/datastructures.html) for a more complete list of these."
   ]
  },
  {
   "cell_type": "markdown",
   "metadata": {},
   "source": [
    "## Dictionaries\n",
    "Dictionaries are extremely flexible mappings of keys to values, and form the basis of much of Python's internal implementation.\n",
    "They can be created via a comma-separated list of ``key:value`` pairs within curly braces:"
   ]
  },
  {
   "cell_type": "code",
   "execution_count": 27,
   "metadata": {
    "collapsed": true
   },
   "outputs": [],
   "source": [
    "numbers = {'one':1, 'two':2, 'three':3}"
   ]
  },
  {
   "cell_type": "markdown",
   "metadata": {},
   "source": [
    "Items are accessed and set via the indexing syntax used for lists and tuples, except here the index is not a zero-based order but valid key in the dictionary:"
   ]
  },
  {
   "cell_type": "code",
   "execution_count": 28,
   "metadata": {},
   "outputs": [
    {
     "data": {
      "text/plain": [
       "2"
      ]
     },
     "execution_count": 28,
     "metadata": {},
     "output_type": "execute_result"
    }
   ],
   "source": [
    "# Access a value via the key\n",
    "numbers['two']"
   ]
  },
  {
   "cell_type": "markdown",
   "metadata": {},
   "source": [
    "New items can be added to the dictionary using indexing as well:"
   ]
  },
  {
   "cell_type": "code",
   "execution_count": 29,
   "metadata": {},
   "outputs": [
    {
     "name": "stdout",
     "output_type": "stream",
     "text": [
      "{'three': 3, 'ninety': 90, 'two': 2, 'one': 1}\n"
     ]
    }
   ],
   "source": [
    "# Set a new key:value pair\n",
    "numbers['ninety'] = 90\n",
    "print(numbers)"
   ]
  },
  {
   "cell_type": "markdown",
   "metadata": {},
   "source": [
    "Keep in mind that dictionaries do not maintain any sense of order for the input parameters; this is by design.\n",
    "This lack of ordering allows dictionaries to be implemented very efficiently, so that random element access is very fast, regardless of the size of the dictionary (if you're curious how this works, read about the concept of a *hash table*).\n",
    "The [python documentation](https://docs.python.org/3/library/stdtypes.html) has a complete list of the methods available for dictionaries."
   ]
  },
  {
   "cell_type": "markdown",
   "metadata": {},
   "source": [
    "## Sets\n",
    "\n",
    "The fourth basic collection is the set, which contains unordered collections of unique items.\n",
    "They are defined much like lists and tuples, except they use the curly brackets of dictionaries:"
   ]
  },
  {
   "cell_type": "code",
   "execution_count": 30,
   "metadata": {
    "collapsed": true
   },
   "outputs": [],
   "source": [
    "primes = {2, 3, 5, 7}\n",
    "odds = {1, 3, 5, 7, 9}"
   ]
  },
  {
   "cell_type": "markdown",
   "metadata": {},
   "source": [
    "If you're familiar with the mathematics of sets, you'll be familiar with operations like the union, intersection, difference, symmetric difference, and others.\n",
    "Python's sets have all of these operations built-in, via methods or operators.\n",
    "For each, we'll show the two equivalent methods:"
   ]
  },
  {
   "cell_type": "code",
   "execution_count": 31,
   "metadata": {},
   "outputs": [
    {
     "data": {
      "text/plain": [
       "{1, 2, 3, 5, 7, 9}"
      ]
     },
     "execution_count": 31,
     "metadata": {},
     "output_type": "execute_result"
    }
   ],
   "source": [
    "# union: items appearing in either\n",
    "primes | odds      # with an operator\n",
    "primes.union(odds) # equivalently with a method"
   ]
  },
  {
   "cell_type": "code",
   "execution_count": 32,
   "metadata": {},
   "outputs": [
    {
     "data": {
      "text/plain": [
       "{3, 5, 7}"
      ]
     },
     "execution_count": 32,
     "metadata": {},
     "output_type": "execute_result"
    }
   ],
   "source": [
    "# intersection: items appearing in both\n",
    "primes & odds             # with an operator\n",
    "primes.intersection(odds) # equivalently with a method"
   ]
  },
  {
   "cell_type": "code",
   "execution_count": 33,
   "metadata": {},
   "outputs": [
    {
     "data": {
      "text/plain": [
       "{2}"
      ]
     },
     "execution_count": 33,
     "metadata": {},
     "output_type": "execute_result"
    }
   ],
   "source": [
    "# difference: items in primes but not in odds\n",
    "primes - odds           # with an operator\n",
    "primes.difference(odds) # equivalently with a method"
   ]
  },
  {
   "cell_type": "code",
   "execution_count": 34,
   "metadata": {
    "scrolled": true
   },
   "outputs": [
    {
     "data": {
      "text/plain": [
       "{1, 2, 9}"
      ]
     },
     "execution_count": 34,
     "metadata": {},
     "output_type": "execute_result"
    }
   ],
   "source": [
    "# symmetric difference: items appearing in only one set\n",
    "primes ^ odds                     # with an operator\n",
    "primes.symmetric_difference(odds) # equivalently with a method"
   ]
  },
  {
   "cell_type": "markdown",
   "metadata": {},
   "source": [
    "Many more set methods and operations are available.\n",
    "You've probably already guessed what I'll say next: refer to Python's [online documentation](https://docs.python.org/3/library/stdtypes.html) for a complete reference."
   ]
  },
  {
   "cell_type": "markdown",
   "metadata": {},
   "source": [
    "## More Specialized Data Structures\n",
    "\n",
    "Python contains several other data structures that you might find useful; these can generally be found in the built-in ``collections`` module.\n",
    "The collections module is fully-documented in [Python's online documentation](https://docs.python.org/3/library/collections.html), and you can read more about the various objects available there.\n",
    "\n",
    "In particular, I've found the following very useful on occasion:\n",
    "\n",
    "- ``collections.namedtuple``: Like a tuple, but each value has a name\n",
    "- ``collections.defaultdict``: Like a dictionary, but unspecified keys have a user-specified default value\n",
    "- ``collections.OrderedDict``: Like a dictionary, but the order of keys is maintained\n",
    "\n",
    "Once you've seen the standard built-in collection types, the use of these extended functionalities is very intuitive, and I'd suggest [reading about their use](https://docs.python.org/3/library/collections.html)."
   ]
  },
  {
   "cell_type": "markdown",
   "metadata": {},
   "source": [
    "<!--NAVIGATION-->\n",
    "< [Built-In Data Structures](#section06) | [Contents](#Index) | [Defining and Using Functions](#section08) >"
   ]
  },
  {
   "cell_type": "markdown",
   "metadata": {},
   "source": [
    "<a id='section07'></a>"
   ]
  },
  {
   "cell_type": "markdown",
   "metadata": {},
   "source": [
    "# Control Flow"
   ]
  },
  {
   "cell_type": "markdown",
   "metadata": {},
   "source": [
    "*Control flow* is where the rubber really meets the road in programming.\n",
    "Without it, a program is simply a list of statements that are sequentially executed.\n",
    "With control flow, you can execute certain code blocks conditionally and/or repeatedly: these basic building blocks can be combined to create surprisingly sophisticated programs!\n",
    "\n",
    "Here we'll cover *conditional statements* (including \"``if``\", \"``elif``\", and \"``else``\"), *loop statements* (including \"``for``\" and \"``while``\" and the accompanying \"``break``\", \"``continue``\", and \"``pass``\")."
   ]
  },
  {
   "cell_type": "markdown",
   "metadata": {},
   "source": [
    "## Conditional Statements: ``if``-``elif``-``else``:\n",
    "Conditional statements, often referred to as *if-then* statements, allow the programmer to execute certain pieces of code depending on some Boolean condition.\n",
    "A basic example of a Python conditional statement is this:"
   ]
  },
  {
   "cell_type": "code",
   "execution_count": 1,
   "metadata": {},
   "outputs": [
    {
     "name": "stdout",
     "output_type": "stream",
     "text": [
      "-15 is negative\n"
     ]
    }
   ],
   "source": [
    "x = -15\n",
    "\n",
    "if x == 0:\n",
    "    print(x, \"is zero\")\n",
    "elif x > 0:\n",
    "    print(x, \"is positive\")\n",
    "elif x < 0:\n",
    "    print(x, \"is negative\")\n",
    "else:\n",
    "    print(x, \"is unlike anything I've ever seen...\")"
   ]
  },
  {
   "cell_type": "markdown",
   "metadata": {},
   "source": [
    "Note especially the use of colons (``:``) and whitespace to denote separate blocks of code.\n",
    "\n",
    "Python adopts the ``if`` and ``else`` often used in other languages; its more unique keyword is ``elif``, a contraction of \"else if\".\n",
    "In these conditional clauses, ``elif`` and ``else`` blocks are optional; additionally, you can optinally include as few or as many ``elif`` statements as you would like."
   ]
  },
  {
   "cell_type": "markdown",
   "metadata": {},
   "source": [
    "## ``for`` loops\n",
    "Loops in Python are a way to repeatedly execute some code statement.\n",
    "So, for example, if we'd like to print each of the items in a list, we can use a ``for`` loop:"
   ]
  },
  {
   "cell_type": "code",
   "execution_count": 2,
   "metadata": {},
   "outputs": [
    {
     "name": "stdout",
     "output_type": "stream",
     "text": [
      "2 3 5 7 "
     ]
    }
   ],
   "source": [
    "for N in [2, 3, 5, 7]:\n",
    "    print(N, end=' ') # print all on same line"
   ]
  },
  {
   "cell_type": "markdown",
   "metadata": {},
   "source": [
    "Notice the simplicity of the ``for`` loop: we specify the variable we want to use, the sequence we want to loop over, and use the \"``in``\" operator to link them together in an intuitive and readable way.\n",
    "More precisely, the object to the right of the \"``in``\" can be any Python *iterator*.\n",
    "An iterator can be thought of as a generalized sequence, and we'll discuss them in [Iterators](10-Iterators.ipynb).\n",
    "\n",
    "For example, one of the most commonly-used iterators in Python is the ``range`` object, which generates a sequence of numbers:"
   ]
  },
  {
   "cell_type": "code",
   "execution_count": 3,
   "metadata": {},
   "outputs": [
    {
     "name": "stdout",
     "output_type": "stream",
     "text": [
      "0 1 2 3 4 5 6 7 8 9 "
     ]
    }
   ],
   "source": [
    "for i in range(10):\n",
    "    print(i, end=' ')"
   ]
  },
  {
   "cell_type": "markdown",
   "metadata": {},
   "source": [
    "Note that the range starts at zero by default, and that by convention the top of the range is not included in the output.\n",
    "Range objects can also have more complicated values:"
   ]
  },
  {
   "cell_type": "code",
   "execution_count": 4,
   "metadata": {},
   "outputs": [
    {
     "data": {
      "text/plain": [
       "[5, 6, 7, 8, 9]"
      ]
     },
     "execution_count": 4,
     "metadata": {},
     "output_type": "execute_result"
    }
   ],
   "source": [
    "# range from 5 to 10\n",
    "list(range(5, 10))"
   ]
  },
  {
   "cell_type": "code",
   "execution_count": 5,
   "metadata": {},
   "outputs": [
    {
     "data": {
      "text/plain": [
       "[0, 2, 4, 6, 8]"
      ]
     },
     "execution_count": 5,
     "metadata": {},
     "output_type": "execute_result"
    }
   ],
   "source": [
    "# range from 0 to 10 by 2\n",
    "list(range(0, 10, 2))"
   ]
  },
  {
   "cell_type": "markdown",
   "metadata": {},
   "source": [
    "You might notice that the meaning of ``range`` arguments is very similar to the slicing syntax that we covered in [Lists](06-Built-in-Data-Structures.ipynb#Lists).\n",
    "\n",
    "Note that the behavior of ``range()`` is one of the differences between Python 2 and Python 3: in Python 2, ``range()`` produces a list, while in Python 3, ``range()`` produces an iterable object."
   ]
  },
  {
   "cell_type": "markdown",
   "metadata": {},
   "source": [
    "## ``while`` loops\n",
    "The other type of loop in Python is a ``while`` loop, which iterates until some condition is met:"
   ]
  },
  {
   "cell_type": "code",
   "execution_count": 6,
   "metadata": {},
   "outputs": [
    {
     "name": "stdout",
     "output_type": "stream",
     "text": [
      "0 1 2 3 4 5 6 7 8 9 "
     ]
    }
   ],
   "source": [
    "i = 0\n",
    "while i < 10:\n",
    "    print(i, end=' ')\n",
    "    i += 1"
   ]
  },
  {
   "cell_type": "markdown",
   "metadata": {},
   "source": [
    "The argument of the ``while`` loop is evaluated as a boolean statement, and the loop is executed until the statement evaluates to False."
   ]
  },
  {
   "cell_type": "markdown",
   "metadata": {},
   "source": [
    "## ``break`` and ``continue``: Fine-Tuning Your Loops\n",
    "There are two useful statements that can be used within loops to fine-tune how they are executed:\n",
    "\n",
    "- The ``break`` statement breaks-out of the loop entirely\n",
    "- The ``continue`` statement skips the remainder of the current loop, and goes to the next iteration\n",
    "\n",
    "These can be used in both ``for`` and ``while`` loops.\n",
    "\n",
    "Here is an example of using ``continue`` to print a string of odd numbers.\n",
    "In this case, the result could be accomplished just as well with an ``if-else`` statement, but sometimes the ``continue`` statement can be a more convenient way to express the idea you have in mind:"
   ]
  },
  {
   "cell_type": "code",
   "execution_count": 7,
   "metadata": {},
   "outputs": [
    {
     "name": "stdout",
     "output_type": "stream",
     "text": [
      "1 3 5 7 9 11 13 15 17 19 "
     ]
    }
   ],
   "source": [
    "for n in range(20):\n",
    "    # if the remainder of n / 2 is 0, skip the rest of the loop\n",
    "    if n % 2 == 0:\n",
    "        continue\n",
    "    print(n, end=' ')"
   ]
  },
  {
   "cell_type": "markdown",
   "metadata": {},
   "source": [
    "Here is an example of a ``break`` statement used for a less trivial task.\n",
    "This loop will fill a list with all Fibonacci numbers up to a certain value:"
   ]
  },
  {
   "cell_type": "code",
   "execution_count": 8,
   "metadata": {},
   "outputs": [
    {
     "name": "stdout",
     "output_type": "stream",
     "text": [
      "[1, 1, 2, 3, 5, 8, 13, 21, 34, 55, 89]\n"
     ]
    }
   ],
   "source": [
    "a, b = 0, 1\n",
    "amax = 100\n",
    "L = []\n",
    "\n",
    "while True:\n",
    "    (a, b) = (b, a + b)\n",
    "    if a > amax:\n",
    "        break\n",
    "    L.append(a)\n",
    "\n",
    "print(L)"
   ]
  },
  {
   "cell_type": "markdown",
   "metadata": {},
   "source": [
    "Notice that we use a ``while True`` loop, which will loop forever unless we have a break statement!"
   ]
  },
  {
   "cell_type": "markdown",
   "metadata": {},
   "source": [
    "## Loops with an ``else`` Block\n",
    "One rarely used pattern available in Python is the ``else`` statement as part of a ``for`` or ``while`` loop.\n",
    "We discussed the ``else`` block earlier: it executes if all the ``if`` and ``elif`` statements evaluate to ``False``.\n",
    "The loop-``else`` is perhaps one of the more confusingly-named statements in Python; I prefer to think of it as a ``nobreak`` statement: that is, the ``else`` block is executed only if the loop ends naturally, without encountering a ``break`` statement.\n",
    "\n",
    "As an example of where this might be useful, consider the following (non-optimized) implementation of the *Sieve of Eratosthenes*, a well-known algorithm for finding prime numbers:"
   ]
  },
  {
   "cell_type": "code",
   "execution_count": 9,
   "metadata": {},
   "outputs": [
    {
     "name": "stdout",
     "output_type": "stream",
     "text": [
      "[2, 3, 5, 7, 11, 13, 17, 19, 23, 29]\n"
     ]
    }
   ],
   "source": [
    "L = []\n",
    "nmax = 30\n",
    "\n",
    "for n in range(2, nmax):\n",
    "    for factor in L:\n",
    "        if n % factor == 0:\n",
    "            break\n",
    "    else: # no break\n",
    "        L.append(n)\n",
    "print(L)"
   ]
  },
  {
   "cell_type": "markdown",
   "metadata": {},
   "source": [
    "The ``else`` statement only executes if none of the factors divide the given number.\n",
    "The ``else`` statement works similarly with the ``while`` loop."
   ]
  },
  {
   "cell_type": "markdown",
   "metadata": {},
   "source": [
    "<!--NAVIGATION-->\n",
    "< [Control Flow](#section07) | [Contents](#Index) | [Errors and Exceptions](#section09) >"
   ]
  },
  {
   "cell_type": "markdown",
   "metadata": {},
   "source": [
    "<a id='section08'></a>"
   ]
  },
  {
   "cell_type": "markdown",
   "metadata": {},
   "source": [
    "# Defining and Using Functions"
   ]
  },
  {
   "cell_type": "markdown",
   "metadata": {},
   "source": [
    "So far, our scripts have been simple, single-use code blocks.\n",
    "One way to organize our Python code and to make it more readable and reusable is to factor-out useful pieces into reusable *functions*.\n",
    "Here we'll cover two ways of creating functions: the ``def`` statement, useful for any type of function, and the ``lambda`` statement, useful for creating short anonymous functions."
   ]
  },
  {
   "cell_type": "markdown",
   "metadata": {},
   "source": [
    "## Using Functions\n",
    "\n",
    "Functions are groups of code that have a name, and can be called using parentheses.\n",
    "We've seen functions before. For example, ``print`` in Python 3 is a function:"
   ]
  },
  {
   "cell_type": "code",
   "execution_count": 1,
   "metadata": {},
   "outputs": [
    {
     "name": "stdout",
     "output_type": "stream",
     "text": [
      "abc\n"
     ]
    }
   ],
   "source": [
    "print('abc')"
   ]
  },
  {
   "cell_type": "markdown",
   "metadata": {},
   "source": [
    "Here ``print`` is the function name, and ``'abc'`` is the function's *argument*.\n",
    "\n",
    "In addition to arguments, there are *keyword arguments* that are specified by name.\n",
    "One available keyword argument for the ``print()`` function (in Python 3) is ``sep``, which tells what character or characters should be used to separate multiple items:"
   ]
  },
  {
   "cell_type": "code",
   "execution_count": 2,
   "metadata": {},
   "outputs": [
    {
     "name": "stdout",
     "output_type": "stream",
     "text": [
      "1 2 3\n"
     ]
    }
   ],
   "source": [
    "print(1, 2, 3)"
   ]
  },
  {
   "cell_type": "code",
   "execution_count": 3,
   "metadata": {},
   "outputs": [
    {
     "name": "stdout",
     "output_type": "stream",
     "text": [
      "1--2--3\n"
     ]
    }
   ],
   "source": [
    "print(1, 2, 3, sep='--')"
   ]
  },
  {
   "cell_type": "markdown",
   "metadata": {},
   "source": [
    "When non-keyword arguments are used together with keyword arguments, the keyword arguments must come at the end."
   ]
  },
  {
   "cell_type": "markdown",
   "metadata": {},
   "source": [
    "## Defining Functions\n",
    "Functions become even more useful when we begin to define our own, organizing functionality to be used in multiple places.\n",
    "In Python, functions are defined with the ``def`` statement.\n",
    "For example, we can encapsulate a version of our Fibonacci sequence code from the previous section as follows:"
   ]
  },
  {
   "cell_type": "code",
   "execution_count": 4,
   "metadata": {
    "collapsed": true
   },
   "outputs": [],
   "source": [
    "def fibonacci(N):\n",
    "    L = []\n",
    "    a, b = 0, 1\n",
    "    while len(L) < N:\n",
    "        a, b = b, a + b\n",
    "        L.append(a)\n",
    "    return L"
   ]
  },
  {
   "cell_type": "markdown",
   "metadata": {},
   "source": [
    "Now we have a function named ``fibonacci`` which takes a single argument ``N``, does something with this argument, and ``return``s a value; in this case, a list of the first ``N`` Fibonacci numbers:"
   ]
  },
  {
   "cell_type": "code",
   "execution_count": 5,
   "metadata": {},
   "outputs": [
    {
     "data": {
      "text/plain": [
       "[1, 1, 2, 3, 5, 8, 13, 21, 34, 55]"
      ]
     },
     "execution_count": 5,
     "metadata": {},
     "output_type": "execute_result"
    }
   ],
   "source": [
    "fibonacci(10)"
   ]
  },
  {
   "cell_type": "markdown",
   "metadata": {},
   "source": [
    "If you're familiar with strongly-typed languages like ``C``, you'll immediately notice that there is no type information associated with the function inputs or outputs.\n",
    "Python functions can return any Python object, simple or compound, which means constructs that may be difficult in other languages are straightforward in Python.\n",
    "\n",
    "For example, multiple return values are simply put in a tuple, which is indicated by commas:"
   ]
  },
  {
   "cell_type": "code",
   "execution_count": 6,
   "metadata": {},
   "outputs": [
    {
     "name": "stdout",
     "output_type": "stream",
     "text": [
      "3.0 4.0 (3-4j)\n"
     ]
    }
   ],
   "source": [
    "def real_imag_conj(val):\n",
    "    return val.real, val.imag, val.conjugate()\n",
    "\n",
    "r, i, c = real_imag_conj(3 + 4j)\n",
    "print(r, i, c)"
   ]
  },
  {
   "cell_type": "markdown",
   "metadata": {},
   "source": [
    "## Default Argument Values\n",
    "\n",
    "Often when defining a function, there are certain values that we want the function to use *most* of the time, but we'd also like to give the user some flexibility.\n",
    "In this case, we can use *default values* for arguments.\n",
    "Consider the ``fibonacci`` function from before.\n",
    "What if we would like the user to be able to play with the starting values?\n",
    "We could do that as follows:"
   ]
  },
  {
   "cell_type": "code",
   "execution_count": 7,
   "metadata": {
    "collapsed": true
   },
   "outputs": [],
   "source": [
    "def fibonacci(N, a=0, b=1):\n",
    "    L = []\n",
    "    while len(L) < N:\n",
    "        a, b = b, a + b\n",
    "        L.append(a)\n",
    "    return L"
   ]
  },
  {
   "cell_type": "markdown",
   "metadata": {},
   "source": [
    "With a single argument, the result of the function call is identical to before:"
   ]
  },
  {
   "cell_type": "code",
   "execution_count": 8,
   "metadata": {},
   "outputs": [
    {
     "data": {
      "text/plain": [
       "[1, 1, 2, 3, 5, 8, 13, 21, 34, 55]"
      ]
     },
     "execution_count": 8,
     "metadata": {},
     "output_type": "execute_result"
    }
   ],
   "source": [
    "fibonacci(10)"
   ]
  },
  {
   "cell_type": "markdown",
   "metadata": {},
   "source": [
    "But now we can use the function to explore new things, such as the effect of new starting values:"
   ]
  },
  {
   "cell_type": "code",
   "execution_count": 9,
   "metadata": {},
   "outputs": [
    {
     "data": {
      "text/plain": [
       "[2, 2, 4, 6, 10, 16, 26, 42, 68, 110]"
      ]
     },
     "execution_count": 9,
     "metadata": {},
     "output_type": "execute_result"
    }
   ],
   "source": [
    "fibonacci(10, 0, 2)"
   ]
  },
  {
   "cell_type": "markdown",
   "metadata": {},
   "source": [
    "The values can also be specified by name if desired, in which case the order of the named values does not matter:"
   ]
  },
  {
   "cell_type": "code",
   "execution_count": 10,
   "metadata": {},
   "outputs": [
    {
     "data": {
      "text/plain": [
       "[3, 4, 7, 11, 18, 29, 47, 76, 123, 199]"
      ]
     },
     "execution_count": 10,
     "metadata": {},
     "output_type": "execute_result"
    }
   ],
   "source": [
    "fibonacci(10, b=3, a=1)"
   ]
  },
  {
   "cell_type": "markdown",
   "metadata": {},
   "source": [
    "## ``*args`` and ``**kwargs``: Flexible Arguments\n",
    "Sometimes you might wish to write a function in which you don't initially know how many arguments the user will pass.\n",
    "In this case, you can use the special form ``*args`` and ``**kwargs`` to catch all arguments that are passed.\n",
    "Here is an example:"
   ]
  },
  {
   "cell_type": "code",
   "execution_count": 11,
   "metadata": {
    "collapsed": true
   },
   "outputs": [],
   "source": [
    "def catch_all(*args, **kwargs):\n",
    "    print(\"args =\", args)\n",
    "    print(\"kwargs = \", kwargs)"
   ]
  },
  {
   "cell_type": "code",
   "execution_count": 12,
   "metadata": {},
   "outputs": [
    {
     "name": "stdout",
     "output_type": "stream",
     "text": [
      "args = (1, 2, 3)\n",
      "kwargs =  {'a': 4, 'b': 5}\n"
     ]
    }
   ],
   "source": [
    "catch_all(1, 2, 3, a=4, b=5)"
   ]
  },
  {
   "cell_type": "code",
   "execution_count": 13,
   "metadata": {},
   "outputs": [
    {
     "name": "stdout",
     "output_type": "stream",
     "text": [
      "args = ('a',)\n",
      "kwargs =  {'keyword': 2}\n"
     ]
    }
   ],
   "source": [
    "catch_all('a', keyword=2)"
   ]
  },
  {
   "cell_type": "markdown",
   "metadata": {},
   "source": [
    "Here it is not the names ``args`` and ``kwargs`` that are important, but the ``*`` characters preceding them.\n",
    "``args`` and ``kwargs`` are just the variable names often used by convention, short for \"arguments\" and \"keyword arguments\".\n",
    "The operative difference is the asterisk characters: a single ``*`` before a variable means \"expand this as a sequence\", while a double ``**`` before a variable means \"expand this as a dictionary\".\n",
    "In fact, this syntax can be used not only with the function definition, but with the function call as well!"
   ]
  },
  {
   "cell_type": "code",
   "execution_count": 14,
   "metadata": {},
   "outputs": [
    {
     "name": "stdout",
     "output_type": "stream",
     "text": [
      "args = (1, 2, 3)\n",
      "kwargs =  {'pi': 3.14}\n"
     ]
    }
   ],
   "source": [
    "inputs = (1, 2, 3)\n",
    "keywords = {'pi': 3.14}\n",
    "\n",
    "catch_all(*inputs, **keywords)"
   ]
  },
  {
   "cell_type": "markdown",
   "metadata": {},
   "source": [
    "## Anonymous (``lambda``) Functions\n",
    "Earlier we quickly covered the most common way of defining functions, the ``def`` statement.\n",
    "You'll likely come across another way of defining short, one-off functions with the ``lambda`` statement.\n",
    "It looks something like this:"
   ]
  },
  {
   "cell_type": "code",
   "execution_count": 15,
   "metadata": {},
   "outputs": [
    {
     "data": {
      "text/plain": [
       "3"
      ]
     },
     "execution_count": 15,
     "metadata": {},
     "output_type": "execute_result"
    }
   ],
   "source": [
    "add = lambda x, y: x + y\n",
    "add(1, 2)"
   ]
  },
  {
   "cell_type": "markdown",
   "metadata": {},
   "source": [
    "This lambda function is roughly equivalent to"
   ]
  },
  {
   "cell_type": "code",
   "execution_count": 16,
   "metadata": {
    "collapsed": true
   },
   "outputs": [],
   "source": [
    "def add(x, y):\n",
    "    return x + y"
   ]
  },
  {
   "cell_type": "markdown",
   "metadata": {},
   "source": [
    "So why would you ever want to use such a thing?\n",
    "Primarily, it comes down to the fact that *everything is an object* in Python, even functions themselves!\n",
    "That means that functions can be passed as arguments to functions.\n",
    "\n",
    "As an example of this, suppose we have some data stored in a list of dictionaries:"
   ]
  },
  {
   "cell_type": "code",
   "execution_count": 17,
   "metadata": {
    "collapsed": true
   },
   "outputs": [],
   "source": [
    "data = [{'first':'Guido', 'last':'Van Rossum', 'YOB':1956},\n",
    "        {'first':'Grace', 'last':'Hopper',     'YOB':1906},\n",
    "        {'first':'Alan',  'last':'Turing',     'YOB':1912}]"
   ]
  },
  {
   "cell_type": "markdown",
   "metadata": {},
   "source": [
    "Now suppose we want to sort this data.\n",
    "Python has a ``sorted`` function that does this:"
   ]
  },
  {
   "cell_type": "code",
   "execution_count": 18,
   "metadata": {},
   "outputs": [
    {
     "data": {
      "text/plain": [
       "[1, 2, 3, 4, 5, 6]"
      ]
     },
     "execution_count": 18,
     "metadata": {},
     "output_type": "execute_result"
    }
   ],
   "source": [
    "sorted([2,4,3,5,1,6])"
   ]
  },
  {
   "cell_type": "markdown",
   "metadata": {},
   "source": [
    "But dictionaries are not orderable: we need a way to tell the function *how* to sort our data.\n",
    "We can do this by specifying the ``key`` function, a function which given an item returns the sorting key for that item:"
   ]
  },
  {
   "cell_type": "code",
   "execution_count": 19,
   "metadata": {},
   "outputs": [
    {
     "data": {
      "text/plain": [
       "[{'YOB': 1912, 'first': 'Alan', 'last': 'Turing'},\n",
       " {'YOB': 1906, 'first': 'Grace', 'last': 'Hopper'},\n",
       " {'YOB': 1956, 'first': 'Guido', 'last': 'Van Rossum'}]"
      ]
     },
     "execution_count": 19,
     "metadata": {},
     "output_type": "execute_result"
    }
   ],
   "source": [
    "# sort alphabetically by first name\n",
    "sorted(data, key=lambda item: item['first'])"
   ]
  },
  {
   "cell_type": "code",
   "execution_count": 20,
   "metadata": {},
   "outputs": [
    {
     "data": {
      "text/plain": [
       "[{'YOB': 1906, 'first': 'Grace', 'last': 'Hopper'},\n",
       " {'YOB': 1912, 'first': 'Alan', 'last': 'Turing'},\n",
       " {'YOB': 1956, 'first': 'Guido', 'last': 'Van Rossum'}]"
      ]
     },
     "execution_count": 20,
     "metadata": {},
     "output_type": "execute_result"
    }
   ],
   "source": [
    "# sort by year of birth\n",
    "sorted(data, key=lambda item: item['YOB'])"
   ]
  },
  {
   "cell_type": "markdown",
   "metadata": {},
   "source": [
    "While these key functions could certainly be created by the normal, ``def`` syntax, the ``lambda`` syntax is convenient for such short one-off functions like these."
   ]
  },
  {
   "cell_type": "markdown",
   "metadata": {},
   "source": [
    "<!--NAVIGATION-->\n",
    "< [Defining and Using Functions](#section08) | [Contents](#Index) | [Iterators](#section10) >"
   ]
  },
  {
   "cell_type": "markdown",
   "metadata": {},
   "source": [
    "<a id='section09'></a>"
   ]
  },
  {
   "cell_type": "markdown",
   "metadata": {},
   "source": [
    "# Errors and Exceptions"
   ]
  },
  {
   "cell_type": "markdown",
   "metadata": {},
   "source": [
    "No matter your skill as a programmer, you will eventually make a coding mistake.\n",
    "Such mistakes come in three basic flavors:\n",
    "\n",
    "- *Syntax errors:* Errors where the code is not valid Python (generally easy to fix)\n",
    "- *Runtime errors:* Errors where syntactically valid code fails to execute, perhaps due to invalid user input (sometimes easy to fix)\n",
    "- *Semantic errors:* Errors in logic: code executes without a problem, but the result is not what you expect (often very difficult to track-down and fix)\n",
    "\n",
    "Here we're going to focus on how to deal cleanly with *runtime errors*.\n",
    "As we'll see, Python handles runtime errors via its *exception handling* framework."
   ]
  },
  {
   "cell_type": "markdown",
   "metadata": {},
   "source": [
    "## Runtime Errors\n",
    "\n",
    "If you've done any coding in Python, you've likely come across runtime errors.\n",
    "They can happen in a lot of ways.\n",
    "\n",
    "For example, if you try to reference an undefined variable:"
   ]
  },
  {
   "cell_type": "code",
   "execution_count": 3,
   "metadata": {},
   "outputs": [
    {
     "ename": "NameError",
     "evalue": "name 'Q' is not defined",
     "output_type": "error",
     "traceback": [
      "\u001b[0;31m---------------------------------------------------------------------------\u001b[0m",
      "\u001b[0;31mNameError\u001b[0m                                 Traceback (most recent call last)",
      "\u001b[0;32m<ipython-input-3-e796bdcf24ff>\u001b[0m in \u001b[0;36m<module>\u001b[0;34m()\u001b[0m\n\u001b[0;32m----> 1\u001b[0;31m \u001b[0mprint\u001b[0m\u001b[0;34m(\u001b[0m\u001b[0mQ\u001b[0m\u001b[0;34m)\u001b[0m\u001b[0;34m\u001b[0m\u001b[0m\n\u001b[0m",
      "\u001b[0;31mNameError\u001b[0m: name 'Q' is not defined"
     ]
    }
   ],
   "source": [
    "print(Q)"
   ]
  },
  {
   "cell_type": "markdown",
   "metadata": {},
   "source": [
    "Or if you try an operation that's not defined:"
   ]
  },
  {
   "cell_type": "code",
   "execution_count": 4,
   "metadata": {},
   "outputs": [
    {
     "ename": "TypeError",
     "evalue": "unsupported operand type(s) for +: 'int' and 'str'",
     "output_type": "error",
     "traceback": [
      "\u001b[0;31m---------------------------------------------------------------------------\u001b[0m",
      "\u001b[0;31mTypeError\u001b[0m                                 Traceback (most recent call last)",
      "\u001b[0;32m<ipython-input-4-aab9e8ede4f7>\u001b[0m in \u001b[0;36m<module>\u001b[0;34m()\u001b[0m\n\u001b[0;32m----> 1\u001b[0;31m \u001b[0;36m1\u001b[0m \u001b[0;34m+\u001b[0m \u001b[0;34m'abc'\u001b[0m\u001b[0;34m\u001b[0m\u001b[0m\n\u001b[0m",
      "\u001b[0;31mTypeError\u001b[0m: unsupported operand type(s) for +: 'int' and 'str'"
     ]
    }
   ],
   "source": [
    "1 + 'abc'"
   ]
  },
  {
   "cell_type": "markdown",
   "metadata": {},
   "source": [
    "Or you might be trying to compute a mathematically ill-defined result:"
   ]
  },
  {
   "cell_type": "code",
   "execution_count": 5,
   "metadata": {},
   "outputs": [
    {
     "ename": "ZeroDivisionError",
     "evalue": "division by zero",
     "output_type": "error",
     "traceback": [
      "\u001b[0;31m---------------------------------------------------------------------------\u001b[0m",
      "\u001b[0;31mZeroDivisionError\u001b[0m                         Traceback (most recent call last)",
      "\u001b[0;32m<ipython-input-5-ae0c5d243292>\u001b[0m in \u001b[0;36m<module>\u001b[0;34m()\u001b[0m\n\u001b[0;32m----> 1\u001b[0;31m \u001b[0;36m2\u001b[0m \u001b[0;34m/\u001b[0m \u001b[0;36m0\u001b[0m\u001b[0;34m\u001b[0m\u001b[0m\n\u001b[0m",
      "\u001b[0;31mZeroDivisionError\u001b[0m: division by zero"
     ]
    }
   ],
   "source": [
    "2 / 0"
   ]
  },
  {
   "cell_type": "markdown",
   "metadata": {},
   "source": [
    "Or maybe you're trying to access a sequence element that doesn't exist:"
   ]
  },
  {
   "cell_type": "code",
   "execution_count": 6,
   "metadata": {},
   "outputs": [
    {
     "ename": "IndexError",
     "evalue": "list index out of range",
     "output_type": "error",
     "traceback": [
      "\u001b[0;31m---------------------------------------------------------------------------\u001b[0m",
      "\u001b[0;31mIndexError\u001b[0m                                Traceback (most recent call last)",
      "\u001b[0;32m<ipython-input-6-06b6eb1b8957>\u001b[0m in \u001b[0;36m<module>\u001b[0;34m()\u001b[0m\n\u001b[1;32m      1\u001b[0m \u001b[0mL\u001b[0m \u001b[0;34m=\u001b[0m \u001b[0;34m[\u001b[0m\u001b[0;36m1\u001b[0m\u001b[0;34m,\u001b[0m \u001b[0;36m2\u001b[0m\u001b[0;34m,\u001b[0m \u001b[0;36m3\u001b[0m\u001b[0;34m]\u001b[0m\u001b[0;34m\u001b[0m\u001b[0m\n\u001b[0;32m----> 2\u001b[0;31m \u001b[0mL\u001b[0m\u001b[0;34m[\u001b[0m\u001b[0;36m1000\u001b[0m\u001b[0;34m]\u001b[0m\u001b[0;34m\u001b[0m\u001b[0m\n\u001b[0m",
      "\u001b[0;31mIndexError\u001b[0m: list index out of range"
     ]
    }
   ],
   "source": [
    "L = [1, 2, 3]\n",
    "L[1000]"
   ]
  },
  {
   "cell_type": "markdown",
   "metadata": {},
   "source": [
    "Note that in each case, Python is kind enough to not simply indicate that an error happened, but to spit out a *meaningful* exception that includes information about what exactly went wrong, along with the exact line of code where the error happened.\n",
    "Having access to meaningful errors like this is immensely useful when trying to trace the root of problems in your code."
   ]
  },
  {
   "cell_type": "markdown",
   "metadata": {},
   "source": [
    "## Catching Exceptions: ``try`` and ``except``\n",
    "The main tool Python gives you for handling runtime exceptions is the ``try``...``except`` clause.\n",
    "Its basic structure is this:"
   ]
  },
  {
   "cell_type": "code",
   "execution_count": 7,
   "metadata": {},
   "outputs": [
    {
     "name": "stdout",
     "output_type": "stream",
     "text": [
      "this gets executed first\n"
     ]
    }
   ],
   "source": [
    "try:\n",
    "    print(\"this gets executed first\")\n",
    "except:\n",
    "    print(\"this gets executed only if there is an error\")"
   ]
  },
  {
   "cell_type": "markdown",
   "metadata": {},
   "source": [
    "Note that the second block here did not get executed: this is because the first block did not return an error.\n",
    "Let's put a problematic statement in the ``try`` block and see what happens:"
   ]
  },
  {
   "cell_type": "code",
   "execution_count": 8,
   "metadata": {},
   "outputs": [
    {
     "name": "stdout",
     "output_type": "stream",
     "text": [
      "let's try something:\n",
      "something bad happened!\n"
     ]
    }
   ],
   "source": [
    "try:\n",
    "    print(\"let's try something:\")\n",
    "    x = 1 / 0 # ZeroDivisionError\n",
    "except:\n",
    "    print(\"something bad happened!\")"
   ]
  },
  {
   "cell_type": "markdown",
   "metadata": {},
   "source": [
    "Here we see that when the error was raised in the ``try`` statement (in this case, a ``ZeroDivisionError``), the error was caught, and the ``except`` statement was executed.\n",
    "\n",
    "One way this is often used is to check user input within a function or another piece of code.\n",
    "For example, we might wish to have a function that catches zero-division and returns some other value, perhaps a suitably large number like $10^{100}$:"
   ]
  },
  {
   "cell_type": "code",
   "execution_count": 9,
   "metadata": {
    "collapsed": true
   },
   "outputs": [],
   "source": [
    "def safe_divide(a, b):\n",
    "    try:\n",
    "        return a / b\n",
    "    except:\n",
    "        return 1E100"
   ]
  },
  {
   "cell_type": "code",
   "execution_count": 10,
   "metadata": {},
   "outputs": [
    {
     "data": {
      "text/plain": [
       "0.5"
      ]
     },
     "execution_count": 10,
     "metadata": {},
     "output_type": "execute_result"
    }
   ],
   "source": [
    "safe_divide(1, 2)"
   ]
  },
  {
   "cell_type": "code",
   "execution_count": 11,
   "metadata": {},
   "outputs": [
    {
     "data": {
      "text/plain": [
       "1e+100"
      ]
     },
     "execution_count": 11,
     "metadata": {},
     "output_type": "execute_result"
    }
   ],
   "source": [
    "safe_divide(2, 0)"
   ]
  },
  {
   "cell_type": "markdown",
   "metadata": {},
   "source": [
    "There is a subtle problem with this code, though: what happens when another type of exception comes up? For example, this is probably not what we intended:"
   ]
  },
  {
   "cell_type": "code",
   "execution_count": 12,
   "metadata": {},
   "outputs": [
    {
     "data": {
      "text/plain": [
       "1e+100"
      ]
     },
     "execution_count": 12,
     "metadata": {},
     "output_type": "execute_result"
    }
   ],
   "source": [
    "safe_divide (1, '2')"
   ]
  },
  {
   "cell_type": "markdown",
   "metadata": {},
   "source": [
    "Dividing an integer and a string raises a ``TypeError``, which our over-zealous code caught and assumed was a ``ZeroDivisionError``!\n",
    "For this reason, it's nearly always a better idea to catch exceptions *explicitly*:"
   ]
  },
  {
   "cell_type": "code",
   "execution_count": 13,
   "metadata": {
    "collapsed": true
   },
   "outputs": [],
   "source": [
    "def safe_divide(a, b):\n",
    "    try:\n",
    "        return a / b\n",
    "    except ZeroDivisionError:\n",
    "        return 1E100"
   ]
  },
  {
   "cell_type": "code",
   "execution_count": 14,
   "metadata": {},
   "outputs": [
    {
     "data": {
      "text/plain": [
       "1e+100"
      ]
     },
     "execution_count": 14,
     "metadata": {},
     "output_type": "execute_result"
    }
   ],
   "source": [
    "safe_divide(1, 0)"
   ]
  },
  {
   "cell_type": "code",
   "execution_count": 15,
   "metadata": {},
   "outputs": [
    {
     "ename": "TypeError",
     "evalue": "unsupported operand type(s) for /: 'int' and 'str'",
     "output_type": "error",
     "traceback": [
      "\u001b[0;31m---------------------------------------------------------------------------\u001b[0m",
      "\u001b[0;31mTypeError\u001b[0m                                 Traceback (most recent call last)",
      "\u001b[0;32m<ipython-input-15-2331af6a0acf>\u001b[0m in \u001b[0;36m<module>\u001b[0;34m()\u001b[0m\n\u001b[0;32m----> 1\u001b[0;31m \u001b[0msafe_divide\u001b[0m\u001b[0;34m(\u001b[0m\u001b[0;36m1\u001b[0m\u001b[0;34m,\u001b[0m \u001b[0;34m'2'\u001b[0m\u001b[0;34m)\u001b[0m\u001b[0;34m\u001b[0m\u001b[0m\n\u001b[0m",
      "\u001b[0;32m<ipython-input-13-10b5f0163af8>\u001b[0m in \u001b[0;36msafe_divide\u001b[0;34m(a, b)\u001b[0m\n\u001b[1;32m      1\u001b[0m \u001b[0;32mdef\u001b[0m \u001b[0msafe_divide\u001b[0m\u001b[0;34m(\u001b[0m\u001b[0ma\u001b[0m\u001b[0;34m,\u001b[0m \u001b[0mb\u001b[0m\u001b[0;34m)\u001b[0m\u001b[0;34m:\u001b[0m\u001b[0;34m\u001b[0m\u001b[0m\n\u001b[1;32m      2\u001b[0m     \u001b[0;32mtry\u001b[0m\u001b[0;34m:\u001b[0m\u001b[0;34m\u001b[0m\u001b[0m\n\u001b[0;32m----> 3\u001b[0;31m         \u001b[0;32mreturn\u001b[0m \u001b[0ma\u001b[0m \u001b[0;34m/\u001b[0m \u001b[0mb\u001b[0m\u001b[0;34m\u001b[0m\u001b[0m\n\u001b[0m\u001b[1;32m      4\u001b[0m     \u001b[0;32mexcept\u001b[0m \u001b[0mZeroDivisionError\u001b[0m\u001b[0;34m:\u001b[0m\u001b[0;34m\u001b[0m\u001b[0m\n\u001b[1;32m      5\u001b[0m         \u001b[0;32mreturn\u001b[0m \u001b[0;36m1E100\u001b[0m\u001b[0;34m\u001b[0m\u001b[0m\n",
      "\u001b[0;31mTypeError\u001b[0m: unsupported operand type(s) for /: 'int' and 'str'"
     ]
    }
   ],
   "source": [
    "safe_divide(1, '2')"
   ]
  },
  {
   "cell_type": "markdown",
   "metadata": {},
   "source": [
    "We're now catching zero-division errors only, and letting all other errors pass through un-modified."
   ]
  },
  {
   "cell_type": "markdown",
   "metadata": {},
   "source": [
    "## Raising Exceptions: ``raise``\n",
    "We've seen how valuable it is to have informative exceptions when using parts of the Python language.\n",
    "It's equally valuable to make use of informative exceptions within the code you write, so that users of your code (foremost yourself!) can figure out what caused their errors.\n",
    "\n",
    "The way you raise your own exceptions is with the ``raise`` statement. For example:"
   ]
  },
  {
   "cell_type": "code",
   "execution_count": 16,
   "metadata": {},
   "outputs": [
    {
     "ename": "RuntimeError",
     "evalue": "my error message",
     "output_type": "error",
     "traceback": [
      "\u001b[0;31m---------------------------------------------------------------------------\u001b[0m",
      "\u001b[0;31mRuntimeError\u001b[0m                              Traceback (most recent call last)",
      "\u001b[0;32m<ipython-input-16-c6a4c1ed2f34>\u001b[0m in \u001b[0;36m<module>\u001b[0;34m()\u001b[0m\n\u001b[0;32m----> 1\u001b[0;31m \u001b[0;32mraise\u001b[0m \u001b[0mRuntimeError\u001b[0m\u001b[0;34m(\u001b[0m\u001b[0;34m\"my error message\"\u001b[0m\u001b[0;34m)\u001b[0m\u001b[0;34m\u001b[0m\u001b[0m\n\u001b[0m",
      "\u001b[0;31mRuntimeError\u001b[0m: my error message"
     ]
    }
   ],
   "source": [
    "raise RuntimeError(\"my error message\")"
   ]
  },
  {
   "cell_type": "markdown",
   "metadata": {},
   "source": [
    "As an example of where this might be useful, let's return to our ``fibonacci`` function that we defined previously:"
   ]
  },
  {
   "cell_type": "code",
   "execution_count": 17,
   "metadata": {
    "collapsed": true
   },
   "outputs": [],
   "source": [
    "def fibonacci(N):\n",
    "    L = []\n",
    "    a, b = 0, 1\n",
    "    while len(L) < N:\n",
    "        a, b = b, a + b\n",
    "        L.append(a)\n",
    "    return L"
   ]
  },
  {
   "cell_type": "markdown",
   "metadata": {},
   "source": [
    "One potential problem here is that the input value could be negative.\n",
    "This will not currently cause any error in our function, but we might want to let the user know that a negative ``N`` is not supported.\n",
    "Errors stemming from invalid parameter values, by convention, lead to a ``ValueError`` being raised:"
   ]
  },
  {
   "cell_type": "code",
   "execution_count": 18,
   "metadata": {
    "collapsed": true
   },
   "outputs": [],
   "source": [
    "def fibonacci(N):\n",
    "    if N < 0:\n",
    "        raise ValueError(\"N must be non-negative\")\n",
    "    L = []\n",
    "    a, b = 0, 1\n",
    "    while len(L) < N:\n",
    "        a, b = b, a + b\n",
    "        L.append(a)\n",
    "    return L"
   ]
  },
  {
   "cell_type": "code",
   "execution_count": 19,
   "metadata": {},
   "outputs": [
    {
     "data": {
      "text/plain": [
       "[1, 1, 2, 3, 5, 8, 13, 21, 34, 55]"
      ]
     },
     "execution_count": 19,
     "metadata": {},
     "output_type": "execute_result"
    }
   ],
   "source": [
    "fibonacci(10)"
   ]
  },
  {
   "cell_type": "code",
   "execution_count": 20,
   "metadata": {},
   "outputs": [
    {
     "ename": "ValueError",
     "evalue": "N must be non-negative",
     "output_type": "error",
     "traceback": [
      "\u001b[0;31m---------------------------------------------------------------------------\u001b[0m",
      "\u001b[0;31mValueError\u001b[0m                                Traceback (most recent call last)",
      "\u001b[0;32m<ipython-input-20-3d291499cfa7>\u001b[0m in \u001b[0;36m<module>\u001b[0;34m()\u001b[0m\n\u001b[0;32m----> 1\u001b[0;31m \u001b[0mfibonacci\u001b[0m\u001b[0;34m(\u001b[0m\u001b[0;34m-\u001b[0m\u001b[0;36m10\u001b[0m\u001b[0;34m)\u001b[0m\u001b[0;34m\u001b[0m\u001b[0m\n\u001b[0m",
      "\u001b[0;32m<ipython-input-18-01d0cf168d63>\u001b[0m in \u001b[0;36mfibonacci\u001b[0;34m(N)\u001b[0m\n\u001b[1;32m      1\u001b[0m \u001b[0;32mdef\u001b[0m \u001b[0mfibonacci\u001b[0m\u001b[0;34m(\u001b[0m\u001b[0mN\u001b[0m\u001b[0;34m)\u001b[0m\u001b[0;34m:\u001b[0m\u001b[0;34m\u001b[0m\u001b[0m\n\u001b[1;32m      2\u001b[0m     \u001b[0;32mif\u001b[0m \u001b[0mN\u001b[0m \u001b[0;34m<\u001b[0m \u001b[0;36m0\u001b[0m\u001b[0;34m:\u001b[0m\u001b[0;34m\u001b[0m\u001b[0m\n\u001b[0;32m----> 3\u001b[0;31m         \u001b[0;32mraise\u001b[0m \u001b[0mValueError\u001b[0m\u001b[0;34m(\u001b[0m\u001b[0;34m\"N must be non-negative\"\u001b[0m\u001b[0;34m)\u001b[0m\u001b[0;34m\u001b[0m\u001b[0m\n\u001b[0m\u001b[1;32m      4\u001b[0m     \u001b[0mL\u001b[0m \u001b[0;34m=\u001b[0m \u001b[0;34m[\u001b[0m\u001b[0;34m]\u001b[0m\u001b[0;34m\u001b[0m\u001b[0m\n\u001b[1;32m      5\u001b[0m     \u001b[0ma\u001b[0m\u001b[0;34m,\u001b[0m \u001b[0mb\u001b[0m \u001b[0;34m=\u001b[0m \u001b[0;36m0\u001b[0m\u001b[0;34m,\u001b[0m \u001b[0;36m1\u001b[0m\u001b[0;34m\u001b[0m\u001b[0m\n",
      "\u001b[0;31mValueError\u001b[0m: N must be non-negative"
     ]
    }
   ],
   "source": [
    "fibonacci(-10)"
   ]
  },
  {
   "cell_type": "markdown",
   "metadata": {},
   "source": [
    "Now the user knows exactly why the input is invalid, and could even use a ``try``...``except`` block to handle it!"
   ]
  },
  {
   "cell_type": "code",
   "execution_count": 21,
   "metadata": {},
   "outputs": [
    {
     "name": "stdout",
     "output_type": "stream",
     "text": [
      "trying this...\n",
      "Bad value: need to do something else\n"
     ]
    }
   ],
   "source": [
    "N = -10\n",
    "try:\n",
    "    print(\"trying this...\")\n",
    "    print(fibonacci(N))\n",
    "except ValueError:\n",
    "    print(\"Bad value: need to do something else\")"
   ]
  },
  {
   "cell_type": "markdown",
   "metadata": {},
   "source": [
    "## Diving Deeper into Exceptions\n",
    "\n",
    "Briefly, I want to mention here some other concepts you might run into.\n",
    "I'll not go into detail on these concepts and how and why to use them, but instead simply show you the syntax so you can explore more on your own."
   ]
  },
  {
   "cell_type": "markdown",
   "metadata": {},
   "source": [
    "### Accessing the error message\n",
    "\n",
    "Sometimes in a ``try``...``except`` statement, you would like to be able to work with the error message itself.\n",
    "This can be done with the ``as`` keyword:"
   ]
  },
  {
   "cell_type": "code",
   "execution_count": 22,
   "metadata": {},
   "outputs": [
    {
     "name": "stdout",
     "output_type": "stream",
     "text": [
      "Error class is:   <class 'ZeroDivisionError'>\n",
      "Error message is: division by zero\n"
     ]
    }
   ],
   "source": [
    "try:\n",
    "    x = 1 / 0\n",
    "except ZeroDivisionError as err:\n",
    "    print(\"Error class is:  \", type(err))\n",
    "    print(\"Error message is:\", err)"
   ]
  },
  {
   "cell_type": "markdown",
   "metadata": {},
   "source": [
    "With this pattern, you can further customize the exception handling of your function."
   ]
  },
  {
   "cell_type": "markdown",
   "metadata": {},
   "source": [
    "### Defining custom exceptions\n",
    "In addition to built-in exceptions, it is possible to define custom exceptions through *class inheritance*.\n",
    "For instance, if you want a special kind of ``ValueError``, you can do this:"
   ]
  },
  {
   "cell_type": "code",
   "execution_count": 23,
   "metadata": {},
   "outputs": [
    {
     "ename": "MySpecialError",
     "evalue": "here's the message",
     "output_type": "error",
     "traceback": [
      "\u001b[0;31m---------------------------------------------------------------------------\u001b[0m",
      "\u001b[0;31mMySpecialError\u001b[0m                            Traceback (most recent call last)",
      "\u001b[0;32m<ipython-input-23-92c36e04a9d0>\u001b[0m in \u001b[0;36m<module>\u001b[0;34m()\u001b[0m\n\u001b[1;32m      2\u001b[0m     \u001b[0;32mpass\u001b[0m\u001b[0;34m\u001b[0m\u001b[0m\n\u001b[1;32m      3\u001b[0m \u001b[0;34m\u001b[0m\u001b[0m\n\u001b[0;32m----> 4\u001b[0;31m \u001b[0;32mraise\u001b[0m \u001b[0mMySpecialError\u001b[0m\u001b[0;34m(\u001b[0m\u001b[0;34m\"here's the message\"\u001b[0m\u001b[0;34m)\u001b[0m\u001b[0;34m\u001b[0m\u001b[0m\n\u001b[0m",
      "\u001b[0;31mMySpecialError\u001b[0m: here's the message"
     ]
    }
   ],
   "source": [
    "class MySpecialError(ValueError):\n",
    "    pass\n",
    "\n",
    "raise MySpecialError(\"here's the message\")"
   ]
  },
  {
   "cell_type": "markdown",
   "metadata": {},
   "source": [
    "This would allow you to use a ``try``...``except`` block that only catches this type of error:"
   ]
  },
  {
   "cell_type": "code",
   "execution_count": 24,
   "metadata": {},
   "outputs": [
    {
     "name": "stdout",
     "output_type": "stream",
     "text": [
      "do something\n",
      "do something else\n"
     ]
    }
   ],
   "source": [
    "try:\n",
    "    print(\"do something\")\n",
    "    raise MySpecialError(\"[informative error message here]\")\n",
    "except MySpecialError:\n",
    "    print(\"do something else\")"
   ]
  },
  {
   "cell_type": "markdown",
   "metadata": {},
   "source": [
    "You might find this useful as you develop more customized code."
   ]
  },
  {
   "cell_type": "markdown",
   "metadata": {},
   "source": [
    "## ``try``...``except``...``else``...``finally``\n",
    "In addition to ``try`` and ``except``, you can use the ``else`` and ``finally`` keywords to further tune your code's handling of exceptions.\n",
    "The basic structure is this:"
   ]
  },
  {
   "cell_type": "code",
   "execution_count": 25,
   "metadata": {},
   "outputs": [
    {
     "name": "stdout",
     "output_type": "stream",
     "text": [
      "try something here\n",
      "this happens only if it succeeds\n",
      "this happens no matter what\n"
     ]
    }
   ],
   "source": [
    "try:\n",
    "    print(\"try something here\")\n",
    "except:\n",
    "    print(\"this happens only if it fails\")\n",
    "else:\n",
    "    print(\"this happens only if it succeeds\")\n",
    "finally:\n",
    "    print(\"this happens no matter what\")"
   ]
  },
  {
   "cell_type": "markdown",
   "metadata": {},
   "source": [
    "The utility of ``else`` here is clear, but what's the point of ``finally``?\n",
    "Well, the ``finally`` clause really is executed *no matter what*: I usually see it used to do some sort of cleanup after an operation completes."
   ]
  },
  {
   "cell_type": "markdown",
   "metadata": {},
   "source": [
    "<!--NAVIGATION-->\n",
    "< [Errors and Exceptions](#section09) | [Contents](#Index) | [List Comprehensions](#section11) >"
   ]
  },
  {
   "cell_type": "markdown",
   "metadata": {},
   "source": [
    "<a id='section10'></a>"
   ]
  },
  {
   "cell_type": "markdown",
   "metadata": {},
   "source": [
    "# Iterators"
   ]
  },
  {
   "cell_type": "markdown",
   "metadata": {},
   "source": [
    "Often an important piece of data analysis is repeating a similar calculation, over and over, in an automated fashion.\n",
    "For example, you may have a table of a names that you'd like to split into first and last, or perhaps of dates that you'd like to convert to some standard format.\n",
    "One of Python's answers to this is the *iterator* syntax.\n",
    "We've seen this already with the ``range`` iterator:"
   ]
  },
  {
   "cell_type": "code",
   "execution_count": 1,
   "metadata": {},
   "outputs": [
    {
     "name": "stdout",
     "output_type": "stream",
     "text": [
      "0 1 2 3 4 5 6 7 8 9 "
     ]
    }
   ],
   "source": [
    "for i in range(10):\n",
    "    print(i, end=' ')"
   ]
  },
  {
   "cell_type": "markdown",
   "metadata": {},
   "source": [
    "Here we're going to dig a bit deeper.\n",
    "It turns out that in Python 3, ``range`` is not a list, but is something called an *iterator*, and learning how it works is key to understanding a wide class of very useful Python functionality."
   ]
  },
  {
   "cell_type": "markdown",
   "metadata": {},
   "source": [
    "## Iterating over lists\n",
    "Iterators are perhaps most easily understood in the concrete case of iterating through a list.\n",
    "Consider the following:"
   ]
  },
  {
   "cell_type": "code",
   "execution_count": 2,
   "metadata": {},
   "outputs": [
    {
     "name": "stdout",
     "output_type": "stream",
     "text": [
      "3 5 7 9 11 "
     ]
    }
   ],
   "source": [
    "for value in [2, 4, 6, 8, 10]:\n",
    "    # do some operation\n",
    "    print(value + 1, end=' ')"
   ]
  },
  {
   "cell_type": "markdown",
   "metadata": {},
   "source": [
    "The familiar \"``for x in y``\" syntax allows us to repeat some operation for each value in the list.\n",
    "The fact that the syntax of the code is so close to its English description (\"*for [each] value in [the] list*\") is just one of the syntactic choices that makes Python such an intuitive language to learn and use.\n",
    "\n",
    "But the face-value behavior is not what's *really* happening.\n",
    "When you write something like \"``for val in L``\", the Python interpreter checks whether it has an *iterator* interface, which you can check yourself with the built-in ``iter`` function:"
   ]
  },
  {
   "cell_type": "code",
   "execution_count": 3,
   "metadata": {},
   "outputs": [
    {
     "data": {
      "text/plain": [
       "<list_iterator at 0x104722400>"
      ]
     },
     "execution_count": 3,
     "metadata": {},
     "output_type": "execute_result"
    }
   ],
   "source": [
    "iter([2, 4, 6, 8, 10])"
   ]
  },
  {
   "cell_type": "markdown",
   "metadata": {},
   "source": [
    "It is this iterator object that provides the functionality required by the ``for`` loop.\n",
    "The ``iter`` object is a container that gives you access to the next object for as long as it's valid, which can be seen with the built-in function ``next``:"
   ]
  },
  {
   "cell_type": "code",
   "execution_count": 4,
   "metadata": {
    "collapsed": true
   },
   "outputs": [],
   "source": [
    "I = iter([2, 4, 6, 8, 10])"
   ]
  },
  {
   "cell_type": "code",
   "execution_count": 5,
   "metadata": {},
   "outputs": [
    {
     "name": "stdout",
     "output_type": "stream",
     "text": [
      "2\n"
     ]
    }
   ],
   "source": [
    "print(next(I))"
   ]
  },
  {
   "cell_type": "code",
   "execution_count": 6,
   "metadata": {},
   "outputs": [
    {
     "name": "stdout",
     "output_type": "stream",
     "text": [
      "4\n"
     ]
    }
   ],
   "source": [
    "print(next(I))"
   ]
  },
  {
   "cell_type": "code",
   "execution_count": 7,
   "metadata": {},
   "outputs": [
    {
     "name": "stdout",
     "output_type": "stream",
     "text": [
      "6\n"
     ]
    }
   ],
   "source": [
    "print(next(I))"
   ]
  },
  {
   "cell_type": "markdown",
   "metadata": {},
   "source": [
    "What is the purpose of this level of indirection?\n",
    "Well, it turns out this is incredibly useful, because it allows Python to treat things as lists that are *not actually lists*."
   ]
  },
  {
   "cell_type": "markdown",
   "metadata": {},
   "source": [
    "## ``range()``: A List Is Not Always a List\n",
    "Perhaps the most common example of this indirect iteration is the ``range()`` function in Python 3 (named ``xrange()`` in Python 2), which returns not a list, but a special ``range()`` object:"
   ]
  },
  {
   "cell_type": "code",
   "execution_count": 8,
   "metadata": {},
   "outputs": [
    {
     "data": {
      "text/plain": [
       "range(0, 10)"
      ]
     },
     "execution_count": 8,
     "metadata": {},
     "output_type": "execute_result"
    }
   ],
   "source": [
    "range(10)"
   ]
  },
  {
   "cell_type": "markdown",
   "metadata": {},
   "source": [
    "``range``, like a list, exposes an iterator:"
   ]
  },
  {
   "cell_type": "code",
   "execution_count": 9,
   "metadata": {},
   "outputs": [
    {
     "data": {
      "text/plain": [
       "<range_iterator at 0x1045a1810>"
      ]
     },
     "execution_count": 9,
     "metadata": {},
     "output_type": "execute_result"
    }
   ],
   "source": [
    "iter(range(10))"
   ]
  },
  {
   "cell_type": "markdown",
   "metadata": {},
   "source": [
    "So Python knows to treat it *as if* it's a list:"
   ]
  },
  {
   "cell_type": "code",
   "execution_count": 10,
   "metadata": {},
   "outputs": [
    {
     "name": "stdout",
     "output_type": "stream",
     "text": [
      "0 1 2 3 4 5 6 7 8 9 "
     ]
    }
   ],
   "source": [
    "for i in range(10):\n",
    "    print(i, end=' ')"
   ]
  },
  {
   "cell_type": "markdown",
   "metadata": {},
   "source": [
    "The benefit of the iterator indirection is that *the full list is never explicitly created!*\n",
    "We can see this by doing a range calculation that would overwhelm our system memory if we actually instantiated it (note that in Python 2, ``range`` creates a list, so running the following will not lead to good things!):"
   ]
  },
  {
   "cell_type": "code",
   "execution_count": 11,
   "metadata": {},
   "outputs": [
    {
     "name": "stdout",
     "output_type": "stream",
     "text": [
      "0, 1, 2, 3, 4, 5, 6, 7, 8, 9, "
     ]
    }
   ],
   "source": [
    "N = 10 ** 12\n",
    "for i in range(N):\n",
    "    if i >= 10: break\n",
    "    print(i, end=', ')"
   ]
  },
  {
   "cell_type": "markdown",
   "metadata": {},
   "source": [
    "If ``range`` were to actually create that list of one trillion values, it would occupy tens of terabytes of machine memory: a waste, given the fact that we're ignoring all but the first 10 values!\n",
    "\n",
    "In fact, there's no reason that iterators ever have to end at all!\n",
    "Python's ``itertools`` library contains a ``count`` function that acts as an infinite range:"
   ]
  },
  {
   "cell_type": "code",
   "execution_count": 12,
   "metadata": {},
   "outputs": [
    {
     "name": "stdout",
     "output_type": "stream",
     "text": [
      "0, 1, 2, 3, 4, 5, 6, 7, 8, 9, "
     ]
    }
   ],
   "source": [
    "from itertools import count\n",
    "\n",
    "for i in count():\n",
    "    if i >= 10:\n",
    "        break\n",
    "    print(i, end=', ')"
   ]
  },
  {
   "cell_type": "markdown",
   "metadata": {},
   "source": [
    "Had we not thrown-in a loop break here, it would go on happily counting until the process is manually interrupted or killed (using, for example, ``ctrl-C``)."
   ]
  },
  {
   "cell_type": "markdown",
   "metadata": {},
   "source": [
    "## Useful Iterators\n",
    "This iterator syntax is used nearly universally in Python built-in types as well as the more data science-specific objects we'll explore in later sections.\n",
    "Here we'll cover some of the more useful iterators in the Python language:"
   ]
  },
  {
   "cell_type": "markdown",
   "metadata": {},
   "source": [
    "### ``enumerate``\n",
    "Often you need to iterate not only the values in an array, but also keep track of the index.\n",
    "You might be tempted to do things this way:"
   ]
  },
  {
   "cell_type": "code",
   "execution_count": 13,
   "metadata": {},
   "outputs": [
    {
     "name": "stdout",
     "output_type": "stream",
     "text": [
      "0 2\n",
      "1 4\n",
      "2 6\n",
      "3 8\n",
      "4 10\n"
     ]
    }
   ],
   "source": [
    "L = [2, 4, 6, 8, 10]\n",
    "for i in range(len(L)):\n",
    "    print(i, L[i])"
   ]
  },
  {
   "cell_type": "markdown",
   "metadata": {},
   "source": [
    "Although this does work, Python provides a cleaner syntax using the ``enumerate`` iterator:"
   ]
  },
  {
   "cell_type": "code",
   "execution_count": 14,
   "metadata": {},
   "outputs": [
    {
     "name": "stdout",
     "output_type": "stream",
     "text": [
      "0 2\n",
      "1 4\n",
      "2 6\n",
      "3 8\n",
      "4 10\n"
     ]
    }
   ],
   "source": [
    "for i, val in enumerate(L):\n",
    "    print(i, val)"
   ]
  },
  {
   "cell_type": "markdown",
   "metadata": {},
   "source": [
    "This is the more \"Pythonic\" way to enumerate the indices and values in a list."
   ]
  },
  {
   "cell_type": "markdown",
   "metadata": {},
   "source": [
    "### ``zip``\n",
    "Other times, you may have multiple lists that you want to iterate over simultaneously.\n",
    "You could certainly iterate over the index as in the non-Pythonic example we looked at previously, but it is better to use the ``zip`` iterator, which zips together iterables:"
   ]
  },
  {
   "cell_type": "code",
   "execution_count": 15,
   "metadata": {},
   "outputs": [
    {
     "name": "stdout",
     "output_type": "stream",
     "text": [
      "2 3\n",
      "4 6\n",
      "6 9\n",
      "8 12\n",
      "10 15\n"
     ]
    }
   ],
   "source": [
    "L = [2, 4, 6, 8, 10]\n",
    "R = [3, 6, 9, 12, 15]\n",
    "for lval, rval in zip(L, R):\n",
    "    print(lval, rval)"
   ]
  },
  {
   "cell_type": "markdown",
   "metadata": {},
   "source": [
    "Any number of iterables can be zipped together, and if they are different lengths, the shortest will determine the length of the ``zip``."
   ]
  },
  {
   "cell_type": "markdown",
   "metadata": {},
   "source": [
    "### ``map`` and ``filter``\n",
    "The ``map`` iterator takes a function and applies it to the values in an iterator:"
   ]
  },
  {
   "cell_type": "code",
   "execution_count": 16,
   "metadata": {},
   "outputs": [
    {
     "name": "stdout",
     "output_type": "stream",
     "text": [
      "0 1 4 9 16 25 36 49 64 81 "
     ]
    }
   ],
   "source": [
    "# find the first 10 square numbers\n",
    "square = lambda x: x ** 2\n",
    "for val in map(square, range(10)):\n",
    "    print(val, end=' ')"
   ]
  },
  {
   "cell_type": "markdown",
   "metadata": {},
   "source": [
    "The ``filter`` iterator looks similar, except it only passes-through values for which the filter function evaluates to True:"
   ]
  },
  {
   "cell_type": "code",
   "execution_count": 17,
   "metadata": {},
   "outputs": [
    {
     "name": "stdout",
     "output_type": "stream",
     "text": [
      "0 2 4 6 8 "
     ]
    }
   ],
   "source": [
    "# find values up to 10 for which x % 2 is zero\n",
    "is_even = lambda x: x % 2 == 0\n",
    "for val in filter(is_even, range(10)):\n",
    "    print(val, end=' ')"
   ]
  },
  {
   "cell_type": "markdown",
   "metadata": {},
   "source": [
    "The ``map`` and ``filter`` functions, along with the ``reduce`` function (which lives in Python's ``functools`` module) are fundamental components of the *functional programming* style, which, while not a dominant programming style in the Python world, has its outspoken proponents (see, for example, the [pytoolz](https://toolz.readthedocs.org/en/latest/) library)."
   ]
  },
  {
   "cell_type": "markdown",
   "metadata": {},
   "source": [
    "### Iterators as function arguments\n",
    "\n",
    "We saw in [``*args`` and ``**kwargs``: Flexible Arguments](#*args-and-**kwargs:-Flexible-Arguments). that ``*args`` and ``**kwargs`` can be used to pass sequences and dictionaries to functions.\n",
    "It turns out that the ``*args`` syntax works not just with sequences, but with any iterator:"
   ]
  },
  {
   "cell_type": "code",
   "execution_count": 18,
   "metadata": {},
   "outputs": [
    {
     "name": "stdout",
     "output_type": "stream",
     "text": [
      "0 1 2 3 4 5 6 7 8 9\n"
     ]
    }
   ],
   "source": [
    "print(*range(10))"
   ]
  },
  {
   "cell_type": "markdown",
   "metadata": {},
   "source": [
    "So, for example, we can get tricky and compress the ``map`` example from before into the following:"
   ]
  },
  {
   "cell_type": "code",
   "execution_count": 19,
   "metadata": {},
   "outputs": [
    {
     "name": "stdout",
     "output_type": "stream",
     "text": [
      "0 1 4 9 16 25 36 49 64 81\n"
     ]
    }
   ],
   "source": [
    "print(*map(lambda x: x ** 2, range(10)))"
   ]
  },
  {
   "cell_type": "markdown",
   "metadata": {},
   "source": [
    "Using this trick lets us answer the age-old question that comes up in Python learners' forums: why is there no ``unzip()`` function which does the opposite of ``zip()``?\n",
    "If you lock yourself in a dark closet and think about it for a while, you might realize that the opposite of ``zip()`` is... ``zip()``! The key is that ``zip()`` can zip-together any number of iterators or sequences. Observe:"
   ]
  },
  {
   "cell_type": "code",
   "execution_count": 20,
   "metadata": {
    "collapsed": true
   },
   "outputs": [],
   "source": [
    "L1 = (1, 2, 3, 4)\n",
    "L2 = ('a', 'b', 'c', 'd')"
   ]
  },
  {
   "cell_type": "code",
   "execution_count": 21,
   "metadata": {},
   "outputs": [
    {
     "name": "stdout",
     "output_type": "stream",
     "text": [
      "(1, 'a') (2, 'b') (3, 'c') (4, 'd')\n"
     ]
    }
   ],
   "source": [
    "z = zip(L1, L2)\n",
    "print(*z)"
   ]
  },
  {
   "cell_type": "code",
   "execution_count": 22,
   "metadata": {},
   "outputs": [
    {
     "name": "stdout",
     "output_type": "stream",
     "text": [
      "(1, 2, 3, 4) ('a', 'b', 'c', 'd')\n"
     ]
    }
   ],
   "source": [
    "z = zip(L1, L2)\n",
    "new_L1, new_L2 = zip(*z)\n",
    "print(new_L1, new_L2)"
   ]
  },
  {
   "cell_type": "markdown",
   "metadata": {},
   "source": [
    "Ponder this for a while. If you understand why it works, you'll have come a long way in understanding Python iterators!"
   ]
  },
  {
   "cell_type": "markdown",
   "metadata": {},
   "source": [
    "## Specialized Iterators: ``itertools``\n",
    "\n",
    "We briefly looked at the infinite ``range`` iterator, ``itertools.count``.\n",
    "The ``itertools`` module contains a whole host of useful iterators; it's well worth your while to explore the module to see what's available.\n",
    "As an example, consider the ``itertools.permutations`` function, which iterates over all permutations of a sequence:"
   ]
  },
  {
   "cell_type": "code",
   "execution_count": 23,
   "metadata": {},
   "outputs": [
    {
     "name": "stdout",
     "output_type": "stream",
     "text": [
      "(0, 1, 2) (0, 2, 1) (1, 0, 2) (1, 2, 0) (2, 0, 1) (2, 1, 0)\n"
     ]
    }
   ],
   "source": [
    "from itertools import permutations\n",
    "p = permutations(range(3))\n",
    "print(*p)"
   ]
  },
  {
   "cell_type": "markdown",
   "metadata": {},
   "source": [
    "Similarly, the ``itertools.combinations`` function iterates over all unique combinations of ``N`` values within a list:"
   ]
  },
  {
   "cell_type": "code",
   "execution_count": 24,
   "metadata": {},
   "outputs": [
    {
     "name": "stdout",
     "output_type": "stream",
     "text": [
      "(0, 1) (0, 2) (0, 3) (1, 2) (1, 3) (2, 3)\n"
     ]
    }
   ],
   "source": [
    "from itertools import combinations\n",
    "c = combinations(range(4), 2)\n",
    "print(*c)"
   ]
  },
  {
   "cell_type": "markdown",
   "metadata": {},
   "source": [
    "Somewhat related is the ``product`` iterator, which iterates over all sets of pairs between two or more iterables:"
   ]
  },
  {
   "cell_type": "code",
   "execution_count": 25,
   "metadata": {},
   "outputs": [
    {
     "name": "stdout",
     "output_type": "stream",
     "text": [
      "('a', 0) ('a', 1) ('a', 2) ('b', 0) ('b', 1) ('b', 2)\n"
     ]
    }
   ],
   "source": [
    "from itertools import product\n",
    "p = product('ab', range(3))\n",
    "print(*p)"
   ]
  },
  {
   "cell_type": "markdown",
   "metadata": {},
   "source": [
    "Many more useful iterators exist in ``itertools``: the full list can be found, along with some examples, in Python's [online documentation](https://docs.python.org/3.5/library/itertools.html)."
   ]
  },
  {
   "cell_type": "markdown",
   "metadata": {},
   "source": [
    "<!--NAVIGATION-->\n",
    "< [Iterators](#section10) | [Contents](#Index) | [Generators](#section12) >"
   ]
  },
  {
   "cell_type": "markdown",
   "metadata": {},
   "source": [
    "<a id='section11'></a>"
   ]
  },
  {
   "cell_type": "markdown",
   "metadata": {},
   "source": [
    "# List Comprehensions"
   ]
  },
  {
   "cell_type": "markdown",
   "metadata": {},
   "source": [
    "If you read enough Python code, you'll eventually come across the terse and efficient construction known as a *list comprehension*.\n",
    "This is one feature of Python I expect you will fall in love with if you've not used it before; it looks something like this:"
   ]
  },
  {
   "cell_type": "code",
   "execution_count": 1,
   "metadata": {},
   "outputs": [
    {
     "data": {
      "text/plain": [
       "[1, 2, 4, 5, 7, 8, 10, 11, 13, 14, 16, 17, 19]"
      ]
     },
     "execution_count": 1,
     "metadata": {},
     "output_type": "execute_result"
    }
   ],
   "source": [
    "[i for i in range(20) if i % 3 > 0]"
   ]
  },
  {
   "cell_type": "markdown",
   "metadata": {},
   "source": [
    "The result of this is a list of numbers which excludes multiples of 3.\n",
    "While this example may seem a bit confusing at first, as familiarity with Python grows, reading and writing list comprehensions will become second nature."
   ]
  },
  {
   "cell_type": "markdown",
   "metadata": {},
   "source": [
    "## Basic List Comprehensions\n",
    "List comprehensions are simply a way to compress a list-building for-loop into a single short, readable line.\n",
    "For example, here is a loop that constructs a list of the first 12 square integers:"
   ]
  },
  {
   "cell_type": "code",
   "execution_count": 2,
   "metadata": {},
   "outputs": [
    {
     "data": {
      "text/plain": [
       "[0, 1, 4, 9, 16, 25, 36, 49, 64, 81, 100, 121]"
      ]
     },
     "execution_count": 2,
     "metadata": {},
     "output_type": "execute_result"
    }
   ],
   "source": [
    "L = []\n",
    "for n in range(12):\n",
    "    L.append(n ** 2)\n",
    "L"
   ]
  },
  {
   "cell_type": "markdown",
   "metadata": {},
   "source": [
    "The list comprehension equivalent of this is the following:"
   ]
  },
  {
   "cell_type": "code",
   "execution_count": 3,
   "metadata": {},
   "outputs": [
    {
     "data": {
      "text/plain": [
       "[0, 1, 4, 9, 16, 25, 36, 49, 64, 81, 100, 121]"
      ]
     },
     "execution_count": 3,
     "metadata": {},
     "output_type": "execute_result"
    }
   ],
   "source": [
    "[n ** 2 for n in range(12)]"
   ]
  },
  {
   "cell_type": "markdown",
   "metadata": {},
   "source": [
    "As with many Python statements, you can almost read-off the meaning of this statement in plain English: \"construct a list consisting of the square of ``n`` for each ``n`` up to 12\".\n",
    "\n",
    "This basic syntax, then, is ``[``*``expr``* ``for`` *``var``* ``in`` *``iterable``*``]``, where *``expr``* is any valid expression, *``var``* is a variable name, and *``iterable``* is any iterable Python object."
   ]
  },
  {
   "cell_type": "markdown",
   "metadata": {},
   "source": [
    "## Multiple Iteration\n",
    "Sometimes you want to build a list not just from one value, but from two. To do this, simply add another ``for`` expression in the comprehension:"
   ]
  },
  {
   "cell_type": "code",
   "execution_count": 4,
   "metadata": {},
   "outputs": [
    {
     "data": {
      "text/plain": [
       "[(0, 0), (0, 1), (0, 2), (1, 0), (1, 1), (1, 2)]"
      ]
     },
     "execution_count": 4,
     "metadata": {},
     "output_type": "execute_result"
    }
   ],
   "source": [
    "[(i, j) for i in range(2) for j in range(3)]"
   ]
  },
  {
   "cell_type": "markdown",
   "metadata": {},
   "source": [
    "Notice that the second ``for`` expression acts as the interior index, varying the fastest in the resulting list.\n",
    "This type of construction can be extended to three, four, or more iterators within the comprehension, though at some point code readibility will suffer!"
   ]
  },
  {
   "cell_type": "markdown",
   "metadata": {},
   "source": [
    "## Conditionals on the Iterator\n",
    "You can further control the iteration by adding a conditional to the end of the expression.\n",
    "In the first example of the section, we iterated over all numbers from 1 to 20, but left-out multiples of 3.\n",
    "Look at this again, and notice the construction:"
   ]
  },
  {
   "cell_type": "code",
   "execution_count": 5,
   "metadata": {},
   "outputs": [
    {
     "data": {
      "text/plain": [
       "[1, 2, 4, 5, 7, 8, 10, 11, 13, 14, 16, 17, 19]"
      ]
     },
     "execution_count": 5,
     "metadata": {},
     "output_type": "execute_result"
    }
   ],
   "source": [
    "[val for val in range(20) if val % 3 > 0]"
   ]
  },
  {
   "cell_type": "markdown",
   "metadata": {},
   "source": [
    "The expression ``(i % 3 > 0)`` evaluates to ``True`` unless ``val`` is divisible by 3.\n",
    "Again, the English language meaning can be immediately read off: \"Construct a list of values for each value up to 20, but only if the value is not divisible by 3\".\n",
    "Once you are comfortable with it, this is much easier to write – and to understand at a glance – than the equivalent loop syntax:"
   ]
  },
  {
   "cell_type": "code",
   "execution_count": 6,
   "metadata": {},
   "outputs": [
    {
     "data": {
      "text/plain": [
       "[1, 2, 4, 5, 7, 8, 10, 11, 13, 14, 16, 17, 19]"
      ]
     },
     "execution_count": 6,
     "metadata": {},
     "output_type": "execute_result"
    }
   ],
   "source": [
    "L = []\n",
    "for val in range(20):\n",
    "    if val % 3:\n",
    "        L.append(val)\n",
    "L"
   ]
  },
  {
   "cell_type": "markdown",
   "metadata": {},
   "source": [
    "## Conditionals on the Value\n",
    "If you've programmed in C, you might be familiar with the single-line conditional enabled by the ``?`` operator:\n",
    "``` C\n",
    "int absval = (val < 0) ? -val : val\n",
    "```\n",
    "Python has something very similar to this, which is most often used within list comprehensions, ``lambda`` functions, and other places where a simple expression is desired:"
   ]
  },
  {
   "cell_type": "code",
   "execution_count": 7,
   "metadata": {},
   "outputs": [
    {
     "data": {
      "text/plain": [
       "10"
      ]
     },
     "execution_count": 7,
     "metadata": {},
     "output_type": "execute_result"
    }
   ],
   "source": [
    "val = -10\n",
    "val if val >= 0 else -val"
   ]
  },
  {
   "cell_type": "markdown",
   "metadata": {},
   "source": [
    "We see that this simply duplicates the functionality of the built-in ``abs()`` function, but the construction lets you do some really interesting things within list comprehensions.\n",
    "This is getting pretty complicated now, but you could do something like this:"
   ]
  },
  {
   "cell_type": "code",
   "execution_count": 8,
   "metadata": {},
   "outputs": [
    {
     "data": {
      "text/plain": [
       "[1, -2, -4, 5, 7, -8, -10, 11, 13, -14, -16, 17, 19]"
      ]
     },
     "execution_count": 8,
     "metadata": {},
     "output_type": "execute_result"
    }
   ],
   "source": [
    "[val if val % 2 else -val\n",
    " for val in range(20) if val % 3]"
   ]
  },
  {
   "cell_type": "markdown",
   "metadata": {},
   "source": [
    "Note the line break within the list comprehension before the ``for`` expression: this is valid in Python, and is often a nice way to break-up long list comprehensions for greater readibility.\n",
    "Look this over: what we're doing is constructing a list, leaving out multiples of 3, and negating all mutliples of 2."
   ]
  },
  {
   "cell_type": "markdown",
   "metadata": {},
   "source": [
    "Once you understand the dynamics of list comprehensions, it's straightforward to move on to other types of comprehensions. The syntax is largely the same; the only difference is the type of bracket you use.\n",
    "\n",
    "For example, with curly braces you can create a ``set`` with a *set comprehension*:"
   ]
  },
  {
   "cell_type": "code",
   "execution_count": 11,
   "metadata": {},
   "outputs": [
    {
     "data": {
      "text/plain": [
       "{0, 1, 4, 9, 16, 25, 36, 49, 64, 81, 100, 121}"
      ]
     },
     "execution_count": 11,
     "metadata": {},
     "output_type": "execute_result"
    }
   ],
   "source": [
    "{n**2 for n in range(12)}"
   ]
  },
  {
   "cell_type": "markdown",
   "metadata": {},
   "source": [
    "Recall that a ``set`` is a collection that contains no duplicates.\n",
    "The set comprehension respects this rule, and eliminates any duplicate entries:"
   ]
  },
  {
   "cell_type": "code",
   "execution_count": 12,
   "metadata": {},
   "outputs": [
    {
     "data": {
      "text/plain": [
       "{0, 1, 2}"
      ]
     },
     "execution_count": 12,
     "metadata": {},
     "output_type": "execute_result"
    }
   ],
   "source": [
    "{a % 3 for a in range(1000)}"
   ]
  },
  {
   "cell_type": "markdown",
   "metadata": {},
   "source": [
    "With a slight tweak, you can add a colon (``:``) to create a *dict comprehension*:"
   ]
  },
  {
   "cell_type": "code",
   "execution_count": 13,
   "metadata": {},
   "outputs": [
    {
     "data": {
      "text/plain": [
       "{0: 0, 1: 1, 2: 4, 3: 9, 4: 16, 5: 25}"
      ]
     },
     "execution_count": 13,
     "metadata": {},
     "output_type": "execute_result"
    }
   ],
   "source": [
    "{n:n**2 for n in range(6)}"
   ]
  },
  {
   "cell_type": "markdown",
   "metadata": {},
   "source": [
    "Finally, if you use parentheses rather than square brackets, you get what's called a *generator expression*:"
   ]
  },
  {
   "cell_type": "code",
   "execution_count": 15,
   "metadata": {},
   "outputs": [
    {
     "data": {
      "text/plain": [
       "<generator object <genexpr> at 0x1027a5a50>"
      ]
     },
     "execution_count": 15,
     "metadata": {},
     "output_type": "execute_result"
    }
   ],
   "source": [
    "(n**2 for n in range(12))"
   ]
  },
  {
   "cell_type": "markdown",
   "metadata": {},
   "source": [
    "A generator expression is essentially a list comprehension in which elements are generated as-needed rather than all at-once, and the simplicity here belies the power of this language feature: we'll explore this more next."
   ]
  },
  {
   "cell_type": "markdown",
   "metadata": {},
   "source": [
    "<!--NAVIGATION-->\n",
    "< [List Comprehensions](#section11) | [Contents](#Index) | [Modules and Packages](#section13) >"
   ]
  },
  {
   "cell_type": "markdown",
   "metadata": {},
   "source": [
    "<a id='section12'></a>"
   ]
  },
  {
   "cell_type": "markdown",
   "metadata": {},
   "source": [
    "# Generators"
   ]
  },
  {
   "cell_type": "markdown",
   "metadata": {},
   "source": [
    "Here we'll take a deeper dive into Python generators, including *generator expressions* and *generator functions*."
   ]
  },
  {
   "cell_type": "markdown",
   "metadata": {},
   "source": [
    "## Generator Expressions"
   ]
  },
  {
   "cell_type": "markdown",
   "metadata": {},
   "source": [
    "The difference between list comprehensions and generator expressions is sometimes confusing; here we'll quickly outline the differences between them:"
   ]
  },
  {
   "cell_type": "markdown",
   "metadata": {},
   "source": [
    "### List comprehensions use square brackets, while generator expressions use parentheses\n",
    "This is a representative list comprehension:"
   ]
  },
  {
   "cell_type": "code",
   "execution_count": 1,
   "metadata": {},
   "outputs": [
    {
     "data": {
      "text/plain": [
       "[0, 1, 4, 9, 16, 25, 36, 49, 64, 81, 100, 121]"
      ]
     },
     "execution_count": 1,
     "metadata": {},
     "output_type": "execute_result"
    }
   ],
   "source": [
    "[n ** 2 for n in range(12)]"
   ]
  },
  {
   "cell_type": "markdown",
   "metadata": {},
   "source": [
    "While this is a representative generator expression:"
   ]
  },
  {
   "cell_type": "code",
   "execution_count": 2,
   "metadata": {},
   "outputs": [
    {
     "data": {
      "text/plain": [
       "<generator object <genexpr> at 0x104a60518>"
      ]
     },
     "execution_count": 2,
     "metadata": {},
     "output_type": "execute_result"
    }
   ],
   "source": [
    "(n ** 2 for n in range(12))"
   ]
  },
  {
   "cell_type": "markdown",
   "metadata": {},
   "source": [
    "Notice that printing the generator expression does not print the contents; one way to print the contents of a generator expression is to pass it to the ``list`` constructor:"
   ]
  },
  {
   "cell_type": "code",
   "execution_count": 3,
   "metadata": {},
   "outputs": [
    {
     "data": {
      "text/plain": [
       "[0, 1, 4, 9, 16, 25, 36, 49, 64, 81, 100, 121]"
      ]
     },
     "execution_count": 3,
     "metadata": {},
     "output_type": "execute_result"
    }
   ],
   "source": [
    "G = (n ** 2 for n in range(12))\n",
    "list(G)"
   ]
  },
  {
   "cell_type": "markdown",
   "metadata": {},
   "source": [
    "### A list is a collection of values, while a generator is a recipe for producing values\n",
    "When you create a list, you are actually building a collection of values, and there is some memory cost associated with that.\n",
    "When you create a generator, you are not building a collection of values, but a recipe for producing those values.\n",
    "Both expose the same iterator interface, as we can see here:"
   ]
  },
  {
   "cell_type": "code",
   "execution_count": 4,
   "metadata": {},
   "outputs": [
    {
     "name": "stdout",
     "output_type": "stream",
     "text": [
      "0 1 4 9 16 25 36 49 64 81 100 121 "
     ]
    }
   ],
   "source": [
    "L = [n ** 2 for n in range(12)]\n",
    "for val in L:\n",
    "    print(val, end=' ')"
   ]
  },
  {
   "cell_type": "code",
   "execution_count": 5,
   "metadata": {},
   "outputs": [
    {
     "name": "stdout",
     "output_type": "stream",
     "text": [
      "0 1 4 9 16 25 36 49 64 81 100 121 "
     ]
    }
   ],
   "source": [
    "G = (n ** 2 for n in range(12))\n",
    "for val in G:\n",
    "    print(val, end=' ')"
   ]
  },
  {
   "cell_type": "markdown",
   "metadata": {},
   "source": [
    "The difference is that a generator expression does not actually compute the values until they are needed.\n",
    "This not only leads to memory efficiency, but to computational efficiency as well!\n",
    "This also means that while the size of a list is limited by available memory, the size of a generator expression is unlimited!\n",
    "\n",
    "An example of an infinite generator expression can be created using the ``count`` iterator defined in ``itertools``:"
   ]
  },
  {
   "cell_type": "code",
   "execution_count": 6,
   "metadata": {},
   "outputs": [
    {
     "data": {
      "text/plain": [
       "count(0)"
      ]
     },
     "execution_count": 6,
     "metadata": {},
     "output_type": "execute_result"
    }
   ],
   "source": [
    "from itertools import count\n",
    "count()"
   ]
  },
  {
   "cell_type": "code",
   "execution_count": 7,
   "metadata": {},
   "outputs": [
    {
     "name": "stdout",
     "output_type": "stream",
     "text": [
      "0 1 2 3 4 5 6 7 8 9 10 "
     ]
    }
   ],
   "source": [
    "for i in count():\n",
    "    print(i, end=' ')\n",
    "    if i >= 10: break"
   ]
  },
  {
   "cell_type": "markdown",
   "metadata": {},
   "source": [
    "The ``count`` iterator will go on happily counting forever until you tell it to stop; this makes it convenient to create generators that will also go on forever:"
   ]
  },
  {
   "cell_type": "code",
   "execution_count": 8,
   "metadata": {},
   "outputs": [
    {
     "name": "stdout",
     "output_type": "stream",
     "text": [
      "1 11 13 17 19 23 29 31 37 41 "
     ]
    }
   ],
   "source": [
    "factors = [2, 3, 5, 7]\n",
    "G = (i for i in count() if all(i % n > 0 for n in factors))\n",
    "for val in G:\n",
    "    print(val, end=' ')\n",
    "    if val > 40: break"
   ]
  },
  {
   "cell_type": "markdown",
   "metadata": {},
   "source": [
    "You might see what we're getting at here: if we were to expand the list of factors appropriately, what we would have the beginnings of is a prime number generator, using the Sieve of Eratosthenes algorithm. We'll explore this more momentarily."
   ]
  },
  {
   "cell_type": "markdown",
   "metadata": {},
   "source": [
    "### A list can be iterated multiple times; a generator expression is single-use\n",
    "This is one of those potential gotchas of generator expressions.\n",
    "With a list, we can straightforwardly do this:"
   ]
  },
  {
   "cell_type": "code",
   "execution_count": 9,
   "metadata": {},
   "outputs": [
    {
     "name": "stdout",
     "output_type": "stream",
     "text": [
      "0 1 4 9 16 25 36 49 64 81 100 121 \n",
      "0 1 4 9 16 25 36 49 64 81 100 121 "
     ]
    }
   ],
   "source": [
    "L = [n ** 2 for n in range(12)]\n",
    "for val in L:\n",
    "    print(val, end=' ')\n",
    "print()\n",
    "\n",
    "for val in L:\n",
    "    print(val, end=' ')"
   ]
  },
  {
   "cell_type": "markdown",
   "metadata": {},
   "source": [
    "A generator expression, on the other hand, is used-up after one iteration:"
   ]
  },
  {
   "cell_type": "code",
   "execution_count": 10,
   "metadata": {},
   "outputs": [
    {
     "data": {
      "text/plain": [
       "[0, 1, 4, 9, 16, 25, 36, 49, 64, 81, 100, 121]"
      ]
     },
     "execution_count": 10,
     "metadata": {},
     "output_type": "execute_result"
    }
   ],
   "source": [
    "G = (n ** 2 for n in range(12))\n",
    "list(G)"
   ]
  },
  {
   "cell_type": "code",
   "execution_count": 11,
   "metadata": {},
   "outputs": [
    {
     "data": {
      "text/plain": [
       "[]"
      ]
     },
     "execution_count": 11,
     "metadata": {},
     "output_type": "execute_result"
    }
   ],
   "source": [
    "list(G)"
   ]
  },
  {
   "cell_type": "markdown",
   "metadata": {},
   "source": [
    "This can be very useful because it means iteration can be stopped and started:"
   ]
  },
  {
   "cell_type": "code",
   "execution_count": 12,
   "metadata": {},
   "outputs": [
    {
     "name": "stdout",
     "output_type": "stream",
     "text": [
      "0 1 4 9 16 25 36 \n",
      "doing something in between\n",
      "49 64 81 100 121 "
     ]
    }
   ],
   "source": [
    "G = (n**2 for n in range(12))\n",
    "for n in G:\n",
    "    print(n, end=' ')\n",
    "    if n > 30: break\n",
    "\n",
    "print(\"\\ndoing something in between\")\n",
    "\n",
    "for n in G:\n",
    "    print(n, end=' ')"
   ]
  },
  {
   "cell_type": "markdown",
   "metadata": {},
   "source": [
    "One place I've found this useful is when working with collections of data files on disk; it means that you can quite easily analyze them in batches, letting the generator keep track of which ones you have yet to see."
   ]
  },
  {
   "cell_type": "markdown",
   "metadata": {},
   "source": [
    "## Generator Functions: Using ``yield``\n",
    "We saw in the previous section that list comprehensions are best used to create relatively simple lists, while using a normal ``for`` loop can be better in more complicated situations.\n",
    "The same is true of generator expressions: we can make more complicated generators using *generator functions*, which make use of the ``yield`` statement.\n",
    "\n",
    "Here we have two ways of constructing the same list:"
   ]
  },
  {
   "cell_type": "code",
   "execution_count": 13,
   "metadata": {},
   "outputs": [
    {
     "name": "stdout",
     "output_type": "stream",
     "text": [
      "[0, 1, 4, 9, 16, 25, 36, 49, 64, 81, 100, 121]\n",
      "[0, 1, 4, 9, 16, 25, 36, 49, 64, 81, 100, 121]\n"
     ]
    }
   ],
   "source": [
    "L1 = [n ** 2 for n in range(12)]\n",
    "\n",
    "L2 = []\n",
    "for n in range(12):\n",
    "    L2.append(n ** 2)\n",
    "\n",
    "print(L1)\n",
    "print(L2)"
   ]
  },
  {
   "cell_type": "markdown",
   "metadata": {},
   "source": [
    "Similarly, here we have two ways of constructing equivalent generators:"
   ]
  },
  {
   "cell_type": "code",
   "execution_count": 14,
   "metadata": {},
   "outputs": [
    {
     "name": "stdout",
     "output_type": "stream",
     "text": [
      "0 1 4 9 16 25 36 49 64 81 100 121\n",
      "0 1 4 9 16 25 36 49 64 81 100 121\n"
     ]
    }
   ],
   "source": [
    "G1 = (n ** 2 for n in range(12))\n",
    "\n",
    "def gen():\n",
    "    for n in range(12):\n",
    "        yield n ** 2\n",
    "\n",
    "G2 = gen()\n",
    "print(*G1)\n",
    "print(*G2)"
   ]
  },
  {
   "cell_type": "markdown",
   "metadata": {},
   "source": [
    "A generator function is a function that, rather than using ``return`` to return a value once, uses ``yield`` to yield a (potentially infinite) sequence of values.\n",
    "Just as in generator expressions, the state of the generator is preserved between partial iterations, but if we want a fresh copy of the generator we can simply call the function again."
   ]
  },
  {
   "cell_type": "markdown",
   "metadata": {},
   "source": [
    "## Example: Prime Number Generator\n",
    "Here I'll show my favorite example of a generator function: a function to generate an unbounded series of prime numbers.\n",
    "A classic algorithm for this is the *Sieve of Eratosthenes*, which works something like this:"
   ]
  },
  {
   "cell_type": "code",
   "execution_count": 15,
   "metadata": {},
   "outputs": [
    {
     "name": "stdout",
     "output_type": "stream",
     "text": [
      "[2, 3, 4, 5, 6, 7, 8, 9, 10, 11, 12, 13, 14, 15, 16, 17, 18, 19, 20, 21, 22, 23, 24, 25, 26, 27, 28, 29, 30, 31, 32, 33, 34, 35, 36, 37, 38, 39]\n"
     ]
    }
   ],
   "source": [
    "# Generate a list of candidates\n",
    "L = [n for n in range(2, 40)]\n",
    "print(L)"
   ]
  },
  {
   "cell_type": "code",
   "execution_count": 16,
   "metadata": {},
   "outputs": [
    {
     "name": "stdout",
     "output_type": "stream",
     "text": [
      "[2, 3, 5, 7, 9, 11, 13, 15, 17, 19, 21, 23, 25, 27, 29, 31, 33, 35, 37, 39]\n"
     ]
    }
   ],
   "source": [
    "# Remove all multiples of the first value\n",
    "L = [n for n in L if n == L[0] or n % L[0] > 0]\n",
    "print(L)"
   ]
  },
  {
   "cell_type": "code",
   "execution_count": 17,
   "metadata": {},
   "outputs": [
    {
     "name": "stdout",
     "output_type": "stream",
     "text": [
      "[2, 3, 5, 7, 11, 13, 17, 19, 23, 25, 29, 31, 35, 37]\n"
     ]
    }
   ],
   "source": [
    "# Remove all multiples of the second value\n",
    "L = [n for n in L if n == L[1] or n % L[1] > 0]\n",
    "print(L)"
   ]
  },
  {
   "cell_type": "code",
   "execution_count": 18,
   "metadata": {},
   "outputs": [
    {
     "name": "stdout",
     "output_type": "stream",
     "text": [
      "[2, 3, 5, 7, 11, 13, 17, 19, 23, 29, 31, 37]\n"
     ]
    }
   ],
   "source": [
    "# Remove all multiples of the third value\n",
    "L = [n for n in L if n == L[2] or n % L[2] > 0]\n",
    "print(L)"
   ]
  },
  {
   "cell_type": "markdown",
   "metadata": {},
   "source": [
    "If we repeat this procedure enough times on a large enough list, we can generate as many primes as we wish.\n",
    "\n",
    "Let's encapsulate this logic in a generator function:"
   ]
  },
  {
   "cell_type": "code",
   "execution_count": 19,
   "metadata": {},
   "outputs": [
    {
     "name": "stdout",
     "output_type": "stream",
     "text": [
      "2 3 5 7 11 13 17 19 23 29 31 37 41 43 47 53 59 61 67 71 73 79 83 89 97\n"
     ]
    }
   ],
   "source": [
    "def gen_primes(N):\n",
    "    \"\"\"Generate primes up to N\"\"\"\n",
    "    primes = set()\n",
    "    for n in range(2, N):\n",
    "        if all(n % p > 0 for p in primes):\n",
    "            primes.add(n)\n",
    "            yield n\n",
    "\n",
    "print(*gen_primes(100))"
   ]
  },
  {
   "cell_type": "markdown",
   "metadata": {},
   "source": [
    "That's all there is to it!\n",
    "While this is certainly not the most computationally efficient implementation of the Sieve of Eratosthenes, it illustrates how convenient the generator function syntax can be for building more complicated sequences."
   ]
  },
  {
   "cell_type": "markdown",
   "metadata": {},
   "source": [
    "<!--NAVIGATION-->\n",
    "< [Generators](#section12) | [Contents](#Index) | [String Manipulation and Regular Expressions](#section14) >"
   ]
  },
  {
   "cell_type": "markdown",
   "metadata": {},
   "source": [
    "<a id='section13'></a>"
   ]
  },
  {
   "cell_type": "markdown",
   "metadata": {},
   "source": [
    "# Modules and Packages"
   ]
  },
  {
   "cell_type": "markdown",
   "metadata": {},
   "source": [
    "One feature of Python that makes it useful for a wide range of tasks is the fact that it comes \"batteries included\" – that is, the Python standard library contains useful tools for a wide range of tasks.\n",
    "On top of this, there is a broad ecosystem of third-party tools and packages that offer more specialized functionality.\n",
    "Here we'll take a look at importing standard library modules, tools for installing third-party modules, and a description of how you can make your own modules."
   ]
  },
  {
   "cell_type": "markdown",
   "metadata": {},
   "source": [
    "## Loading Modules: the ``import`` Statement\n",
    "\n",
    "For loading built-in and third-party modules, Python provides the ``import`` statement.\n",
    "There are a few ways to use the statement, which we will mention briefly here, from most recommended to least recommended."
   ]
  },
  {
   "cell_type": "markdown",
   "metadata": {},
   "source": [
    "### Explicit module import\n",
    "\n",
    "Explicit import of a module preserves the module's content in a namespace.\n",
    "The namespace is then used to refer to its contents with a \"``.``\" between them.\n",
    "For example, here we'll import the built-in ``math`` module and compute the cosine of pi:"
   ]
  },
  {
   "cell_type": "code",
   "execution_count": 1,
   "metadata": {},
   "outputs": [
    {
     "data": {
      "text/plain": [
       "-1.0"
      ]
     },
     "execution_count": 1,
     "metadata": {},
     "output_type": "execute_result"
    }
   ],
   "source": [
    "import math\n",
    "math.cos(math.pi)"
   ]
  },
  {
   "cell_type": "markdown",
   "metadata": {},
   "source": [
    "### Explicit module import by alias\n",
    "\n",
    "For longer module names, it's not convenient to use the full module name each time you access some element.\n",
    "For this reason, we'll commonly use the \"``import ... as ...``\" pattern to create a shorter alias for the namespace.\n",
    "For example, the NumPy (Numerical Python) package, a popular third-party package useful for data science, is by convention imported under the alias ``np``:"
   ]
  },
  {
   "cell_type": "code",
   "execution_count": 2,
   "metadata": {},
   "outputs": [
    {
     "data": {
      "text/plain": [
       "-1.0"
      ]
     },
     "execution_count": 2,
     "metadata": {},
     "output_type": "execute_result"
    }
   ],
   "source": [
    "import numpy as np\n",
    "np.cos(np.pi)"
   ]
  },
  {
   "cell_type": "markdown",
   "metadata": {},
   "source": [
    "### Explicit import of module contents\n",
    "\n",
    "Sometimes rather than importing the module namespace, you would just like to import a few particular items from the module.\n",
    "This can be done with the \"``from ... import ...``\" pattern.\n",
    "For example, we can import just the ``cos`` function and the ``pi`` constant from the ``math`` module:"
   ]
  },
  {
   "cell_type": "code",
   "execution_count": 3,
   "metadata": {},
   "outputs": [
    {
     "data": {
      "text/plain": [
       "-1.0"
      ]
     },
     "execution_count": 3,
     "metadata": {},
     "output_type": "execute_result"
    }
   ],
   "source": [
    "from math import cos, pi\n",
    "cos(pi)"
   ]
  },
  {
   "cell_type": "markdown",
   "metadata": {},
   "source": [
    "### Implicit import of module contents\n",
    "\n",
    "Finally, it is sometimes useful to import the entirety of the module contents into the local namespace.\n",
    "This can be done with the \"``from ... import *``\" pattern:"
   ]
  },
  {
   "cell_type": "code",
   "execution_count": 4,
   "metadata": {},
   "outputs": [
    {
     "data": {
      "text/plain": [
       "1.0"
      ]
     },
     "execution_count": 4,
     "metadata": {},
     "output_type": "execute_result"
    }
   ],
   "source": [
    "from math import *\n",
    "sin(pi) ** 2 + cos(pi) ** 2"
   ]
  },
  {
   "cell_type": "markdown",
   "metadata": {},
   "source": [
    "This pattern should be used sparingly, if at all.\n",
    "The problem is that such imports can sometimes overwrite function names that you do not intend to overwrite, and the implicitness of the statement makes it difficult to determine what has changed.\n",
    "\n",
    "For example, Python has a built-in ``sum`` function that can be used for various operations:"
   ]
  },
  {
   "cell_type": "code",
   "execution_count": 5,
   "metadata": {},
   "outputs": [
    {
     "name": "stdout",
     "output_type": "stream",
     "text": [
      "Help on built-in function sum in module builtins:\n",
      "\n",
      "sum(...)\n",
      "    sum(iterable[, start]) -> value\n",
      "    \n",
      "    Return the sum of an iterable of numbers (NOT strings) plus the value\n",
      "    of parameter 'start' (which defaults to 0).  When the iterable is\n",
      "    empty, return start.\n",
      "\n"
     ]
    }
   ],
   "source": [
    "help(sum)"
   ]
  },
  {
   "cell_type": "markdown",
   "metadata": {},
   "source": [
    "We can use this to compute the sum of a sequence, starting with a certain value (here, we'll start with ``-1``):"
   ]
  },
  {
   "cell_type": "code",
   "execution_count": 6,
   "metadata": {},
   "outputs": [
    {
     "data": {
      "text/plain": [
       "9"
      ]
     },
     "execution_count": 6,
     "metadata": {},
     "output_type": "execute_result"
    }
   ],
   "source": [
    "sum(range(5), -1)"
   ]
  },
  {
   "cell_type": "markdown",
   "metadata": {},
   "source": [
    "Now observe what happens if we make the *exact same function call* after importing ``*`` from ``numpy``:"
   ]
  },
  {
   "cell_type": "code",
   "execution_count": 7,
   "metadata": {
    "collapsed": true
   },
   "outputs": [],
   "source": [
    "from numpy import *"
   ]
  },
  {
   "cell_type": "code",
   "execution_count": 8,
   "metadata": {},
   "outputs": [
    {
     "data": {
      "text/plain": [
       "10"
      ]
     },
     "execution_count": 8,
     "metadata": {},
     "output_type": "execute_result"
    }
   ],
   "source": [
    "sum(range(5), -1)"
   ]
  },
  {
   "cell_type": "markdown",
   "metadata": {},
   "source": [
    "The result is off by one!\n",
    "The reason for this is that the ``import *`` statement *replaces* the built-in ``sum`` function with the ``numpy.sum`` function, which has a different call signature: in the former, we're summing ``range(5)`` starting at ``-1``; in the latter, we're summing ``range(5)`` along the last axis (indicated by ``-1``).\n",
    "This is the type of situation that may arise if care is not taken when using \"``import *``\" – for this reason, it is best to avoid this unless you know exactly what you are doing."
   ]
  },
  {
   "cell_type": "markdown",
   "metadata": {},
   "source": [
    "## Importing from Python's Standard Library\n",
    "\n",
    "Python's standard library contains many useful built-in modules, which you can read about fully in [Python's documentation](https://docs.python.org/3/library/).\n",
    "Any of these can be imported with the ``import`` statement, and then explored using the help function seen in the previous section.\n",
    "Here is an extremely incomplete list of some of the modules you might wish to explore and learn about:\n",
    "\n",
    "- ``os`` and ``sys``: Tools for interfacing with the operating system, including navigating file directory structures and executing shell commands\n",
    "- ``math`` and ``cmath``: Mathematical functions and operations on real and complex numbers\n",
    "- ``itertools``: Tools for constructing and interacting with iterators and generators\n",
    "- ``functools``: Tools that assist with functional programming\n",
    "- ``random``: Tools for generating pseudorandom numbers\n",
    "- ``pickle``: Tools for object persistence: saving objects to and loading objects from disk\n",
    "- ``json`` and ``csv``: Tools for reading JSON-formatted and CSV-formatted files.\n",
    "- ``urllib``: Tools for doing HTTP and other web requests.\n",
    "\n",
    "You can find information on these, and many more, in the Python standard library documentation: https://docs.python.org/3/library/."
   ]
  },
  {
   "cell_type": "markdown",
   "metadata": {},
   "source": [
    "## Importing from Third-Party Modules\n",
    "\n",
    "One of the things that makes Python useful, especially within the world of data science, is its ecosystem of third-party modules.\n",
    "These can be imported just as the built-in modules, but first the modules must be installed on your system.\n",
    "The standard registry for such modules is the Python Package Index (*PyPI* for short), found on the Web at http://pypi.python.org/.\n",
    "For convenience, Python comes with a program called ``pip`` (a recursive acronym meaning \"pip installs packages\"), which will automatically fetch packages released and listed on PyPI (if you use Python version 2, ``pip`` must be installed separately).\n",
    "For example, if you'd like to install the ``supersmoother`` package that I wrote, all that is required is to type the following at the command line:\n",
    "```\n",
    "$ pip install supersmoother\n",
    "```\n",
    "The source code for the package will be automatically downloaded from the PyPI repository, and the package installed in the standard Python path (assuming you have permission to do so on the computer you're using).\n",
    "\n",
    "For more information about PyPI and the ``pip`` installer, refer to the documentation at http://pypi.python.org/."
   ]
  },
  {
   "cell_type": "markdown",
   "metadata": {},
   "source": [
    "<!--NAVIGATION-->\n",
    "< [Modules and Packages](#section13) | [Contents](#Index) | [A Preview of Data Science Tools](#section15) >"
   ]
  },
  {
   "cell_type": "markdown",
   "metadata": {},
   "source": [
    "<a id='section14'></a>"
   ]
  },
  {
   "cell_type": "markdown",
   "metadata": {},
   "source": [
    "# String Manipulation and Regular Expressions"
   ]
  },
  {
   "cell_type": "markdown",
   "metadata": {},
   "source": [
    "One place where the Python language really shines is in the manipulation of strings.\n",
    "This section will cover some of Python's built-in string methods and formatting operations, before moving on to a quick guide to the extremely useful subject of *regular expressions*.\n",
    "Such string manipulation patterns come up often in the context of data science work, and is one big perk of Python in this context.\n",
    "\n",
    "Strings in Python can be defined using either single or double quotations (they are functionally equivalent):"
   ]
  },
  {
   "cell_type": "code",
   "execution_count": 1,
   "metadata": {},
   "outputs": [
    {
     "data": {
      "text/plain": [
       "True"
      ]
     },
     "execution_count": 1,
     "metadata": {},
     "output_type": "execute_result"
    }
   ],
   "source": [
    "x = 'a string'\n",
    "y = \"a string\"\n",
    "x == y"
   ]
  },
  {
   "cell_type": "markdown",
   "metadata": {},
   "source": [
    "In addition, it is possible to define multi-line strings using a triple-quote syntax:"
   ]
  },
  {
   "cell_type": "code",
   "execution_count": 2,
   "metadata": {
    "collapsed": true
   },
   "outputs": [],
   "source": [
    "multiline = \"\"\"\n",
    "one\n",
    "two\n",
    "three\n",
    "\"\"\""
   ]
  },
  {
   "cell_type": "markdown",
   "metadata": {},
   "source": [
    "With this, let's take a quick tour of some of Python's string manipulation tools."
   ]
  },
  {
   "cell_type": "markdown",
   "metadata": {},
   "source": [
    "## Simple String Manipulation in Python\n",
    "\n",
    "For basic manipulation of strings, Python's built-in string methods can be extremely convenient.\n",
    "If you have a background working in C or another low-level language, you will likely find the simplicity of Python's methods extremely refreshing.\n",
    "We introduced Python's string type and a few of these methods earlier; here we'll dive a bit deeper"
   ]
  },
  {
   "cell_type": "markdown",
   "metadata": {},
   "source": [
    "### Formatting strings: Adjusting case\n",
    "\n",
    "Python makes it quite easy to adjust the case of a string.\n",
    "Here we'll look at the ``upper()``, ``lower()``, ``capitalize()``, ``title()``, and ``swapcase()`` methods, using the following messy string as an example:"
   ]
  },
  {
   "cell_type": "code",
   "execution_count": 3,
   "metadata": {
    "collapsed": true
   },
   "outputs": [],
   "source": [
    "fox = \"tHe qUICk bROWn fOx.\""
   ]
  },
  {
   "cell_type": "markdown",
   "metadata": {},
   "source": [
    "To convert the entire string into upper-case or lower-case, you can use the ``upper()`` or ``lower()`` methods respectively:"
   ]
  },
  {
   "cell_type": "code",
   "execution_count": 4,
   "metadata": {},
   "outputs": [
    {
     "data": {
      "text/plain": [
       "'THE QUICK BROWN FOX.'"
      ]
     },
     "execution_count": 4,
     "metadata": {},
     "output_type": "execute_result"
    }
   ],
   "source": [
    "fox.upper()"
   ]
  },
  {
   "cell_type": "code",
   "execution_count": 5,
   "metadata": {},
   "outputs": [
    {
     "data": {
      "text/plain": [
       "'the quick brown fox.'"
      ]
     },
     "execution_count": 5,
     "metadata": {},
     "output_type": "execute_result"
    }
   ],
   "source": [
    "fox.lower()"
   ]
  },
  {
   "cell_type": "markdown",
   "metadata": {},
   "source": [
    "A common formatting need is to capitalize just the first letter of each word, or perhaps the first letter of each sentence.\n",
    "This can be done with the ``title()`` and ``capitalize()`` methods:"
   ]
  },
  {
   "cell_type": "code",
   "execution_count": 6,
   "metadata": {},
   "outputs": [
    {
     "data": {
      "text/plain": [
       "'The Quick Brown Fox.'"
      ]
     },
     "execution_count": 6,
     "metadata": {},
     "output_type": "execute_result"
    }
   ],
   "source": [
    "fox.title()"
   ]
  },
  {
   "cell_type": "code",
   "execution_count": 7,
   "metadata": {},
   "outputs": [
    {
     "data": {
      "text/plain": [
       "'The quick brown fox.'"
      ]
     },
     "execution_count": 7,
     "metadata": {},
     "output_type": "execute_result"
    }
   ],
   "source": [
    "fox.capitalize()"
   ]
  },
  {
   "cell_type": "markdown",
   "metadata": {},
   "source": [
    "The cases can be swapped using the ``swapcase()`` method:"
   ]
  },
  {
   "cell_type": "code",
   "execution_count": 8,
   "metadata": {},
   "outputs": [
    {
     "data": {
      "text/plain": [
       "'ThE QuicK BrowN FoX.'"
      ]
     },
     "execution_count": 8,
     "metadata": {},
     "output_type": "execute_result"
    }
   ],
   "source": [
    "fox.swapcase()"
   ]
  },
  {
   "cell_type": "markdown",
   "metadata": {},
   "source": [
    "### Formatting strings: Adding and removing spaces\n",
    "\n",
    "Another common need is to remove spaces (or other characters) from the beginning or end of the string.\n",
    "The basic method of removing characters is the ``strip()`` method, which strips whitespace from the beginning and end of the line:"
   ]
  },
  {
   "cell_type": "code",
   "execution_count": 9,
   "metadata": {},
   "outputs": [
    {
     "data": {
      "text/plain": [
       "'this is the content'"
      ]
     },
     "execution_count": 9,
     "metadata": {},
     "output_type": "execute_result"
    }
   ],
   "source": [
    "line = '         this is the content         '\n",
    "line.strip()"
   ]
  },
  {
   "cell_type": "markdown",
   "metadata": {},
   "source": [
    "To remove just space to the right or left, use ``rstrip()`` or ``lstrip()`` respectively:"
   ]
  },
  {
   "cell_type": "code",
   "execution_count": 10,
   "metadata": {},
   "outputs": [
    {
     "data": {
      "text/plain": [
       "'         this is the content'"
      ]
     },
     "execution_count": 10,
     "metadata": {},
     "output_type": "execute_result"
    }
   ],
   "source": [
    "line.rstrip()"
   ]
  },
  {
   "cell_type": "code",
   "execution_count": 11,
   "metadata": {},
   "outputs": [
    {
     "data": {
      "text/plain": [
       "'this is the content         '"
      ]
     },
     "execution_count": 11,
     "metadata": {},
     "output_type": "execute_result"
    }
   ],
   "source": [
    "line.lstrip()"
   ]
  },
  {
   "cell_type": "markdown",
   "metadata": {},
   "source": [
    "To remove characters other than spaces, you can pass the desired character to the ``strip()`` method:"
   ]
  },
  {
   "cell_type": "code",
   "execution_count": 12,
   "metadata": {},
   "outputs": [
    {
     "data": {
      "text/plain": [
       "'435'"
      ]
     },
     "execution_count": 12,
     "metadata": {},
     "output_type": "execute_result"
    }
   ],
   "source": [
    "num = \"000000000000435\"\n",
    "num.strip('0')"
   ]
  },
  {
   "cell_type": "markdown",
   "metadata": {},
   "source": [
    "The opposite of this operation, adding spaces or other characters, can be accomplished using the ``center()``, ``ljust()``, and ``rjust()`` methods.\n",
    "\n",
    "For example, we can use the ``center()`` method to center a given string within a given number of spaces:"
   ]
  },
  {
   "cell_type": "code",
   "execution_count": 13,
   "metadata": {},
   "outputs": [
    {
     "data": {
      "text/plain": [
       "'     this is the content      '"
      ]
     },
     "execution_count": 13,
     "metadata": {},
     "output_type": "execute_result"
    }
   ],
   "source": [
    "line = \"this is the content\"\n",
    "line.center(30)"
   ]
  },
  {
   "cell_type": "markdown",
   "metadata": {},
   "source": [
    "Similarly, ``ljust()`` and ``rjust()`` will left-justify or right-justify the string within spaces of a given length:"
   ]
  },
  {
   "cell_type": "code",
   "execution_count": 14,
   "metadata": {},
   "outputs": [
    {
     "data": {
      "text/plain": [
       "'this is the content           '"
      ]
     },
     "execution_count": 14,
     "metadata": {},
     "output_type": "execute_result"
    }
   ],
   "source": [
    "line.ljust(30)"
   ]
  },
  {
   "cell_type": "code",
   "execution_count": 15,
   "metadata": {},
   "outputs": [
    {
     "data": {
      "text/plain": [
       "'           this is the content'"
      ]
     },
     "execution_count": 15,
     "metadata": {},
     "output_type": "execute_result"
    }
   ],
   "source": [
    "line.rjust(30)"
   ]
  },
  {
   "cell_type": "markdown",
   "metadata": {},
   "source": [
    "All these methods additionally accept any character which will be used to fill the space.\n",
    "For example:"
   ]
  },
  {
   "cell_type": "code",
   "execution_count": 16,
   "metadata": {},
   "outputs": [
    {
     "data": {
      "text/plain": [
       "'0000000435'"
      ]
     },
     "execution_count": 16,
     "metadata": {},
     "output_type": "execute_result"
    }
   ],
   "source": [
    "'435'.rjust(10, '0')"
   ]
  },
  {
   "cell_type": "markdown",
   "metadata": {},
   "source": [
    "Because zero-filling is such a common need, Python also provides ``zfill()``, which is a special method to right-pad a string with zeros:"
   ]
  },
  {
   "cell_type": "code",
   "execution_count": 17,
   "metadata": {},
   "outputs": [
    {
     "data": {
      "text/plain": [
       "'0000000435'"
      ]
     },
     "execution_count": 17,
     "metadata": {},
     "output_type": "execute_result"
    }
   ],
   "source": [
    "'435'.zfill(10)"
   ]
  },
  {
   "cell_type": "markdown",
   "metadata": {},
   "source": [
    "### Finding and replacing substrings\n",
    "\n",
    "If you want to find occurrences of a certain character in a string, the ``find()``/``rfind()``, ``index()``/``rindex()``, and ``replace()`` methods are the best built-in methods.\n",
    "\n",
    "``find()`` and ``index()`` are very similar, in that they search for the first occurrence of a character or substring within a string, and return the index of the substring:"
   ]
  },
  {
   "cell_type": "code",
   "execution_count": 18,
   "metadata": {},
   "outputs": [
    {
     "data": {
      "text/plain": [
       "16"
      ]
     },
     "execution_count": 18,
     "metadata": {},
     "output_type": "execute_result"
    }
   ],
   "source": [
    "line = 'the quick brown fox jumped over a lazy dog'\n",
    "line.find('fox')"
   ]
  },
  {
   "cell_type": "code",
   "execution_count": 19,
   "metadata": {},
   "outputs": [
    {
     "data": {
      "text/plain": [
       "16"
      ]
     },
     "execution_count": 19,
     "metadata": {},
     "output_type": "execute_result"
    }
   ],
   "source": [
    "line.index('fox')"
   ]
  },
  {
   "cell_type": "markdown",
   "metadata": {},
   "source": [
    "The only difference between ``find()`` and ``index()`` is their behavior when the search string is not found; ``find()`` returns ``-1``, while ``index()`` raises a ``ValueError``:"
   ]
  },
  {
   "cell_type": "code",
   "execution_count": 20,
   "metadata": {},
   "outputs": [
    {
     "data": {
      "text/plain": [
       "-1"
      ]
     },
     "execution_count": 20,
     "metadata": {},
     "output_type": "execute_result"
    }
   ],
   "source": [
    "line.find('bear')"
   ]
  },
  {
   "cell_type": "code",
   "execution_count": 21,
   "metadata": {},
   "outputs": [
    {
     "ename": "ValueError",
     "evalue": "substring not found",
     "output_type": "error",
     "traceback": [
      "\u001b[0;31m---------------------------------------------------------------------------\u001b[0m",
      "\u001b[0;31mValueError\u001b[0m                                Traceback (most recent call last)",
      "\u001b[0;32m<ipython-input-21-4cbe6ee9b0eb>\u001b[0m in \u001b[0;36m<module>\u001b[0;34m()\u001b[0m\n\u001b[0;32m----> 1\u001b[0;31m \u001b[0mline\u001b[0m\u001b[0;34m.\u001b[0m\u001b[0mindex\u001b[0m\u001b[0;34m(\u001b[0m\u001b[0;34m'bear'\u001b[0m\u001b[0;34m)\u001b[0m\u001b[0;34m\u001b[0m\u001b[0m\n\u001b[0m",
      "\u001b[0;31mValueError\u001b[0m: substring not found"
     ]
    }
   ],
   "source": [
    "line.index('bear')"
   ]
  },
  {
   "cell_type": "markdown",
   "metadata": {},
   "source": [
    "The related ``rfind()`` and ``rindex()`` work similarly, except they search for the first occurrence from the end rather than the beginning of the string:"
   ]
  },
  {
   "cell_type": "code",
   "execution_count": 22,
   "metadata": {},
   "outputs": [
    {
     "data": {
      "text/plain": [
       "35"
      ]
     },
     "execution_count": 22,
     "metadata": {},
     "output_type": "execute_result"
    }
   ],
   "source": [
    "line.rfind('a')"
   ]
  },
  {
   "cell_type": "markdown",
   "metadata": {},
   "source": [
    "For the special case of checking for a substring at the beginning or end of a string, Python provides the ``startswith()`` and ``endswith()`` methods:"
   ]
  },
  {
   "cell_type": "code",
   "execution_count": 23,
   "metadata": {},
   "outputs": [
    {
     "data": {
      "text/plain": [
       "True"
      ]
     },
     "execution_count": 23,
     "metadata": {},
     "output_type": "execute_result"
    }
   ],
   "source": [
    "line.endswith('dog')"
   ]
  },
  {
   "cell_type": "code",
   "execution_count": 24,
   "metadata": {},
   "outputs": [
    {
     "data": {
      "text/plain": [
       "False"
      ]
     },
     "execution_count": 24,
     "metadata": {},
     "output_type": "execute_result"
    }
   ],
   "source": [
    "line.startswith('fox')"
   ]
  },
  {
   "cell_type": "markdown",
   "metadata": {},
   "source": [
    "To go one step further and replace a given substring with a new string, you can use the ``replace()`` method.\n",
    "Here, let's replace ``'brown'`` with ``'red'``:"
   ]
  },
  {
   "cell_type": "code",
   "execution_count": 25,
   "metadata": {},
   "outputs": [
    {
     "data": {
      "text/plain": [
       "'the quick red fox jumped over a lazy dog'"
      ]
     },
     "execution_count": 25,
     "metadata": {},
     "output_type": "execute_result"
    }
   ],
   "source": [
    "line.replace('brown', 'red')"
   ]
  },
  {
   "cell_type": "markdown",
   "metadata": {},
   "source": [
    "The ``replace()`` function returns a new string, and will replace all occurrences of the input:"
   ]
  },
  {
   "cell_type": "code",
   "execution_count": 26,
   "metadata": {},
   "outputs": [
    {
     "data": {
      "text/plain": [
       "'the quick br--wn f--x jumped --ver a lazy d--g'"
      ]
     },
     "execution_count": 26,
     "metadata": {},
     "output_type": "execute_result"
    }
   ],
   "source": [
    "line.replace('o', '--')"
   ]
  },
  {
   "cell_type": "markdown",
   "metadata": {},
   "source": [
    "For a more flexible approach to this ``replace()`` functionality, see the discussion of regular expressions in [Flexible Pattern Matching with Regular Expressions](#Flexible-Pattern-Matching-with-Regular-Expressions)."
   ]
  },
  {
   "cell_type": "markdown",
   "metadata": {},
   "source": [
    "### Splitting and partitioning strings\n",
    "\n",
    "If you would like to find a substring *and then* split the string based on its location, the ``partition()`` and/or ``split()`` methods are what you're looking for.\n",
    "Both will return a sequence of substrings.\n",
    "\n",
    "The ``partition()`` method returns a tuple with three elements: the substring before the first instance of the split-point, the split-point itself, and the substring after:"
   ]
  },
  {
   "cell_type": "code",
   "execution_count": 27,
   "metadata": {},
   "outputs": [
    {
     "data": {
      "text/plain": [
       "('the quick brown ', 'fox', ' jumped over a lazy dog')"
      ]
     },
     "execution_count": 27,
     "metadata": {},
     "output_type": "execute_result"
    }
   ],
   "source": [
    "line.partition('fox')"
   ]
  },
  {
   "cell_type": "markdown",
   "metadata": {},
   "source": [
    "The ``rpartition()`` method is similar, but searches from the right of the string.\n",
    "\n",
    "The ``split()`` method is perhaps more useful; it finds *all* instances of the split-point and returns the substrings in between.\n",
    "The default is to split on any whitespace, returning a list of the individual words in a string:"
   ]
  },
  {
   "cell_type": "code",
   "execution_count": 28,
   "metadata": {},
   "outputs": [
    {
     "data": {
      "text/plain": [
       "['the', 'quick', 'brown', 'fox', 'jumped', 'over', 'a', 'lazy', 'dog']"
      ]
     },
     "execution_count": 28,
     "metadata": {},
     "output_type": "execute_result"
    }
   ],
   "source": [
    "line.split()"
   ]
  },
  {
   "cell_type": "markdown",
   "metadata": {},
   "source": [
    "A related method is ``splitlines()``, which splits on newline characters.\n",
    "Let's do this with a Haiku, popularly attributed to the 17th-century poet Matsuo Bashō:"
   ]
  },
  {
   "cell_type": "code",
   "execution_count": 29,
   "metadata": {},
   "outputs": [
    {
     "data": {
      "text/plain": [
       "['matsushima-ya', 'aah matsushima-ya', 'matsushima-ya']"
      ]
     },
     "execution_count": 29,
     "metadata": {},
     "output_type": "execute_result"
    }
   ],
   "source": [
    "haiku = \"\"\"matsushima-ya\n",
    "aah matsushima-ya\n",
    "matsushima-ya\"\"\"\n",
    "\n",
    "haiku.splitlines()"
   ]
  },
  {
   "cell_type": "markdown",
   "metadata": {},
   "source": [
    "Note that if you would like to undo a ``split()``, you can use the ``join()`` method, which returns a string built from a splitpoint and an iterable:"
   ]
  },
  {
   "cell_type": "code",
   "execution_count": 30,
   "metadata": {},
   "outputs": [
    {
     "data": {
      "text/plain": [
       "'1--2--3'"
      ]
     },
     "execution_count": 30,
     "metadata": {},
     "output_type": "execute_result"
    }
   ],
   "source": [
    "'--'.join(['1', '2', '3'])"
   ]
  },
  {
   "cell_type": "markdown",
   "metadata": {},
   "source": [
    "A common pattern is to use the special character ``\"\\n\"`` (newline) to join together lines that have been previously split, and recover the input:"
   ]
  },
  {
   "cell_type": "code",
   "execution_count": 31,
   "metadata": {},
   "outputs": [
    {
     "name": "stdout",
     "output_type": "stream",
     "text": [
      "matsushima-ya\n",
      "aah matsushima-ya\n",
      "matsushima-ya\n"
     ]
    }
   ],
   "source": [
    "print(\"\\n\".join(['matsushima-ya', 'aah matsushima-ya', 'matsushima-ya']))"
   ]
  },
  {
   "cell_type": "markdown",
   "metadata": {},
   "source": [
    "## Format Strings\n",
    "\n",
    "In the preceding methods, we have learned how to extract values from strings, and to manipulate strings themselves into desired formats.\n",
    "Another use of string methods is to manipulate string *representations* of values of other types.\n",
    "Of course, string representations can always be found using the ``str()`` function; for example:"
   ]
  },
  {
   "cell_type": "code",
   "execution_count": 32,
   "metadata": {},
   "outputs": [
    {
     "data": {
      "text/plain": [
       "'3.14159'"
      ]
     },
     "execution_count": 32,
     "metadata": {},
     "output_type": "execute_result"
    }
   ],
   "source": [
    "pi = 3.14159\n",
    "str(pi)"
   ]
  },
  {
   "cell_type": "markdown",
   "metadata": {},
   "source": [
    "For more complicated formats, you might be tempted to use string arithmetic as outlined in [Basic Python Semantics: Operators](04-Semantics-Operators.ipynb):"
   ]
  },
  {
   "cell_type": "code",
   "execution_count": 33,
   "metadata": {},
   "outputs": [
    {
     "data": {
      "text/plain": [
       "'The value of pi is 3.14159'"
      ]
     },
     "execution_count": 33,
     "metadata": {},
     "output_type": "execute_result"
    }
   ],
   "source": [
    "\"The value of pi is \" + str(pi)"
   ]
  },
  {
   "cell_type": "markdown",
   "metadata": {},
   "source": [
    "A more flexible way to do this is to use *format strings*, which are strings with special markers (noted by curly braces) into which string-formatted values will be inserted.\n",
    "Here is a basic example:"
   ]
  },
  {
   "cell_type": "code",
   "execution_count": 34,
   "metadata": {},
   "outputs": [
    {
     "data": {
      "text/plain": [
       "'The value of pi is 3.14159'"
      ]
     },
     "execution_count": 34,
     "metadata": {},
     "output_type": "execute_result"
    }
   ],
   "source": [
    "\"The value of pi is {}\".format(pi)"
   ]
  },
  {
   "cell_type": "markdown",
   "metadata": {},
   "source": [
    "Inside the ``{}`` marker you can also include information on exactly *what* you would like to appear there.\n",
    "If you include a number, it will refer to the index of the argument to insert:"
   ]
  },
  {
   "cell_type": "code",
   "execution_count": 35,
   "metadata": {},
   "outputs": [
    {
     "data": {
      "text/plain": [
       "'First letter: A. Last letter: Z.'"
      ]
     },
     "execution_count": 35,
     "metadata": {},
     "output_type": "execute_result"
    }
   ],
   "source": [
    "\"\"\"First letter: {0}. Last letter: {1}.\"\"\".format('A', 'Z')"
   ]
  },
  {
   "cell_type": "markdown",
   "metadata": {},
   "source": [
    "If you include a string, it will refer to the key of any keyword argument:"
   ]
  },
  {
   "cell_type": "code",
   "execution_count": 36,
   "metadata": {},
   "outputs": [
    {
     "data": {
      "text/plain": [
       "'First letter: A. Last letter: Z.'"
      ]
     },
     "execution_count": 36,
     "metadata": {},
     "output_type": "execute_result"
    }
   ],
   "source": [
    "\"\"\"First letter: {first}. Last letter: {last}.\"\"\".format(last='Z', first='A')"
   ]
  },
  {
   "cell_type": "markdown",
   "metadata": {},
   "source": [
    "Finally, for numerical inputs, you can include format codes which control how the value is converted to a string.\n",
    "For example, to print a number as a floating point with three digits after the decimal point, you can use the following:"
   ]
  },
  {
   "cell_type": "code",
   "execution_count": 37,
   "metadata": {},
   "outputs": [
    {
     "data": {
      "text/plain": [
       "'pi = 3.142'"
      ]
     },
     "execution_count": 37,
     "metadata": {},
     "output_type": "execute_result"
    }
   ],
   "source": [
    "\"pi = {0:.3f}\".format(pi)"
   ]
  },
  {
   "cell_type": "markdown",
   "metadata": {},
   "source": [
    "As before, here the \"``0``\" refers to the index of the value to be inserted.\n",
    "The \"``:``\" marks that format codes will follow.\n",
    "The \"``.3f``\" encodes the desired precision: three digits beyond the decimal point, floating-point format.\n",
    "\n",
    "This style of format specification is very flexible, and the examples here barely scratch the surface of the formatting options available.\n",
    "For more information on the syntax of these format strings, see the [Format Specification](https://docs.python.org/3/library/string.html#formatspec) section of Python's online documentation."
   ]
  },
  {
   "cell_type": "markdown",
   "metadata": {},
   "source": [
    "## Flexible Pattern Matching with Regular Expressions\n",
    "\n",
    "The methods of Python's ``str`` type give you a powerful set of tools for formatting, splitting, and manipulating string data.\n",
    "But even more powerful tools are available in Python's built-in *regular expression* module.\n",
    "Regular expressions are a huge topic; there are there are entire books written on the topic (including Jeffrey E.F. Friedl’s [*Mastering Regular Expressions, 3rd Edition*](http://shop.oreilly.com/product/9780596528126.do)), so it will be hard to do justice within just a single subsection.\n",
    "\n",
    "My goal here is to give you an idea of the types of problems that might be addressed using regular expressions, as well as a basic idea of how to use them in Python.\n",
    "I'll suggest some references for learning more in [Further Resources on Regular Expressions](#Further-Resources-on-Regular-Expressions).\n",
    "\n",
    "Fundamentally, regular expressions are a means of *flexible pattern matching* in strings.\n",
    "If you frequently use the command-line, you are probably familiar with this type of flexible matching with the \"``*``\" character, which acts as a wildcard.\n",
    "For example, we can list all the IPython notebooks (i.e., files with extension *.ipynb*) with \"Python\" in their filename by using the \"``*``\" wildcard to match any characters in between:"
   ]
  },
  {
   "cell_type": "code",
   "execution_count": 38,
   "metadata": {},
   "outputs": [
    {
     "name": "stdout",
     "output_type": "stream",
     "text": [
      "01-How-to-Run-Python-Code.ipynb 02-Basic-Python-Syntax.ipynb\r\n"
     ]
    }
   ],
   "source": [
    "!ls *Python*.ipynb"
   ]
  },
  {
   "cell_type": "markdown",
   "metadata": {},
   "source": [
    "Regular expressions generalize this \"wildcard\" idea to a wide range of flexible string-matching sytaxes.\n",
    "The Python interface to regular expressions is contained in the built-in ``re`` module; as a simple example, let's use it to duplicate the functionality of the string ``split()`` method:"
   ]
  },
  {
   "cell_type": "code",
   "execution_count": 39,
   "metadata": {},
   "outputs": [
    {
     "data": {
      "text/plain": [
       "['the', 'quick', 'brown', 'fox', 'jumped', 'over', 'a', 'lazy', 'dog']"
      ]
     },
     "execution_count": 39,
     "metadata": {},
     "output_type": "execute_result"
    }
   ],
   "source": [
    "import re\n",
    "regex = re.compile('\\s+')\n",
    "regex.split(line)"
   ]
  },
  {
   "cell_type": "markdown",
   "metadata": {},
   "source": [
    "Here we've first *compiled* a regular expression, then used it to *split* a string.\n",
    "Just as Python's ``split()`` method returns a list of all substrings between whitespace, the regular expression ``split()`` method returns a list of all substrings between matches to the input pattern.\n",
    "\n",
    "In this case, the input is ``\"\\s+\"``: \"``\\s``\" is a special character that matches any whitespace (space, tab, newline, etc.), and the \"``+``\" is a character that indicates *one or more* of the entity preceding it.\n",
    "Thus, the regular expression matches any substring consisting of one or more spaces.\n",
    "\n",
    "The ``split()`` method here is basically a convenience routine built upon this *pattern matching* behavior; more fundamental is the ``match()`` method, which will tell you whether the beginning of a string matches the pattern:"
   ]
  },
  {
   "cell_type": "code",
   "execution_count": 40,
   "metadata": {},
   "outputs": [
    {
     "name": "stdout",
     "output_type": "stream",
     "text": [
      "'     ' matches\n",
      "'abc  ' does not match\n",
      "'  abc' matches\n"
     ]
    }
   ],
   "source": [
    "for s in [\"     \", \"abc  \", \"  abc\"]:\n",
    "    if regex.match(s):\n",
    "        print(repr(s), \"matches\")\n",
    "    else:\n",
    "        print(repr(s), \"does not match\")"
   ]
  },
  {
   "cell_type": "markdown",
   "metadata": {},
   "source": [
    "Like ``split()``, there are similar convenience routines to find the first match (like ``str.index()`` or ``str.find()``) or to find and replace (like ``str.replace()``).\n",
    "We'll again use the line from before:"
   ]
  },
  {
   "cell_type": "code",
   "execution_count": 41,
   "metadata": {
    "collapsed": true
   },
   "outputs": [],
   "source": [
    "line = 'the quick brown fox jumped over a lazy dog'"
   ]
  },
  {
   "cell_type": "markdown",
   "metadata": {},
   "source": [
    "With this, we can see that the ``regex.search()`` method operates a lot like ``str.index()`` or ``str.find()``:"
   ]
  },
  {
   "cell_type": "code",
   "execution_count": 42,
   "metadata": {},
   "outputs": [
    {
     "data": {
      "text/plain": [
       "16"
      ]
     },
     "execution_count": 42,
     "metadata": {},
     "output_type": "execute_result"
    }
   ],
   "source": [
    "line.index('fox')"
   ]
  },
  {
   "cell_type": "code",
   "execution_count": 43,
   "metadata": {},
   "outputs": [
    {
     "data": {
      "text/plain": [
       "16"
      ]
     },
     "execution_count": 43,
     "metadata": {},
     "output_type": "execute_result"
    }
   ],
   "source": [
    "regex = re.compile('fox')\n",
    "match = regex.search(line)\n",
    "match.start()"
   ]
  },
  {
   "cell_type": "markdown",
   "metadata": {},
   "source": [
    "Similarly, the ``regex.sub()`` method operates much like ``str.replace()``:"
   ]
  },
  {
   "cell_type": "code",
   "execution_count": 44,
   "metadata": {},
   "outputs": [
    {
     "data": {
      "text/plain": [
       "'the quick brown BEAR jumped over a lazy dog'"
      ]
     },
     "execution_count": 44,
     "metadata": {},
     "output_type": "execute_result"
    }
   ],
   "source": [
    "line.replace('fox', 'BEAR')"
   ]
  },
  {
   "cell_type": "code",
   "execution_count": 45,
   "metadata": {},
   "outputs": [
    {
     "data": {
      "text/plain": [
       "'the quick brown BEAR jumped over a lazy dog'"
      ]
     },
     "execution_count": 45,
     "metadata": {},
     "output_type": "execute_result"
    }
   ],
   "source": [
    "regex.sub('BEAR', line)"
   ]
  },
  {
   "cell_type": "markdown",
   "metadata": {},
   "source": [
    "With a bit of thought, other native string operations can also be cast as regular expressions."
   ]
  },
  {
   "cell_type": "markdown",
   "metadata": {},
   "source": [
    "### A more sophisticated example\n",
    "\n",
    "But, you might ask, why would you want to use the more complicated and verbose syntax of regular expressions rather than the more intuitive and simple string methods?\n",
    "The advantage is that regular expressions offer *far* more flexibility.\n",
    "\n",
    "Here we'll consider a more complicated example: the common task of matching email addresses.\n",
    "I'll start by simply writing a (somewhat indecipherable) regular expression, and then walk through what is going on.\n",
    "Here it goes:"
   ]
  },
  {
   "cell_type": "code",
   "execution_count": 46,
   "metadata": {
    "collapsed": true
   },
   "outputs": [],
   "source": [
    "email = re.compile('\\w+@\\w+\\.[a-z]{3}')"
   ]
  },
  {
   "cell_type": "markdown",
   "metadata": {},
   "source": [
    "Using this, if we're given a line from a document, we can quickly extract things that look like email addresses"
   ]
  },
  {
   "cell_type": "code",
   "execution_count": 47,
   "metadata": {},
   "outputs": [
    {
     "data": {
      "text/plain": [
       "['guido@python.org', 'guido@google.com']"
      ]
     },
     "execution_count": 47,
     "metadata": {},
     "output_type": "execute_result"
    }
   ],
   "source": [
    "text = \"To email Guido, try guido@python.org or the older address guido@google.com.\"\n",
    "email.findall(text)"
   ]
  },
  {
   "cell_type": "markdown",
   "metadata": {},
   "source": [
    "(Note that these addresses are entirely made up; there are probably better ways to get in touch with Guido).\n",
    "\n",
    "We can do further operations, like replacing these email addresses with another string, perhaps to hide addresses in the output:"
   ]
  },
  {
   "cell_type": "code",
   "execution_count": 48,
   "metadata": {},
   "outputs": [
    {
     "data": {
      "text/plain": [
       "'To email Guido, try --@--.-- or the older address --@--.--.'"
      ]
     },
     "execution_count": 48,
     "metadata": {},
     "output_type": "execute_result"
    }
   ],
   "source": [
    "email.sub('--@--.--', text)"
   ]
  },
  {
   "cell_type": "markdown",
   "metadata": {},
   "source": [
    "Finally, note that if you really want to match *any* email address, the preceding regular expression is far too simple.\n",
    "For example, it only allows addresses made of alphanumeric characters that end in one of several common domain suffixes.\n",
    "So, for example, the period used here means that we only find part of the address:"
   ]
  },
  {
   "cell_type": "code",
   "execution_count": 49,
   "metadata": {},
   "outputs": [
    {
     "data": {
      "text/plain": [
       "['obama@whitehouse.gov']"
      ]
     },
     "execution_count": 49,
     "metadata": {},
     "output_type": "execute_result"
    }
   ],
   "source": [
    "email.findall('barack.obama@whitehouse.gov')"
   ]
  },
  {
   "cell_type": "markdown",
   "metadata": {},
   "source": [
    "This goes to show how unforgiving regular expressions can be if you're not careful!\n",
    "If you search around online, you can find some suggestions for regular expressions that will match *all* valid emails, but beware: they are much more involved than the simple expression used here!"
   ]
  },
  {
   "cell_type": "markdown",
   "metadata": {},
   "source": [
    "### Basics of regular expression syntax\n",
    "\n",
    "The syntax of regular expressions is much too large a topic for this short section.\n",
    "Still, a bit of familiarity can go a long way: I will walk through some of the basic constructs here, and then list some more complete resources from which you can learn more.\n",
    "My hope is that the following quick primer will enable you to use these resources effectively."
   ]
  },
  {
   "cell_type": "markdown",
   "metadata": {},
   "source": [
    "#### Simple strings are matched directly\n",
    "\n",
    "If you build a regular expression on a simple string of characters or digits, it will match that exact string:"
   ]
  },
  {
   "cell_type": "code",
   "execution_count": 50,
   "metadata": {},
   "outputs": [
    {
     "data": {
      "text/plain": [
       "['ion']"
      ]
     },
     "execution_count": 50,
     "metadata": {},
     "output_type": "execute_result"
    }
   ],
   "source": [
    "regex = re.compile('ion')\n",
    "regex.findall('Great Expectations')"
   ]
  },
  {
   "cell_type": "markdown",
   "metadata": {},
   "source": [
    "#### Some characters have special meanings\n",
    "\n",
    "While simple letters or numbers are direct matches, there are a handful of characters that have special meanings within regular expressions. They are:\n",
    "```\n",
    ". ^ $ * + ? { } [ ] \\ | ( )\n",
    "```\n",
    "We will discuss the meaning of some of these momentarily.\n",
    "In the meantime, you should know that if you'd like to match any of these characters directly, you can *escape* them with a back-slash:"
   ]
  },
  {
   "cell_type": "code",
   "execution_count": 51,
   "metadata": {},
   "outputs": [
    {
     "data": {
      "text/plain": [
       "['$']"
      ]
     },
     "execution_count": 51,
     "metadata": {},
     "output_type": "execute_result"
    }
   ],
   "source": [
    "regex = re.compile(r'\\$')\n",
    "regex.findall(\"the cost is $20\")"
   ]
  },
  {
   "cell_type": "markdown",
   "metadata": {},
   "source": [
    "The ``r`` preface in ``r'\\$'`` indicates a *raw string*; in standard Python strings, the backslash is used to indicate special characters.\n",
    "For example, a tab is indicated by ``\"\\t\"``:"
   ]
  },
  {
   "cell_type": "code",
   "execution_count": 52,
   "metadata": {},
   "outputs": [
    {
     "name": "stdout",
     "output_type": "stream",
     "text": [
      "a\tb\tc\n"
     ]
    }
   ],
   "source": [
    "print('a\\tb\\tc')"
   ]
  },
  {
   "cell_type": "markdown",
   "metadata": {},
   "source": [
    "Such substitutions are not made in a raw string:"
   ]
  },
  {
   "cell_type": "code",
   "execution_count": 53,
   "metadata": {},
   "outputs": [
    {
     "name": "stdout",
     "output_type": "stream",
     "text": [
      "a\\tb\\tc\n"
     ]
    }
   ],
   "source": [
    "print(r'a\\tb\\tc')"
   ]
  },
  {
   "cell_type": "markdown",
   "metadata": {},
   "source": [
    "For this reason, whenever you use backslashes in a regular expression, it is good practice to use a raw string."
   ]
  },
  {
   "cell_type": "markdown",
   "metadata": {},
   "source": [
    "#### Special characters can match character groups\n",
    "\n",
    "Just as the ``\"\\\"`` character within regular expressions can escape special characters, turning them into normal characters, it can also be used to give normal characters special meaning.\n",
    "These special characters match specified groups of characters, and we've seen them before.\n",
    "In the email address regexp from before, we used the character ``\"\\w\"``, which is a special marker matching *any alphanumeric character*. Similarly, in the simple ``split()`` example, we also saw ``\"\\s\"``, a special marker indicating *any whitespace character*.\n",
    "\n",
    "Putting these together, we can create a regular expression that will match *any two letters/digits with whitespace between them*:"
   ]
  },
  {
   "cell_type": "code",
   "execution_count": 54,
   "metadata": {},
   "outputs": [
    {
     "data": {
      "text/plain": [
       "['e f', 'x i', 's 9', 's o']"
      ]
     },
     "execution_count": 54,
     "metadata": {},
     "output_type": "execute_result"
    }
   ],
   "source": [
    "regex = re.compile(r'\\w\\s\\w')\n",
    "regex.findall('the fox is 9 years old')"
   ]
  },
  {
   "cell_type": "markdown",
   "metadata": {},
   "source": [
    "This example begins to hint at the power and flexibility of regular expressions."
   ]
  },
  {
   "cell_type": "markdown",
   "metadata": {},
   "source": [
    "The following table lists a few of these characters that are commonly useful:\n",
    "\n",
    "| Character | Description                 || Character | Description                     |\n",
    "|-----------|-----------------------------||-----------|---------------------------------|\n",
    "| ``\"\\d\"``  | Match any digit             || ``\"\\D\"``  | Match any non-digit             |\n",
    "| ``\"\\s\"``  | Match any whitespace        || ``\"\\S\"``  | Match any non-whitespace        |\n",
    "| ``\"\\w\"``  | Match any alphanumeric char || ``\"\\W\"``  | Match any non-alphanumeric char |\n",
    "\n",
    "This is *not* a comprehensive list or description; for more details, see Python's [regular expression syntax documentation](https://docs.python.org/3/library/re.html#re-syntax)."
   ]
  },
  {
   "cell_type": "markdown",
   "metadata": {},
   "source": [
    "#### Square brackets match custom character groups\n",
    "\n",
    "If the built-in character groups aren't specific enough for you, you can use square brackets to specify any set of characters you're interested in.\n",
    "For example, the following will match any lower-case vowel:"
   ]
  },
  {
   "cell_type": "code",
   "execution_count": 55,
   "metadata": {},
   "outputs": [
    {
     "data": {
      "text/plain": [
       "['c', 'ns', 'q', '', 'nt', '', 'l']"
      ]
     },
     "execution_count": 55,
     "metadata": {},
     "output_type": "execute_result"
    }
   ],
   "source": [
    "regex = re.compile('[aeiou]')\n",
    "regex.split('consequential')"
   ]
  },
  {
   "cell_type": "markdown",
   "metadata": {},
   "source": [
    "Similarly, you can use a dash to specify a range: for example, ``\"[a-z]\"`` will match any lower-case letter, and ``\"[1-3]\"`` will match any of ``\"1\"``, ``\"2\"``, or ``\"3\"``.\n",
    "For instance, you may need to extract from a document specific numerical codes that consist of a capital letter followed by a digit. You could do this as follows:"
   ]
  },
  {
   "cell_type": "code",
   "execution_count": 56,
   "metadata": {},
   "outputs": [
    {
     "data": {
      "text/plain": [
       "['G2', 'H6']"
      ]
     },
     "execution_count": 56,
     "metadata": {},
     "output_type": "execute_result"
    }
   ],
   "source": [
    "regex = re.compile('[A-Z][0-9]')\n",
    "regex.findall('1043879, G2, H6')"
   ]
  },
  {
   "cell_type": "markdown",
   "metadata": {},
   "source": [
    "#### Wildcards match repeated characters\n",
    "\n",
    "If you would like to match a string with, say, three alphanumeric characters in a row, it is possible to write, for example, ``\"\\w\\w\\w\"``.\n",
    "Because this is such a common need, there is a specific syntax to match repetitions – curly braces with a number:"
   ]
  },
  {
   "cell_type": "code",
   "execution_count": 57,
   "metadata": {},
   "outputs": [
    {
     "data": {
      "text/plain": [
       "['The', 'qui', 'bro', 'fox']"
      ]
     },
     "execution_count": 57,
     "metadata": {},
     "output_type": "execute_result"
    }
   ],
   "source": [
    "regex = re.compile(r'\\w{3}')\n",
    "regex.findall('The quick brown fox')"
   ]
  },
  {
   "cell_type": "markdown",
   "metadata": {},
   "source": [
    "There are also markers available to match any number of repetitions – for example, the ``\"+\"`` character will match *one or more* repetitions of what precedes it:"
   ]
  },
  {
   "cell_type": "code",
   "execution_count": 58,
   "metadata": {},
   "outputs": [
    {
     "data": {
      "text/plain": [
       "['The', 'quick', 'brown', 'fox']"
      ]
     },
     "execution_count": 58,
     "metadata": {},
     "output_type": "execute_result"
    }
   ],
   "source": [
    "regex = re.compile(r'\\w+')\n",
    "regex.findall('The quick brown fox')"
   ]
  },
  {
   "cell_type": "markdown",
   "metadata": {},
   "source": [
    "The following is a table of the repetition markers available for use in regular expressions:\n",
    "\n",
    "| Character | Description | Example |\n",
    "|-----------|-------------|---------|\n",
    "| ``?`` | Match zero or one repetitions of preceding  | ``\"ab?\"`` matches ``\"a\"`` or ``\"ab\"`` |\n",
    "| ``*`` | Match zero or more repetitions of preceding | ``\"ab*\"`` matches ``\"a\"``, ``\"ab\"``, ``\"abb\"``, ``\"abbb\"``... |\n",
    "| ``+`` | Match one or more repetitions of preceding  | ``\"ab+\"`` matches ``\"ab\"``, ``\"abb\"``, ``\"abbb\"``... but not ``\"a\"`` |\n",
    "| ``{n}`` | Match ``n`` repetitions of preeeding | ``\"ab{2}\"`` matches ``\"abb\"`` |\n",
    "| ``{m,n}`` | Match between ``m`` and ``n`` repetitions of preceding | ``\"ab{2,3}\"`` matches ``\"abb\"`` or ``\"abbb\"`` |"
   ]
  },
  {
   "cell_type": "markdown",
   "metadata": {},
   "source": [
    "With these basics in mind, let's return to our email address matcher:"
   ]
  },
  {
   "cell_type": "code",
   "execution_count": 59,
   "metadata": {
    "collapsed": true
   },
   "outputs": [],
   "source": [
    "email = re.compile(r'\\w+@\\w+\\.[a-z]{3}')"
   ]
  },
  {
   "cell_type": "markdown",
   "metadata": {},
   "source": [
    "We can now understand what this means: we want one or more alphanumeric character (``\"\\w+\"``) followed by the *at sign* (``\"@\"``), followed by one or more alphanumeric character (``\"\\w+\"``), followed by a period (``\"\\.\"`` – note the need for a backslash escape), followed by exactly three lower-case letters.\n",
    "\n",
    "If we want to now modify this so that the Obama email address matches, we can do so using the square-bracket notation:"
   ]
  },
  {
   "cell_type": "code",
   "execution_count": 60,
   "metadata": {},
   "outputs": [
    {
     "data": {
      "text/plain": [
       "['barack.obama@whitehouse.gov']"
      ]
     },
     "execution_count": 60,
     "metadata": {},
     "output_type": "execute_result"
    }
   ],
   "source": [
    "email2 = re.compile(r'[\\w.]+@\\w+\\.[a-z]{3}')\n",
    "email2.findall('barack.obama@whitehouse.gov')"
   ]
  },
  {
   "cell_type": "markdown",
   "metadata": {},
   "source": [
    "We have changed ``\"\\w+\"`` to ``\"[\\w.]+\"``, so we will match any alphanumeric character *or* a period.\n",
    "With this more flexible expression, we can match a wider range of email addresses (though still not all – can you identify other shortcomings of this expression?)."
   ]
  },
  {
   "cell_type": "markdown",
   "metadata": {},
   "source": [
    "#### Parentheses indicate *groups* to extract\n",
    "\n",
    "For compound regular expressions like our email matcher, we often want to extract their components rather than the full match. This can be done using parentheses to *group* the results:"
   ]
  },
  {
   "cell_type": "code",
   "execution_count": 61,
   "metadata": {
    "collapsed": true
   },
   "outputs": [],
   "source": [
    "email3 = re.compile(r'([\\w.]+)@(\\w+)\\.([a-z]{3})')"
   ]
  },
  {
   "cell_type": "code",
   "execution_count": 62,
   "metadata": {},
   "outputs": [
    {
     "data": {
      "text/plain": [
       "[('guido', 'python', 'org'), ('guido', 'google', 'com')]"
      ]
     },
     "execution_count": 62,
     "metadata": {},
     "output_type": "execute_result"
    }
   ],
   "source": [
    "text = \"To email Guido, try guido@python.org or the older address guido@google.com.\"\n",
    "email3.findall(text)"
   ]
  },
  {
   "cell_type": "markdown",
   "metadata": {},
   "source": [
    "As we see, this grouping actually extracts a list of the sub-components of the email address.\n",
    "\n",
    "We can go a bit further and *name* the extracted components using the ``\"(?P<name> )\"`` syntax, in which case the groups can be extracted as a Python dictionary:"
   ]
  },
  {
   "cell_type": "code",
   "execution_count": 63,
   "metadata": {},
   "outputs": [
    {
     "data": {
      "text/plain": [
       "{'domain': 'python', 'suffix': 'org', 'user': 'guido'}"
      ]
     },
     "execution_count": 63,
     "metadata": {},
     "output_type": "execute_result"
    }
   ],
   "source": [
    "email4 = re.compile(r'(?P<user>[\\w.]+)@(?P<domain>\\w+)\\.(?P<suffix>[a-z]{3})')\n",
    "match = email4.match('guido@python.org')\n",
    "match.groupdict()"
   ]
  },
  {
   "cell_type": "markdown",
   "metadata": {},
   "source": [
    "Combining these ideas (as well as some of the powerful regexp syntax that we have not covered here) allows you to flexibly and quickly extract information from strings in Python."
   ]
  },
  {
   "cell_type": "markdown",
   "metadata": {},
   "source": [
    "### Further Resources on Regular Expressions\n",
    "\n",
    "The above discussion is just a quick (and far from complete) treatment of this large topic.\n",
    "If you'd like to learn more, I recommend the following resources:\n",
    "\n",
    "- [Python's ``re`` package Documentation](https://docs.python.org/3/library/re.html): I find that I promptly forget how to use regular expressions just about every time I use them. Now that I have the basics down, I have found this page to be an incredibly valuable resource to recall what each specific character or sequence means within a regular expression.\n",
    "- [Python's official regular expression HOWTO](https://docs.python.org/3/howto/regex.html): a more narrative approach to regular expressions in Python.\n",
    "- [Mastering Regular Expressions (OReilly, 2006)](http://shop.oreilly.com/product/9780596528126.do) is a 500+ page book on the subject. If you want a really complete treatment of this topic, this is the resource for you.\n",
    "\n",
    "For some examples of string manipulation and regular expressions in action at a larger scale, see [Pandas: Labeled Column-oriented Data](15-Preview-of-Data-Science-Tools.ipynb#Pandas:-Labeled-Column-oriented-Data), where we look at applying these sorts of expressions across *tables* of string data within the Pandas package."
   ]
  },
  {
   "cell_type": "markdown",
   "metadata": {},
   "source": [
    "<!--NAVIGATION-->\n",
    "< [String Manipulation and Regular Expressions](#section14) | [Contents](#Index) | [Resources for Further Learning](#section16) >"
   ]
  },
  {
   "cell_type": "markdown",
   "metadata": {},
   "source": [
    "<a id='section15'></a>"
   ]
  },
  {
   "cell_type": "markdown",
   "metadata": {},
   "source": [
    "# A Preview of Data Science Tools"
   ]
  },
  {
   "cell_type": "markdown",
   "metadata": {},
   "source": [
    "If you would like to spring from here and go farther in using Python for scientific computing or data science, there are a few packages that will make your life much easier.\n",
    "This section will introduce and preview several of the more important ones, and give you an idea of the types of applications they are designed for.\n",
    "If you're using the *Anaconda* or *Miniconda* environment suggested at the beginning of this report, you can install the relevant packages with the following command:\n",
    "```\n",
    "$ conda install numpy scipy pandas matplotlib scikit-learn\n",
    "```\n",
    "Let's take a brief look at each of these in turn."
   ]
  },
  {
   "cell_type": "markdown",
   "metadata": {},
   "source": [
    "## NumPy: Numerical Python\n",
    "\n",
    "NumPy provides an efficient way to store and manipulate multi-dimensional dense arrays in Python.\n",
    "The important features of NumPy are:\n",
    "\n",
    "- It provides an ``ndarray`` structure, which allows efficient storage and manipulation of vectors, matrices, and higher-dimensional datasets.\n",
    "- It provides a readable and efficient syntax for operating on this data, from simple element-wise arithmetic to more complicated linear algebraic operations.\n",
    "\n",
    "In the simplest case, NumPy arrays look a lot like Python lists.\n",
    "For example, here is an array containing the range of numbers 1 to 9 (compare this with Python's built-in ``range()``):"
   ]
  },
  {
   "cell_type": "code",
   "execution_count": 1,
   "metadata": {},
   "outputs": [
    {
     "data": {
      "text/plain": [
       "array([1, 2, 3, 4, 5, 6, 7, 8, 9])"
      ]
     },
     "execution_count": 1,
     "metadata": {},
     "output_type": "execute_result"
    }
   ],
   "source": [
    "import numpy as np\n",
    "x = np.arange(1, 10)\n",
    "x"
   ]
  },
  {
   "cell_type": "markdown",
   "metadata": {},
   "source": [
    "NumPy's arrays offer both efficient storage of data, as well as efficient element-wise operations on the data.\n",
    "For example, to square each element of the array, we can apply the \"``**``\" operator to the array directly:"
   ]
  },
  {
   "cell_type": "code",
   "execution_count": 2,
   "metadata": {},
   "outputs": [
    {
     "data": {
      "text/plain": [
       "array([ 1,  4,  9, 16, 25, 36, 49, 64, 81])"
      ]
     },
     "execution_count": 2,
     "metadata": {},
     "output_type": "execute_result"
    }
   ],
   "source": [
    "x ** 2"
   ]
  },
  {
   "cell_type": "markdown",
   "metadata": {},
   "source": [
    "Compare this with the much more verbose Python-style list comprehension for the same result:"
   ]
  },
  {
   "cell_type": "code",
   "execution_count": 3,
   "metadata": {},
   "outputs": [
    {
     "data": {
      "text/plain": [
       "[1, 4, 9, 16, 25, 36, 49, 64, 81]"
      ]
     },
     "execution_count": 3,
     "metadata": {},
     "output_type": "execute_result"
    }
   ],
   "source": [
    "[val ** 2 for val in range(1, 10)]"
   ]
  },
  {
   "cell_type": "markdown",
   "metadata": {},
   "source": [
    "Unlike Python lists (which are limited to one dimension), NumPy arrays can be multi-dimensional.\n",
    "For example, here we will reshape our ``x`` array into a 3x3 array:"
   ]
  },
  {
   "cell_type": "code",
   "execution_count": 4,
   "metadata": {},
   "outputs": [
    {
     "data": {
      "text/plain": [
       "array([[1, 2, 3],\n",
       "       [4, 5, 6],\n",
       "       [7, 8, 9]])"
      ]
     },
     "execution_count": 4,
     "metadata": {},
     "output_type": "execute_result"
    }
   ],
   "source": [
    "M = x.reshape((3, 3))\n",
    "M"
   ]
  },
  {
   "cell_type": "markdown",
   "metadata": {},
   "source": [
    "A two-dimensional array is one representation of a matrix, and NumPy knows how to efficiently do typical matrix operations. For example, you can compute the transpose using ``.T``:"
   ]
  },
  {
   "cell_type": "code",
   "execution_count": 5,
   "metadata": {},
   "outputs": [
    {
     "data": {
      "text/plain": [
       "array([[1, 4, 7],\n",
       "       [2, 5, 8],\n",
       "       [3, 6, 9]])"
      ]
     },
     "execution_count": 5,
     "metadata": {},
     "output_type": "execute_result"
    }
   ],
   "source": [
    "M.T"
   ]
  },
  {
   "cell_type": "markdown",
   "metadata": {},
   "source": [
    "or a matrix-vector product using ``np.dot``:"
   ]
  },
  {
   "cell_type": "code",
   "execution_count": 6,
   "metadata": {},
   "outputs": [
    {
     "data": {
      "text/plain": [
       "array([ 38,  92, 146])"
      ]
     },
     "execution_count": 6,
     "metadata": {},
     "output_type": "execute_result"
    }
   ],
   "source": [
    "np.dot(M, [5, 6, 7])"
   ]
  },
  {
   "cell_type": "markdown",
   "metadata": {},
   "source": [
    "and even more sophisticated operations like eigenvalue decomposition:"
   ]
  },
  {
   "cell_type": "code",
   "execution_count": 7,
   "metadata": {},
   "outputs": [
    {
     "data": {
      "text/plain": [
       "array([  1.61168440e+01,  -1.11684397e+00,  -1.30367773e-15])"
      ]
     },
     "execution_count": 7,
     "metadata": {},
     "output_type": "execute_result"
    }
   ],
   "source": [
    "np.linalg.eigvals(M)"
   ]
  },
  {
   "cell_type": "markdown",
   "metadata": {},
   "source": [
    "Such linear algebraic manipulation underpins much of modern data analysis, particularly when it comes to the fields of machine learning and data mining.\n",
    "\n",
    "For more information on NumPy, see [Resources for Further Learning](16-Further-Resources.ipynb)."
   ]
  },
  {
   "cell_type": "markdown",
   "metadata": {},
   "source": [
    "## Pandas: Labeled Column-oriented Data\n",
    "\n",
    "Pandas is a much newer package than NumPy, and is in fact built on top of it.\n",
    "What Pandas provides is a labeled interface to multi-dimensional data, in the form of a DataFrame object that will feel very familiar to users of R and related languages.\n",
    "DataFrames in Pandas look something like this:"
   ]
  },
  {
   "cell_type": "code",
   "execution_count": 8,
   "metadata": {},
   "outputs": [
    {
     "data": {
      "text/html": [
       "<div>\n",
       "<table border=\"1\" class=\"dataframe\">\n",
       "  <thead>\n",
       "    <tr style=\"text-align: right;\">\n",
       "      <th></th>\n",
       "      <th>label</th>\n",
       "      <th>value</th>\n",
       "    </tr>\n",
       "  </thead>\n",
       "  <tbody>\n",
       "    <tr>\n",
       "      <th>0</th>\n",
       "      <td>A</td>\n",
       "      <td>1</td>\n",
       "    </tr>\n",
       "    <tr>\n",
       "      <th>1</th>\n",
       "      <td>B</td>\n",
       "      <td>2</td>\n",
       "    </tr>\n",
       "    <tr>\n",
       "      <th>2</th>\n",
       "      <td>C</td>\n",
       "      <td>3</td>\n",
       "    </tr>\n",
       "    <tr>\n",
       "      <th>3</th>\n",
       "      <td>A</td>\n",
       "      <td>4</td>\n",
       "    </tr>\n",
       "    <tr>\n",
       "      <th>4</th>\n",
       "      <td>B</td>\n",
       "      <td>5</td>\n",
       "    </tr>\n",
       "    <tr>\n",
       "      <th>5</th>\n",
       "      <td>C</td>\n",
       "      <td>6</td>\n",
       "    </tr>\n",
       "  </tbody>\n",
       "</table>\n",
       "</div>"
      ],
      "text/plain": [
       "  label  value\n",
       "0     A      1\n",
       "1     B      2\n",
       "2     C      3\n",
       "3     A      4\n",
       "4     B      5\n",
       "5     C      6"
      ]
     },
     "execution_count": 8,
     "metadata": {},
     "output_type": "execute_result"
    }
   ],
   "source": [
    "import pandas as pd\n",
    "df = pd.DataFrame({'label': ['A', 'B', 'C', 'A', 'B', 'C'],\n",
    "                   'value': [1, 2, 3, 4, 5, 6]})\n",
    "df"
   ]
  },
  {
   "cell_type": "markdown",
   "metadata": {},
   "source": [
    "The Pandas interface allows you to do things like select columns by name:"
   ]
  },
  {
   "cell_type": "code",
   "execution_count": 9,
   "metadata": {},
   "outputs": [
    {
     "data": {
      "text/plain": [
       "0    A\n",
       "1    B\n",
       "2    C\n",
       "3    A\n",
       "4    B\n",
       "5    C\n",
       "Name: label, dtype: object"
      ]
     },
     "execution_count": 9,
     "metadata": {},
     "output_type": "execute_result"
    }
   ],
   "source": [
    "df['label']"
   ]
  },
  {
   "cell_type": "markdown",
   "metadata": {},
   "source": [
    "Apply string operations across string entries:"
   ]
  },
  {
   "cell_type": "code",
   "execution_count": 10,
   "metadata": {},
   "outputs": [
    {
     "data": {
      "text/plain": [
       "0    a\n",
       "1    b\n",
       "2    c\n",
       "3    a\n",
       "4    b\n",
       "5    c\n",
       "Name: label, dtype: object"
      ]
     },
     "execution_count": 10,
     "metadata": {},
     "output_type": "execute_result"
    }
   ],
   "source": [
    "df['label'].str.lower()"
   ]
  },
  {
   "cell_type": "markdown",
   "metadata": {},
   "source": [
    "Apply aggregates across numerical entries:"
   ]
  },
  {
   "cell_type": "code",
   "execution_count": 11,
   "metadata": {},
   "outputs": [
    {
     "data": {
      "text/plain": [
       "21"
      ]
     },
     "execution_count": 11,
     "metadata": {},
     "output_type": "execute_result"
    }
   ],
   "source": [
    "df['value'].sum()"
   ]
  },
  {
   "cell_type": "markdown",
   "metadata": {},
   "source": [
    "And, perhaps most importantly, do efficient database-style joins and groupings:"
   ]
  },
  {
   "cell_type": "code",
   "execution_count": 12,
   "metadata": {},
   "outputs": [
    {
     "data": {
      "text/html": [
       "<div>\n",
       "<table border=\"1\" class=\"dataframe\">\n",
       "  <thead>\n",
       "    <tr style=\"text-align: right;\">\n",
       "      <th></th>\n",
       "      <th>value</th>\n",
       "    </tr>\n",
       "    <tr>\n",
       "      <th>label</th>\n",
       "      <th></th>\n",
       "    </tr>\n",
       "  </thead>\n",
       "  <tbody>\n",
       "    <tr>\n",
       "      <th>A</th>\n",
       "      <td>5</td>\n",
       "    </tr>\n",
       "    <tr>\n",
       "      <th>B</th>\n",
       "      <td>7</td>\n",
       "    </tr>\n",
       "    <tr>\n",
       "      <th>C</th>\n",
       "      <td>9</td>\n",
       "    </tr>\n",
       "  </tbody>\n",
       "</table>\n",
       "</div>"
      ],
      "text/plain": [
       "       value\n",
       "label       \n",
       "A          5\n",
       "B          7\n",
       "C          9"
      ]
     },
     "execution_count": 12,
     "metadata": {},
     "output_type": "execute_result"
    }
   ],
   "source": [
    "df.groupby('label').sum()"
   ]
  },
  {
   "cell_type": "markdown",
   "metadata": {},
   "source": [
    "Here in one line we have computed the sum of all objects sharing the same label, something that is much more verbose (and much less efficient) using tools provided in Numpy and core Python.\n",
    "\n",
    "For more information on using Pandas, see [Resources for Further Learning](16-Further-Resources.ipynb)."
   ]
  },
  {
   "cell_type": "markdown",
   "metadata": {},
   "source": [
    "## Matplotlib MatLab-style scientific visualization\n",
    "\n",
    "Matplotlib is currently the most popular scientific visualization packages in Python.\n",
    "Even proponents admit that its interface is sometimes overly verbose, but it is a powerful library for creating a large range of plots.\n",
    "\n",
    "To use Matplotlib, we can start by enabling the notebook mode (for use in the Jupyter notebook) and then importing the package as ``plt``\""
   ]
  },
  {
   "cell_type": "code",
   "execution_count": 13,
   "metadata": {
    "collapsed": true
   },
   "outputs": [],
   "source": [
    "# run this if using Jupyter notebook\n",
    "%matplotlib notebook"
   ]
  },
  {
   "cell_type": "code",
   "execution_count": 14,
   "metadata": {
    "collapsed": true
   },
   "outputs": [],
   "source": [
    "import matplotlib.pyplot as plt\n",
    "plt.style.use('ggplot')  # make graphs in the style of R's ggplot"
   ]
  },
  {
   "cell_type": "markdown",
   "metadata": {},
   "source": [
    "Now let's create some data (as NumPy arrays, of course) and plot the results:"
   ]
  },
  {
   "cell_type": "code",
   "execution_count": 15,
   "metadata": {},
   "outputs": [
    {
     "data": {
      "application/javascript": [
       "/* Put everything inside the global mpl namespace */\n",
       "window.mpl = {};\n",
       "\n",
       "mpl.get_websocket_type = function() {\n",
       "    if (typeof(WebSocket) !== 'undefined') {\n",
       "        return WebSocket;\n",
       "    } else if (typeof(MozWebSocket) !== 'undefined') {\n",
       "        return MozWebSocket;\n",
       "    } else {\n",
       "        alert('Your browser does not have WebSocket support.' +\n",
       "              'Please try Chrome, Safari or Firefox ≥ 6. ' +\n",
       "              'Firefox 4 and 5 are also supported but you ' +\n",
       "              'have to enable WebSockets in about:config.');\n",
       "    };\n",
       "}\n",
       "\n",
       "mpl.figure = function(figure_id, websocket, ondownload, parent_element) {\n",
       "    this.id = figure_id;\n",
       "\n",
       "    this.ws = websocket;\n",
       "\n",
       "    this.supports_binary = (this.ws.binaryType != undefined);\n",
       "\n",
       "    if (!this.supports_binary) {\n",
       "        var warnings = document.getElementById(\"mpl-warnings\");\n",
       "        if (warnings) {\n",
       "            warnings.style.display = 'block';\n",
       "            warnings.textContent = (\n",
       "                \"This browser does not support binary websocket messages. \" +\n",
       "                    \"Performance may be slow.\");\n",
       "        }\n",
       "    }\n",
       "\n",
       "    this.imageObj = new Image();\n",
       "\n",
       "    this.context = undefined;\n",
       "    this.message = undefined;\n",
       "    this.canvas = undefined;\n",
       "    this.rubberband_canvas = undefined;\n",
       "    this.rubberband_context = undefined;\n",
       "    this.format_dropdown = undefined;\n",
       "\n",
       "    this.image_mode = 'full';\n",
       "\n",
       "    this.root = $('<div/>');\n",
       "    this._root_extra_style(this.root)\n",
       "    this.root.attr('style', 'display: inline-block');\n",
       "\n",
       "    $(parent_element).append(this.root);\n",
       "\n",
       "    this._init_header(this);\n",
       "    this._init_canvas(this);\n",
       "    this._init_toolbar(this);\n",
       "\n",
       "    var fig = this;\n",
       "\n",
       "    this.waiting = false;\n",
       "\n",
       "    this.ws.onopen =  function () {\n",
       "            fig.send_message(\"supports_binary\", {value: fig.supports_binary});\n",
       "            fig.send_message(\"send_image_mode\", {});\n",
       "            fig.send_message(\"refresh\", {});\n",
       "        }\n",
       "\n",
       "    this.imageObj.onload = function() {\n",
       "            if (fig.image_mode == 'full') {\n",
       "                // Full images could contain transparency (where diff images\n",
       "                // almost always do), so we need to clear the canvas so that\n",
       "                // there is no ghosting.\n",
       "                fig.context.clearRect(0, 0, fig.canvas.width, fig.canvas.height);\n",
       "            }\n",
       "            fig.context.drawImage(fig.imageObj, 0, 0);\n",
       "        };\n",
       "\n",
       "    this.imageObj.onunload = function() {\n",
       "        this.ws.close();\n",
       "    }\n",
       "\n",
       "    this.ws.onmessage = this._make_on_message_function(this);\n",
       "\n",
       "    this.ondownload = ondownload;\n",
       "}\n",
       "\n",
       "mpl.figure.prototype._init_header = function() {\n",
       "    var titlebar = $(\n",
       "        '<div class=\"ui-dialog-titlebar ui-widget-header ui-corner-all ' +\n",
       "        'ui-helper-clearfix\"/>');\n",
       "    var titletext = $(\n",
       "        '<div class=\"ui-dialog-title\" style=\"width: 100%; ' +\n",
       "        'text-align: center; padding: 3px;\"/>');\n",
       "    titlebar.append(titletext)\n",
       "    this.root.append(titlebar);\n",
       "    this.header = titletext[0];\n",
       "}\n",
       "\n",
       "\n",
       "\n",
       "mpl.figure.prototype._canvas_extra_style = function(canvas_div) {\n",
       "\n",
       "}\n",
       "\n",
       "\n",
       "mpl.figure.prototype._root_extra_style = function(canvas_div) {\n",
       "\n",
       "}\n",
       "\n",
       "mpl.figure.prototype._init_canvas = function() {\n",
       "    var fig = this;\n",
       "\n",
       "    var canvas_div = $('<div/>');\n",
       "\n",
       "    canvas_div.attr('style', 'position: relative; clear: both; outline: 0');\n",
       "\n",
       "    function canvas_keyboard_event(event) {\n",
       "        return fig.key_event(event, event['data']);\n",
       "    }\n",
       "\n",
       "    canvas_div.keydown('key_press', canvas_keyboard_event);\n",
       "    canvas_div.keyup('key_release', canvas_keyboard_event);\n",
       "    this.canvas_div = canvas_div\n",
       "    this._canvas_extra_style(canvas_div)\n",
       "    this.root.append(canvas_div);\n",
       "\n",
       "    var canvas = $('<canvas/>');\n",
       "    canvas.addClass('mpl-canvas');\n",
       "    canvas.attr('style', \"left: 0; top: 0; z-index: 0; outline: 0\")\n",
       "\n",
       "    this.canvas = canvas[0];\n",
       "    this.context = canvas[0].getContext(\"2d\");\n",
       "\n",
       "    var rubberband = $('<canvas/>');\n",
       "    rubberband.attr('style', \"position: absolute; left: 0; top: 0; z-index: 1;\")\n",
       "\n",
       "    var pass_mouse_events = true;\n",
       "\n",
       "    canvas_div.resizable({\n",
       "        start: function(event, ui) {\n",
       "            pass_mouse_events = false;\n",
       "        },\n",
       "        resize: function(event, ui) {\n",
       "            fig.request_resize(ui.size.width, ui.size.height);\n",
       "        },\n",
       "        stop: function(event, ui) {\n",
       "            pass_mouse_events = true;\n",
       "            fig.request_resize(ui.size.width, ui.size.height);\n",
       "        },\n",
       "    });\n",
       "\n",
       "    function mouse_event_fn(event) {\n",
       "        if (pass_mouse_events)\n",
       "            return fig.mouse_event(event, event['data']);\n",
       "    }\n",
       "\n",
       "    rubberband.mousedown('button_press', mouse_event_fn);\n",
       "    rubberband.mouseup('button_release', mouse_event_fn);\n",
       "    // Throttle sequential mouse events to 1 every 20ms.\n",
       "    rubberband.mousemove('motion_notify', mouse_event_fn);\n",
       "\n",
       "    rubberband.mouseenter('figure_enter', mouse_event_fn);\n",
       "    rubberband.mouseleave('figure_leave', mouse_event_fn);\n",
       "\n",
       "    canvas_div.on(\"wheel\", function (event) {\n",
       "        event = event.originalEvent;\n",
       "        event['data'] = 'scroll'\n",
       "        if (event.deltaY < 0) {\n",
       "            event.step = 1;\n",
       "        } else {\n",
       "            event.step = -1;\n",
       "        }\n",
       "        mouse_event_fn(event);\n",
       "    });\n",
       "\n",
       "    canvas_div.append(canvas);\n",
       "    canvas_div.append(rubberband);\n",
       "\n",
       "    this.rubberband = rubberband;\n",
       "    this.rubberband_canvas = rubberband[0];\n",
       "    this.rubberband_context = rubberband[0].getContext(\"2d\");\n",
       "    this.rubberband_context.strokeStyle = \"#000000\";\n",
       "\n",
       "    this._resize_canvas = function(width, height) {\n",
       "        // Keep the size of the canvas, canvas container, and rubber band\n",
       "        // canvas in synch.\n",
       "        canvas_div.css('width', width)\n",
       "        canvas_div.css('height', height)\n",
       "\n",
       "        canvas.attr('width', width);\n",
       "        canvas.attr('height', height);\n",
       "\n",
       "        rubberband.attr('width', width);\n",
       "        rubberband.attr('height', height);\n",
       "    }\n",
       "\n",
       "    // Set the figure to an initial 600x600px, this will subsequently be updated\n",
       "    // upon first draw.\n",
       "    this._resize_canvas(600, 600);\n",
       "\n",
       "    // Disable right mouse context menu.\n",
       "    $(this.rubberband_canvas).bind(\"contextmenu\",function(e){\n",
       "        return false;\n",
       "    });\n",
       "\n",
       "    function set_focus () {\n",
       "        canvas.focus();\n",
       "        canvas_div.focus();\n",
       "    }\n",
       "\n",
       "    window.setTimeout(set_focus, 100);\n",
       "}\n",
       "\n",
       "mpl.figure.prototype._init_toolbar = function() {\n",
       "    var fig = this;\n",
       "\n",
       "    var nav_element = $('<div/>')\n",
       "    nav_element.attr('style', 'width: 100%');\n",
       "    this.root.append(nav_element);\n",
       "\n",
       "    // Define a callback function for later on.\n",
       "    function toolbar_event(event) {\n",
       "        return fig.toolbar_button_onclick(event['data']);\n",
       "    }\n",
       "    function toolbar_mouse_event(event) {\n",
       "        return fig.toolbar_button_onmouseover(event['data']);\n",
       "    }\n",
       "\n",
       "    for(var toolbar_ind in mpl.toolbar_items) {\n",
       "        var name = mpl.toolbar_items[toolbar_ind][0];\n",
       "        var tooltip = mpl.toolbar_items[toolbar_ind][1];\n",
       "        var image = mpl.toolbar_items[toolbar_ind][2];\n",
       "        var method_name = mpl.toolbar_items[toolbar_ind][3];\n",
       "\n",
       "        if (!name) {\n",
       "            // put a spacer in here.\n",
       "            continue;\n",
       "        }\n",
       "        var button = $('<button/>');\n",
       "        button.addClass('ui-button ui-widget ui-state-default ui-corner-all ' +\n",
       "                        'ui-button-icon-only');\n",
       "        button.attr('role', 'button');\n",
       "        button.attr('aria-disabled', 'false');\n",
       "        button.click(method_name, toolbar_event);\n",
       "        button.mouseover(tooltip, toolbar_mouse_event);\n",
       "\n",
       "        var icon_img = $('<span/>');\n",
       "        icon_img.addClass('ui-button-icon-primary ui-icon');\n",
       "        icon_img.addClass(image);\n",
       "        icon_img.addClass('ui-corner-all');\n",
       "\n",
       "        var tooltip_span = $('<span/>');\n",
       "        tooltip_span.addClass('ui-button-text');\n",
       "        tooltip_span.html(tooltip);\n",
       "\n",
       "        button.append(icon_img);\n",
       "        button.append(tooltip_span);\n",
       "\n",
       "        nav_element.append(button);\n",
       "    }\n",
       "\n",
       "    var fmt_picker_span = $('<span/>');\n",
       "\n",
       "    var fmt_picker = $('<select/>');\n",
       "    fmt_picker.addClass('mpl-toolbar-option ui-widget ui-widget-content');\n",
       "    fmt_picker_span.append(fmt_picker);\n",
       "    nav_element.append(fmt_picker_span);\n",
       "    this.format_dropdown = fmt_picker[0];\n",
       "\n",
       "    for (var ind in mpl.extensions) {\n",
       "        var fmt = mpl.extensions[ind];\n",
       "        var option = $(\n",
       "            '<option/>', {selected: fmt === mpl.default_extension}).html(fmt);\n",
       "        fmt_picker.append(option)\n",
       "    }\n",
       "\n",
       "    // Add hover states to the ui-buttons\n",
       "    $( \".ui-button\" ).hover(\n",
       "        function() { $(this).addClass(\"ui-state-hover\");},\n",
       "        function() { $(this).removeClass(\"ui-state-hover\");}\n",
       "    );\n",
       "\n",
       "    var status_bar = $('<span class=\"mpl-message\"/>');\n",
       "    nav_element.append(status_bar);\n",
       "    this.message = status_bar[0];\n",
       "}\n",
       "\n",
       "mpl.figure.prototype.request_resize = function(x_pixels, y_pixels) {\n",
       "    // Request matplotlib to resize the figure. Matplotlib will then trigger a resize in the client,\n",
       "    // which will in turn request a refresh of the image.\n",
       "    this.send_message('resize', {'width': x_pixels, 'height': y_pixels});\n",
       "}\n",
       "\n",
       "mpl.figure.prototype.send_message = function(type, properties) {\n",
       "    properties['type'] = type;\n",
       "    properties['figure_id'] = this.id;\n",
       "    this.ws.send(JSON.stringify(properties));\n",
       "}\n",
       "\n",
       "mpl.figure.prototype.send_draw_message = function() {\n",
       "    if (!this.waiting) {\n",
       "        this.waiting = true;\n",
       "        this.ws.send(JSON.stringify({type: \"draw\", figure_id: this.id}));\n",
       "    }\n",
       "}\n",
       "\n",
       "\n",
       "mpl.figure.prototype.handle_save = function(fig, msg) {\n",
       "    var format_dropdown = fig.format_dropdown;\n",
       "    var format = format_dropdown.options[format_dropdown.selectedIndex].value;\n",
       "    fig.ondownload(fig, format);\n",
       "}\n",
       "\n",
       "\n",
       "mpl.figure.prototype.handle_resize = function(fig, msg) {\n",
       "    var size = msg['size'];\n",
       "    if (size[0] != fig.canvas.width || size[1] != fig.canvas.height) {\n",
       "        fig._resize_canvas(size[0], size[1]);\n",
       "        fig.send_message(\"refresh\", {});\n",
       "    };\n",
       "}\n",
       "\n",
       "mpl.figure.prototype.handle_rubberband = function(fig, msg) {\n",
       "    var x0 = msg['x0'];\n",
       "    var y0 = fig.canvas.height - msg['y0'];\n",
       "    var x1 = msg['x1'];\n",
       "    var y1 = fig.canvas.height - msg['y1'];\n",
       "    x0 = Math.floor(x0) + 0.5;\n",
       "    y0 = Math.floor(y0) + 0.5;\n",
       "    x1 = Math.floor(x1) + 0.5;\n",
       "    y1 = Math.floor(y1) + 0.5;\n",
       "    var min_x = Math.min(x0, x1);\n",
       "    var min_y = Math.min(y0, y1);\n",
       "    var width = Math.abs(x1 - x0);\n",
       "    var height = Math.abs(y1 - y0);\n",
       "\n",
       "    fig.rubberband_context.clearRect(\n",
       "        0, 0, fig.canvas.width, fig.canvas.height);\n",
       "\n",
       "    fig.rubberband_context.strokeRect(min_x, min_y, width, height);\n",
       "}\n",
       "\n",
       "mpl.figure.prototype.handle_figure_label = function(fig, msg) {\n",
       "    // Updates the figure title.\n",
       "    fig.header.textContent = msg['label'];\n",
       "}\n",
       "\n",
       "mpl.figure.prototype.handle_cursor = function(fig, msg) {\n",
       "    var cursor = msg['cursor'];\n",
       "    switch(cursor)\n",
       "    {\n",
       "    case 0:\n",
       "        cursor = 'pointer';\n",
       "        break;\n",
       "    case 1:\n",
       "        cursor = 'default';\n",
       "        break;\n",
       "    case 2:\n",
       "        cursor = 'crosshair';\n",
       "        break;\n",
       "    case 3:\n",
       "        cursor = 'move';\n",
       "        break;\n",
       "    }\n",
       "    fig.rubberband_canvas.style.cursor = cursor;\n",
       "}\n",
       "\n",
       "mpl.figure.prototype.handle_message = function(fig, msg) {\n",
       "    fig.message.textContent = msg['message'];\n",
       "}\n",
       "\n",
       "mpl.figure.prototype.handle_draw = function(fig, msg) {\n",
       "    // Request the server to send over a new figure.\n",
       "    fig.send_draw_message();\n",
       "}\n",
       "\n",
       "mpl.figure.prototype.handle_image_mode = function(fig, msg) {\n",
       "    fig.image_mode = msg['mode'];\n",
       "}\n",
       "\n",
       "mpl.figure.prototype.updated_canvas_event = function() {\n",
       "    // Called whenever the canvas gets updated.\n",
       "    this.send_message(\"ack\", {});\n",
       "}\n",
       "\n",
       "// A function to construct a web socket function for onmessage handling.\n",
       "// Called in the figure constructor.\n",
       "mpl.figure.prototype._make_on_message_function = function(fig) {\n",
       "    return function socket_on_message(evt) {\n",
       "        if (evt.data instanceof Blob) {\n",
       "            /* FIXME: We get \"Resource interpreted as Image but\n",
       "             * transferred with MIME type text/plain:\" errors on\n",
       "             * Chrome.  But how to set the MIME type?  It doesn't seem\n",
       "             * to be part of the websocket stream */\n",
       "            evt.data.type = \"image/png\";\n",
       "\n",
       "            /* Free the memory for the previous frames */\n",
       "            if (fig.imageObj.src) {\n",
       "                (window.URL || window.webkitURL).revokeObjectURL(\n",
       "                    fig.imageObj.src);\n",
       "            }\n",
       "\n",
       "            fig.imageObj.src = (window.URL || window.webkitURL).createObjectURL(\n",
       "                evt.data);\n",
       "            fig.updated_canvas_event();\n",
       "            fig.waiting = false;\n",
       "            return;\n",
       "        }\n",
       "        else if (typeof evt.data === 'string' && evt.data.slice(0, 21) == \"data:image/png;base64\") {\n",
       "            fig.imageObj.src = evt.data;\n",
       "            fig.updated_canvas_event();\n",
       "            fig.waiting = false;\n",
       "            return;\n",
       "        }\n",
       "\n",
       "        var msg = JSON.parse(evt.data);\n",
       "        var msg_type = msg['type'];\n",
       "\n",
       "        // Call the  \"handle_{type}\" callback, which takes\n",
       "        // the figure and JSON message as its only arguments.\n",
       "        try {\n",
       "            var callback = fig[\"handle_\" + msg_type];\n",
       "        } catch (e) {\n",
       "            console.log(\"No handler for the '\" + msg_type + \"' message type: \", msg);\n",
       "            return;\n",
       "        }\n",
       "\n",
       "        if (callback) {\n",
       "            try {\n",
       "                // console.log(\"Handling '\" + msg_type + \"' message: \", msg);\n",
       "                callback(fig, msg);\n",
       "            } catch (e) {\n",
       "                console.log(\"Exception inside the 'handler_\" + msg_type + \"' callback:\", e, e.stack, msg);\n",
       "            }\n",
       "        }\n",
       "    };\n",
       "}\n",
       "\n",
       "// from http://stackoverflow.com/questions/1114465/getting-mouse-location-in-canvas\n",
       "mpl.findpos = function(e) {\n",
       "    //this section is from http://www.quirksmode.org/js/events_properties.html\n",
       "    var targ;\n",
       "    if (!e)\n",
       "        e = window.event;\n",
       "    if (e.target)\n",
       "        targ = e.target;\n",
       "    else if (e.srcElement)\n",
       "        targ = e.srcElement;\n",
       "    if (targ.nodeType == 3) // defeat Safari bug\n",
       "        targ = targ.parentNode;\n",
       "\n",
       "    // jQuery normalizes the pageX and pageY\n",
       "    // pageX,Y are the mouse positions relative to the document\n",
       "    // offset() returns the position of the element relative to the document\n",
       "    var x = e.pageX - $(targ).offset().left;\n",
       "    var y = e.pageY - $(targ).offset().top;\n",
       "\n",
       "    return {\"x\": x, \"y\": y};\n",
       "};\n",
       "\n",
       "/*\n",
       " * return a copy of an object with only non-object keys\n",
       " * we need this to avoid circular references\n",
       " * http://stackoverflow.com/a/24161582/3208463\n",
       " */\n",
       "function simpleKeys (original) {\n",
       "  return Object.keys(original).reduce(function (obj, key) {\n",
       "    if (typeof original[key] !== 'object')\n",
       "        obj[key] = original[key]\n",
       "    return obj;\n",
       "  }, {});\n",
       "}\n",
       "\n",
       "mpl.figure.prototype.mouse_event = function(event, name) {\n",
       "    var canvas_pos = mpl.findpos(event)\n",
       "\n",
       "    if (name === 'button_press')\n",
       "    {\n",
       "        this.canvas.focus();\n",
       "        this.canvas_div.focus();\n",
       "    }\n",
       "\n",
       "    var x = canvas_pos.x;\n",
       "    var y = canvas_pos.y;\n",
       "\n",
       "    this.send_message(name, {x: x, y: y, button: event.button,\n",
       "                             step: event.step,\n",
       "                             guiEvent: simpleKeys(event)});\n",
       "\n",
       "    /* This prevents the web browser from automatically changing to\n",
       "     * the text insertion cursor when the button is pressed.  We want\n",
       "     * to control all of the cursor setting manually through the\n",
       "     * 'cursor' event from matplotlib */\n",
       "    event.preventDefault();\n",
       "    return false;\n",
       "}\n",
       "\n",
       "mpl.figure.prototype._key_event_extra = function(event, name) {\n",
       "    // Handle any extra behaviour associated with a key event\n",
       "}\n",
       "\n",
       "mpl.figure.prototype.key_event = function(event, name) {\n",
       "\n",
       "    // Prevent repeat events\n",
       "    if (name == 'key_press')\n",
       "    {\n",
       "        if (event.which === this._key)\n",
       "            return;\n",
       "        else\n",
       "            this._key = event.which;\n",
       "    }\n",
       "    if (name == 'key_release')\n",
       "        this._key = null;\n",
       "\n",
       "    var value = '';\n",
       "    if (event.ctrlKey && event.which != 17)\n",
       "        value += \"ctrl+\";\n",
       "    if (event.altKey && event.which != 18)\n",
       "        value += \"alt+\";\n",
       "    if (event.shiftKey && event.which != 16)\n",
       "        value += \"shift+\";\n",
       "\n",
       "    value += 'k';\n",
       "    value += event.which.toString();\n",
       "\n",
       "    this._key_event_extra(event, name);\n",
       "\n",
       "    this.send_message(name, {key: value,\n",
       "                             guiEvent: simpleKeys(event)});\n",
       "    return false;\n",
       "}\n",
       "\n",
       "mpl.figure.prototype.toolbar_button_onclick = function(name) {\n",
       "    if (name == 'download') {\n",
       "        this.handle_save(this, null);\n",
       "    } else {\n",
       "        this.send_message(\"toolbar_button\", {name: name});\n",
       "    }\n",
       "};\n",
       "\n",
       "mpl.figure.prototype.toolbar_button_onmouseover = function(tooltip) {\n",
       "    this.message.textContent = tooltip;\n",
       "};\n",
       "mpl.toolbar_items = [[\"Home\", \"Reset original view\", \"fa fa-home icon-home\", \"home\"], [\"Back\", \"Back to  previous view\", \"fa fa-arrow-left icon-arrow-left\", \"back\"], [\"Forward\", \"Forward to next view\", \"fa fa-arrow-right icon-arrow-right\", \"forward\"], [\"\", \"\", \"\", \"\"], [\"Pan\", \"Pan axes with left mouse, zoom with right\", \"fa fa-arrows icon-move\", \"pan\"], [\"Zoom\", \"Zoom to rectangle\", \"fa fa-square-o icon-check-empty\", \"zoom\"], [\"\", \"\", \"\", \"\"], [\"Download\", \"Download plot\", \"fa fa-floppy-o icon-save\", \"download\"]];\n",
       "\n",
       "mpl.extensions = [\"eps\", \"jpeg\", \"pdf\", \"png\", \"ps\", \"raw\", \"svg\", \"tif\"];\n",
       "\n",
       "mpl.default_extension = \"png\";var comm_websocket_adapter = function(comm) {\n",
       "    // Create a \"websocket\"-like object which calls the given IPython comm\n",
       "    // object with the appropriate methods. Currently this is a non binary\n",
       "    // socket, so there is still some room for performance tuning.\n",
       "    var ws = {};\n",
       "\n",
       "    ws.close = function() {\n",
       "        comm.close()\n",
       "    };\n",
       "    ws.send = function(m) {\n",
       "        //console.log('sending', m);\n",
       "        comm.send(m);\n",
       "    };\n",
       "    // Register the callback with on_msg.\n",
       "    comm.on_msg(function(msg) {\n",
       "        //console.log('receiving', msg['content']['data'], msg);\n",
       "        // Pass the mpl event to the overriden (by mpl) onmessage function.\n",
       "        ws.onmessage(msg['content']['data'])\n",
       "    });\n",
       "    return ws;\n",
       "}\n",
       "\n",
       "mpl.mpl_figure_comm = function(comm, msg) {\n",
       "    // This is the function which gets called when the mpl process\n",
       "    // starts-up an IPython Comm through the \"matplotlib\" channel.\n",
       "\n",
       "    var id = msg.content.data.id;\n",
       "    // Get hold of the div created by the display call when the Comm\n",
       "    // socket was opened in Python.\n",
       "    var element = $(\"#\" + id);\n",
       "    var ws_proxy = comm_websocket_adapter(comm)\n",
       "\n",
       "    function ondownload(figure, format) {\n",
       "        window.open(figure.imageObj.src);\n",
       "    }\n",
       "\n",
       "    var fig = new mpl.figure(id, ws_proxy,\n",
       "                           ondownload,\n",
       "                           element.get(0));\n",
       "\n",
       "    // Call onopen now - mpl needs it, as it is assuming we've passed it a real\n",
       "    // web socket which is closed, not our websocket->open comm proxy.\n",
       "    ws_proxy.onopen();\n",
       "\n",
       "    fig.parent_element = element.get(0);\n",
       "    fig.cell_info = mpl.find_output_cell(\"<div id='\" + id + \"'></div>\");\n",
       "    if (!fig.cell_info) {\n",
       "        console.error(\"Failed to find cell for figure\", id, fig);\n",
       "        return;\n",
       "    }\n",
       "\n",
       "    var output_index = fig.cell_info[2]\n",
       "    var cell = fig.cell_info[0];\n",
       "\n",
       "};\n",
       "\n",
       "mpl.figure.prototype.handle_close = function(fig, msg) {\n",
       "    fig.root.unbind('remove')\n",
       "\n",
       "    // Update the output cell to use the data from the current canvas.\n",
       "    fig.push_to_output();\n",
       "    var dataURL = fig.canvas.toDataURL();\n",
       "    // Re-enable the keyboard manager in IPython - without this line, in FF,\n",
       "    // the notebook keyboard shortcuts fail.\n",
       "    IPython.keyboard_manager.enable()\n",
       "    $(fig.parent_element).html('<img src=\"' + dataURL + '\">');\n",
       "    fig.close_ws(fig, msg);\n",
       "}\n",
       "\n",
       "mpl.figure.prototype.close_ws = function(fig, msg){\n",
       "    fig.send_message('closing', msg);\n",
       "    // fig.ws.close()\n",
       "}\n",
       "\n",
       "mpl.figure.prototype.push_to_output = function(remove_interactive) {\n",
       "    // Turn the data on the canvas into data in the output cell.\n",
       "    var dataURL = this.canvas.toDataURL();\n",
       "    this.cell_info[1]['text/html'] = '<img src=\"' + dataURL + '\">';\n",
       "}\n",
       "\n",
       "mpl.figure.prototype.updated_canvas_event = function() {\n",
       "    // Tell IPython that the notebook contents must change.\n",
       "    IPython.notebook.set_dirty(true);\n",
       "    this.send_message(\"ack\", {});\n",
       "    var fig = this;\n",
       "    // Wait a second, then push the new image to the DOM so\n",
       "    // that it is saved nicely (might be nice to debounce this).\n",
       "    setTimeout(function () { fig.push_to_output() }, 1000);\n",
       "}\n",
       "\n",
       "mpl.figure.prototype._init_toolbar = function() {\n",
       "    var fig = this;\n",
       "\n",
       "    var nav_element = $('<div/>')\n",
       "    nav_element.attr('style', 'width: 100%');\n",
       "    this.root.append(nav_element);\n",
       "\n",
       "    // Define a callback function for later on.\n",
       "    function toolbar_event(event) {\n",
       "        return fig.toolbar_button_onclick(event['data']);\n",
       "    }\n",
       "    function toolbar_mouse_event(event) {\n",
       "        return fig.toolbar_button_onmouseover(event['data']);\n",
       "    }\n",
       "\n",
       "    for(var toolbar_ind in mpl.toolbar_items){\n",
       "        var name = mpl.toolbar_items[toolbar_ind][0];\n",
       "        var tooltip = mpl.toolbar_items[toolbar_ind][1];\n",
       "        var image = mpl.toolbar_items[toolbar_ind][2];\n",
       "        var method_name = mpl.toolbar_items[toolbar_ind][3];\n",
       "\n",
       "        if (!name) { continue; };\n",
       "\n",
       "        var button = $('<button class=\"btn btn-default\" href=\"#\" title=\"' + name + '\"><i class=\"fa ' + image + ' fa-lg\"></i></button>');\n",
       "        button.click(method_name, toolbar_event);\n",
       "        button.mouseover(tooltip, toolbar_mouse_event);\n",
       "        nav_element.append(button);\n",
       "    }\n",
       "\n",
       "    // Add the status bar.\n",
       "    var status_bar = $('<span class=\"mpl-message\" style=\"text-align:right; float: right;\"/>');\n",
       "    nav_element.append(status_bar);\n",
       "    this.message = status_bar[0];\n",
       "\n",
       "    // Add the close button to the window.\n",
       "    var buttongrp = $('<div class=\"btn-group inline pull-right\"></div>');\n",
       "    var button = $('<button class=\"btn btn-mini btn-primary\" href=\"#\" title=\"Stop Interaction\"><i class=\"fa fa-power-off icon-remove icon-large\"></i></button>');\n",
       "    button.click(function (evt) { fig.handle_close(fig, {}); } );\n",
       "    button.mouseover('Stop Interaction', toolbar_mouse_event);\n",
       "    buttongrp.append(button);\n",
       "    var titlebar = this.root.find($('.ui-dialog-titlebar'));\n",
       "    titlebar.prepend(buttongrp);\n",
       "}\n",
       "\n",
       "mpl.figure.prototype._root_extra_style = function(el){\n",
       "    var fig = this\n",
       "    el.on(\"remove\", function(){\n",
       "\tfig.close_ws(fig, {});\n",
       "    });\n",
       "}\n",
       "\n",
       "mpl.figure.prototype._canvas_extra_style = function(el){\n",
       "    // this is important to make the div 'focusable\n",
       "    el.attr('tabindex', 0)\n",
       "    // reach out to IPython and tell the keyboard manager to turn it's self\n",
       "    // off when our div gets focus\n",
       "\n",
       "    // location in version 3\n",
       "    if (IPython.notebook.keyboard_manager) {\n",
       "        IPython.notebook.keyboard_manager.register_events(el);\n",
       "    }\n",
       "    else {\n",
       "        // location in version 2\n",
       "        IPython.keyboard_manager.register_events(el);\n",
       "    }\n",
       "\n",
       "}\n",
       "\n",
       "mpl.figure.prototype._key_event_extra = function(event, name) {\n",
       "    var manager = IPython.notebook.keyboard_manager;\n",
       "    if (!manager)\n",
       "        manager = IPython.keyboard_manager;\n",
       "\n",
       "    // Check for shift+enter\n",
       "    if (event.shiftKey && event.which == 13) {\n",
       "        this.canvas_div.blur();\n",
       "        event.shiftKey = false;\n",
       "        // Send a \"J\" for go to next cell\n",
       "        event.which = 74;\n",
       "        event.keyCode = 74;\n",
       "        manager.command_mode();\n",
       "        manager.handle_keydown(event);\n",
       "    }\n",
       "}\n",
       "\n",
       "mpl.figure.prototype.handle_save = function(fig, msg) {\n",
       "    fig.ondownload(fig, null);\n",
       "}\n",
       "\n",
       "\n",
       "mpl.find_output_cell = function(html_output) {\n",
       "    // Return the cell and output element which can be found *uniquely* in the notebook.\n",
       "    // Note - this is a bit hacky, but it is done because the \"notebook_saving.Notebook\"\n",
       "    // IPython event is triggered only after the cells have been serialised, which for\n",
       "    // our purposes (turning an active figure into a static one), is too late.\n",
       "    var cells = IPython.notebook.get_cells();\n",
       "    var ncells = cells.length;\n",
       "    for (var i=0; i<ncells; i++) {\n",
       "        var cell = cells[i];\n",
       "        if (cell.cell_type === 'code'){\n",
       "            for (var j=0; j<cell.output_area.outputs.length; j++) {\n",
       "                var data = cell.output_area.outputs[j];\n",
       "                if (data.data) {\n",
       "                    // IPython >= 3 moved mimebundle to data attribute of output\n",
       "                    data = data.data;\n",
       "                }\n",
       "                if (data['text/html'] == html_output) {\n",
       "                    return [cell, data, j];\n",
       "                }\n",
       "            }\n",
       "        }\n",
       "    }\n",
       "}\n",
       "\n",
       "// Register the function which deals with the matplotlib target/channel.\n",
       "// The kernel may be null if the page has been refreshed.\n",
       "if (IPython.notebook.kernel != null) {\n",
       "    IPython.notebook.kernel.comm_manager.register_target('matplotlib', mpl.mpl_figure_comm);\n",
       "}\n"
      ],
      "text/plain": [
       "<IPython.core.display.Javascript object>"
      ]
     },
     "metadata": {},
     "output_type": "display_data"
    },
    {
     "data": {
      "text/html": [
       "<img src=\"data:image/png;base64,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\">"
      ],
      "text/plain": [
       "<IPython.core.display.HTML object>"
      ]
     },
     "metadata": {},
     "output_type": "display_data"
    }
   ],
   "source": [
    "x = np.linspace(0, 10)  # range of values from 0 to 10\n",
    "y = np.sin(x)           # sine of these values\n",
    "plt.plot(x, y);         # plot as a line"
   ]
  },
  {
   "cell_type": "markdown",
   "metadata": {},
   "source": [
    "If you run this code live, you will see an interactive plot that lets you pan, zoom, and scroll to explore the data.\n",
    "\n",
    "This is the simplest example of a Matplotlib plot; for ideas on the wide range of plot types available, see [Matplotlib's online gallery](http://matplotlib.org/gallery.html) as well as other references listed in [Resources for Further Learning](16-Further-Resources.ipynb)."
   ]
  },
  {
   "cell_type": "markdown",
   "metadata": {},
   "source": [
    "## SciPy: Scientific Python\n",
    "\n",
    "SciPy is a collection of scientific functionality that is built on NumPy.\n",
    "The package began as a set of Python wrappers to well-known Fortran libraries for numerical computing, and has grown from there.\n",
    "The package is arranged as a set of submodules, each implementing some class of numerical algorithms.\n",
    "Here is an incomplete sample of some of the more important ones for data science:\n",
    "\n",
    "- ``scipy.fftpack``: Fast Fourier transforms\n",
    "- ``scipy.integrate``: Numerical integration\n",
    "- ``scipy.interpolate``: Numerical interpolation\n",
    "- ``scipy.linalg``: Linear algebra routines\n",
    "- ``scipy.optimize``: Numerical optimization of functions\n",
    "- ``scipy.sparse``: Sparse matrix storage and linear algebra\n",
    "- ``scipy.stats``: Statistical analysis routines\n",
    "\n",
    "For example, let's take a look at interpolating a smooth curve between some data"
   ]
  },
  {
   "cell_type": "code",
   "execution_count": 16,
   "metadata": {},
   "outputs": [
    {
     "data": {
      "application/javascript": [
       "/* Put everything inside the global mpl namespace */\n",
       "window.mpl = {};\n",
       "\n",
       "mpl.get_websocket_type = function() {\n",
       "    if (typeof(WebSocket) !== 'undefined') {\n",
       "        return WebSocket;\n",
       "    } else if (typeof(MozWebSocket) !== 'undefined') {\n",
       "        return MozWebSocket;\n",
       "    } else {\n",
       "        alert('Your browser does not have WebSocket support.' +\n",
       "              'Please try Chrome, Safari or Firefox ≥ 6. ' +\n",
       "              'Firefox 4 and 5 are also supported but you ' +\n",
       "              'have to enable WebSockets in about:config.');\n",
       "    };\n",
       "}\n",
       "\n",
       "mpl.figure = function(figure_id, websocket, ondownload, parent_element) {\n",
       "    this.id = figure_id;\n",
       "\n",
       "    this.ws = websocket;\n",
       "\n",
       "    this.supports_binary = (this.ws.binaryType != undefined);\n",
       "\n",
       "    if (!this.supports_binary) {\n",
       "        var warnings = document.getElementById(\"mpl-warnings\");\n",
       "        if (warnings) {\n",
       "            warnings.style.display = 'block';\n",
       "            warnings.textContent = (\n",
       "                \"This browser does not support binary websocket messages. \" +\n",
       "                    \"Performance may be slow.\");\n",
       "        }\n",
       "    }\n",
       "\n",
       "    this.imageObj = new Image();\n",
       "\n",
       "    this.context = undefined;\n",
       "    this.message = undefined;\n",
       "    this.canvas = undefined;\n",
       "    this.rubberband_canvas = undefined;\n",
       "    this.rubberband_context = undefined;\n",
       "    this.format_dropdown = undefined;\n",
       "\n",
       "    this.image_mode = 'full';\n",
       "\n",
       "    this.root = $('<div/>');\n",
       "    this._root_extra_style(this.root)\n",
       "    this.root.attr('style', 'display: inline-block');\n",
       "\n",
       "    $(parent_element).append(this.root);\n",
       "\n",
       "    this._init_header(this);\n",
       "    this._init_canvas(this);\n",
       "    this._init_toolbar(this);\n",
       "\n",
       "    var fig = this;\n",
       "\n",
       "    this.waiting = false;\n",
       "\n",
       "    this.ws.onopen =  function () {\n",
       "            fig.send_message(\"supports_binary\", {value: fig.supports_binary});\n",
       "            fig.send_message(\"send_image_mode\", {});\n",
       "            fig.send_message(\"refresh\", {});\n",
       "        }\n",
       "\n",
       "    this.imageObj.onload = function() {\n",
       "            if (fig.image_mode == 'full') {\n",
       "                // Full images could contain transparency (where diff images\n",
       "                // almost always do), so we need to clear the canvas so that\n",
       "                // there is no ghosting.\n",
       "                fig.context.clearRect(0, 0, fig.canvas.width, fig.canvas.height);\n",
       "            }\n",
       "            fig.context.drawImage(fig.imageObj, 0, 0);\n",
       "        };\n",
       "\n",
       "    this.imageObj.onunload = function() {\n",
       "        this.ws.close();\n",
       "    }\n",
       "\n",
       "    this.ws.onmessage = this._make_on_message_function(this);\n",
       "\n",
       "    this.ondownload = ondownload;\n",
       "}\n",
       "\n",
       "mpl.figure.prototype._init_header = function() {\n",
       "    var titlebar = $(\n",
       "        '<div class=\"ui-dialog-titlebar ui-widget-header ui-corner-all ' +\n",
       "        'ui-helper-clearfix\"/>');\n",
       "    var titletext = $(\n",
       "        '<div class=\"ui-dialog-title\" style=\"width: 100%; ' +\n",
       "        'text-align: center; padding: 3px;\"/>');\n",
       "    titlebar.append(titletext)\n",
       "    this.root.append(titlebar);\n",
       "    this.header = titletext[0];\n",
       "}\n",
       "\n",
       "\n",
       "\n",
       "mpl.figure.prototype._canvas_extra_style = function(canvas_div) {\n",
       "\n",
       "}\n",
       "\n",
       "\n",
       "mpl.figure.prototype._root_extra_style = function(canvas_div) {\n",
       "\n",
       "}\n",
       "\n",
       "mpl.figure.prototype._init_canvas = function() {\n",
       "    var fig = this;\n",
       "\n",
       "    var canvas_div = $('<div/>');\n",
       "\n",
       "    canvas_div.attr('style', 'position: relative; clear: both; outline: 0');\n",
       "\n",
       "    function canvas_keyboard_event(event) {\n",
       "        return fig.key_event(event, event['data']);\n",
       "    }\n",
       "\n",
       "    canvas_div.keydown('key_press', canvas_keyboard_event);\n",
       "    canvas_div.keyup('key_release', canvas_keyboard_event);\n",
       "    this.canvas_div = canvas_div\n",
       "    this._canvas_extra_style(canvas_div)\n",
       "    this.root.append(canvas_div);\n",
       "\n",
       "    var canvas = $('<canvas/>');\n",
       "    canvas.addClass('mpl-canvas');\n",
       "    canvas.attr('style', \"left: 0; top: 0; z-index: 0; outline: 0\")\n",
       "\n",
       "    this.canvas = canvas[0];\n",
       "    this.context = canvas[0].getContext(\"2d\");\n",
       "\n",
       "    var rubberband = $('<canvas/>');\n",
       "    rubberband.attr('style', \"position: absolute; left: 0; top: 0; z-index: 1;\")\n",
       "\n",
       "    var pass_mouse_events = true;\n",
       "\n",
       "    canvas_div.resizable({\n",
       "        start: function(event, ui) {\n",
       "            pass_mouse_events = false;\n",
       "        },\n",
       "        resize: function(event, ui) {\n",
       "            fig.request_resize(ui.size.width, ui.size.height);\n",
       "        },\n",
       "        stop: function(event, ui) {\n",
       "            pass_mouse_events = true;\n",
       "            fig.request_resize(ui.size.width, ui.size.height);\n",
       "        },\n",
       "    });\n",
       "\n",
       "    function mouse_event_fn(event) {\n",
       "        if (pass_mouse_events)\n",
       "            return fig.mouse_event(event, event['data']);\n",
       "    }\n",
       "\n",
       "    rubberband.mousedown('button_press', mouse_event_fn);\n",
       "    rubberband.mouseup('button_release', mouse_event_fn);\n",
       "    // Throttle sequential mouse events to 1 every 20ms.\n",
       "    rubberband.mousemove('motion_notify', mouse_event_fn);\n",
       "\n",
       "    rubberband.mouseenter('figure_enter', mouse_event_fn);\n",
       "    rubberband.mouseleave('figure_leave', mouse_event_fn);\n",
       "\n",
       "    canvas_div.on(\"wheel\", function (event) {\n",
       "        event = event.originalEvent;\n",
       "        event['data'] = 'scroll'\n",
       "        if (event.deltaY < 0) {\n",
       "            event.step = 1;\n",
       "        } else {\n",
       "            event.step = -1;\n",
       "        }\n",
       "        mouse_event_fn(event);\n",
       "    });\n",
       "\n",
       "    canvas_div.append(canvas);\n",
       "    canvas_div.append(rubberband);\n",
       "\n",
       "    this.rubberband = rubberband;\n",
       "    this.rubberband_canvas = rubberband[0];\n",
       "    this.rubberband_context = rubberband[0].getContext(\"2d\");\n",
       "    this.rubberband_context.strokeStyle = \"#000000\";\n",
       "\n",
       "    this._resize_canvas = function(width, height) {\n",
       "        // Keep the size of the canvas, canvas container, and rubber band\n",
       "        // canvas in synch.\n",
       "        canvas_div.css('width', width)\n",
       "        canvas_div.css('height', height)\n",
       "\n",
       "        canvas.attr('width', width);\n",
       "        canvas.attr('height', height);\n",
       "\n",
       "        rubberband.attr('width', width);\n",
       "        rubberband.attr('height', height);\n",
       "    }\n",
       "\n",
       "    // Set the figure to an initial 600x600px, this will subsequently be updated\n",
       "    // upon first draw.\n",
       "    this._resize_canvas(600, 600);\n",
       "\n",
       "    // Disable right mouse context menu.\n",
       "    $(this.rubberband_canvas).bind(\"contextmenu\",function(e){\n",
       "        return false;\n",
       "    });\n",
       "\n",
       "    function set_focus () {\n",
       "        canvas.focus();\n",
       "        canvas_div.focus();\n",
       "    }\n",
       "\n",
       "    window.setTimeout(set_focus, 100);\n",
       "}\n",
       "\n",
       "mpl.figure.prototype._init_toolbar = function() {\n",
       "    var fig = this;\n",
       "\n",
       "    var nav_element = $('<div/>')\n",
       "    nav_element.attr('style', 'width: 100%');\n",
       "    this.root.append(nav_element);\n",
       "\n",
       "    // Define a callback function for later on.\n",
       "    function toolbar_event(event) {\n",
       "        return fig.toolbar_button_onclick(event['data']);\n",
       "    }\n",
       "    function toolbar_mouse_event(event) {\n",
       "        return fig.toolbar_button_onmouseover(event['data']);\n",
       "    }\n",
       "\n",
       "    for(var toolbar_ind in mpl.toolbar_items) {\n",
       "        var name = mpl.toolbar_items[toolbar_ind][0];\n",
       "        var tooltip = mpl.toolbar_items[toolbar_ind][1];\n",
       "        var image = mpl.toolbar_items[toolbar_ind][2];\n",
       "        var method_name = mpl.toolbar_items[toolbar_ind][3];\n",
       "\n",
       "        if (!name) {\n",
       "            // put a spacer in here.\n",
       "            continue;\n",
       "        }\n",
       "        var button = $('<button/>');\n",
       "        button.addClass('ui-button ui-widget ui-state-default ui-corner-all ' +\n",
       "                        'ui-button-icon-only');\n",
       "        button.attr('role', 'button');\n",
       "        button.attr('aria-disabled', 'false');\n",
       "        button.click(method_name, toolbar_event);\n",
       "        button.mouseover(tooltip, toolbar_mouse_event);\n",
       "\n",
       "        var icon_img = $('<span/>');\n",
       "        icon_img.addClass('ui-button-icon-primary ui-icon');\n",
       "        icon_img.addClass(image);\n",
       "        icon_img.addClass('ui-corner-all');\n",
       "\n",
       "        var tooltip_span = $('<span/>');\n",
       "        tooltip_span.addClass('ui-button-text');\n",
       "        tooltip_span.html(tooltip);\n",
       "\n",
       "        button.append(icon_img);\n",
       "        button.append(tooltip_span);\n",
       "\n",
       "        nav_element.append(button);\n",
       "    }\n",
       "\n",
       "    var fmt_picker_span = $('<span/>');\n",
       "\n",
       "    var fmt_picker = $('<select/>');\n",
       "    fmt_picker.addClass('mpl-toolbar-option ui-widget ui-widget-content');\n",
       "    fmt_picker_span.append(fmt_picker);\n",
       "    nav_element.append(fmt_picker_span);\n",
       "    this.format_dropdown = fmt_picker[0];\n",
       "\n",
       "    for (var ind in mpl.extensions) {\n",
       "        var fmt = mpl.extensions[ind];\n",
       "        var option = $(\n",
       "            '<option/>', {selected: fmt === mpl.default_extension}).html(fmt);\n",
       "        fmt_picker.append(option)\n",
       "    }\n",
       "\n",
       "    // Add hover states to the ui-buttons\n",
       "    $( \".ui-button\" ).hover(\n",
       "        function() { $(this).addClass(\"ui-state-hover\");},\n",
       "        function() { $(this).removeClass(\"ui-state-hover\");}\n",
       "    );\n",
       "\n",
       "    var status_bar = $('<span class=\"mpl-message\"/>');\n",
       "    nav_element.append(status_bar);\n",
       "    this.message = status_bar[0];\n",
       "}\n",
       "\n",
       "mpl.figure.prototype.request_resize = function(x_pixels, y_pixels) {\n",
       "    // Request matplotlib to resize the figure. Matplotlib will then trigger a resize in the client,\n",
       "    // which will in turn request a refresh of the image.\n",
       "    this.send_message('resize', {'width': x_pixels, 'height': y_pixels});\n",
       "}\n",
       "\n",
       "mpl.figure.prototype.send_message = function(type, properties) {\n",
       "    properties['type'] = type;\n",
       "    properties['figure_id'] = this.id;\n",
       "    this.ws.send(JSON.stringify(properties));\n",
       "}\n",
       "\n",
       "mpl.figure.prototype.send_draw_message = function() {\n",
       "    if (!this.waiting) {\n",
       "        this.waiting = true;\n",
       "        this.ws.send(JSON.stringify({type: \"draw\", figure_id: this.id}));\n",
       "    }\n",
       "}\n",
       "\n",
       "\n",
       "mpl.figure.prototype.handle_save = function(fig, msg) {\n",
       "    var format_dropdown = fig.format_dropdown;\n",
       "    var format = format_dropdown.options[format_dropdown.selectedIndex].value;\n",
       "    fig.ondownload(fig, format);\n",
       "}\n",
       "\n",
       "\n",
       "mpl.figure.prototype.handle_resize = function(fig, msg) {\n",
       "    var size = msg['size'];\n",
       "    if (size[0] != fig.canvas.width || size[1] != fig.canvas.height) {\n",
       "        fig._resize_canvas(size[0], size[1]);\n",
       "        fig.send_message(\"refresh\", {});\n",
       "    };\n",
       "}\n",
       "\n",
       "mpl.figure.prototype.handle_rubberband = function(fig, msg) {\n",
       "    var x0 = msg['x0'];\n",
       "    var y0 = fig.canvas.height - msg['y0'];\n",
       "    var x1 = msg['x1'];\n",
       "    var y1 = fig.canvas.height - msg['y1'];\n",
       "    x0 = Math.floor(x0) + 0.5;\n",
       "    y0 = Math.floor(y0) + 0.5;\n",
       "    x1 = Math.floor(x1) + 0.5;\n",
       "    y1 = Math.floor(y1) + 0.5;\n",
       "    var min_x = Math.min(x0, x1);\n",
       "    var min_y = Math.min(y0, y1);\n",
       "    var width = Math.abs(x1 - x0);\n",
       "    var height = Math.abs(y1 - y0);\n",
       "\n",
       "    fig.rubberband_context.clearRect(\n",
       "        0, 0, fig.canvas.width, fig.canvas.height);\n",
       "\n",
       "    fig.rubberband_context.strokeRect(min_x, min_y, width, height);\n",
       "}\n",
       "\n",
       "mpl.figure.prototype.handle_figure_label = function(fig, msg) {\n",
       "    // Updates the figure title.\n",
       "    fig.header.textContent = msg['label'];\n",
       "}\n",
       "\n",
       "mpl.figure.prototype.handle_cursor = function(fig, msg) {\n",
       "    var cursor = msg['cursor'];\n",
       "    switch(cursor)\n",
       "    {\n",
       "    case 0:\n",
       "        cursor = 'pointer';\n",
       "        break;\n",
       "    case 1:\n",
       "        cursor = 'default';\n",
       "        break;\n",
       "    case 2:\n",
       "        cursor = 'crosshair';\n",
       "        break;\n",
       "    case 3:\n",
       "        cursor = 'move';\n",
       "        break;\n",
       "    }\n",
       "    fig.rubberband_canvas.style.cursor = cursor;\n",
       "}\n",
       "\n",
       "mpl.figure.prototype.handle_message = function(fig, msg) {\n",
       "    fig.message.textContent = msg['message'];\n",
       "}\n",
       "\n",
       "mpl.figure.prototype.handle_draw = function(fig, msg) {\n",
       "    // Request the server to send over a new figure.\n",
       "    fig.send_draw_message();\n",
       "}\n",
       "\n",
       "mpl.figure.prototype.handle_image_mode = function(fig, msg) {\n",
       "    fig.image_mode = msg['mode'];\n",
       "}\n",
       "\n",
       "mpl.figure.prototype.updated_canvas_event = function() {\n",
       "    // Called whenever the canvas gets updated.\n",
       "    this.send_message(\"ack\", {});\n",
       "}\n",
       "\n",
       "// A function to construct a web socket function for onmessage handling.\n",
       "// Called in the figure constructor.\n",
       "mpl.figure.prototype._make_on_message_function = function(fig) {\n",
       "    return function socket_on_message(evt) {\n",
       "        if (evt.data instanceof Blob) {\n",
       "            /* FIXME: We get \"Resource interpreted as Image but\n",
       "             * transferred with MIME type text/plain:\" errors on\n",
       "             * Chrome.  But how to set the MIME type?  It doesn't seem\n",
       "             * to be part of the websocket stream */\n",
       "            evt.data.type = \"image/png\";\n",
       "\n",
       "            /* Free the memory for the previous frames */\n",
       "            if (fig.imageObj.src) {\n",
       "                (window.URL || window.webkitURL).revokeObjectURL(\n",
       "                    fig.imageObj.src);\n",
       "            }\n",
       "\n",
       "            fig.imageObj.src = (window.URL || window.webkitURL).createObjectURL(\n",
       "                evt.data);\n",
       "            fig.updated_canvas_event();\n",
       "            fig.waiting = false;\n",
       "            return;\n",
       "        }\n",
       "        else if (typeof evt.data === 'string' && evt.data.slice(0, 21) == \"data:image/png;base64\") {\n",
       "            fig.imageObj.src = evt.data;\n",
       "            fig.updated_canvas_event();\n",
       "            fig.waiting = false;\n",
       "            return;\n",
       "        }\n",
       "\n",
       "        var msg = JSON.parse(evt.data);\n",
       "        var msg_type = msg['type'];\n",
       "\n",
       "        // Call the  \"handle_{type}\" callback, which takes\n",
       "        // the figure and JSON message as its only arguments.\n",
       "        try {\n",
       "            var callback = fig[\"handle_\" + msg_type];\n",
       "        } catch (e) {\n",
       "            console.log(\"No handler for the '\" + msg_type + \"' message type: \", msg);\n",
       "            return;\n",
       "        }\n",
       "\n",
       "        if (callback) {\n",
       "            try {\n",
       "                // console.log(\"Handling '\" + msg_type + \"' message: \", msg);\n",
       "                callback(fig, msg);\n",
       "            } catch (e) {\n",
       "                console.log(\"Exception inside the 'handler_\" + msg_type + \"' callback:\", e, e.stack, msg);\n",
       "            }\n",
       "        }\n",
       "    };\n",
       "}\n",
       "\n",
       "// from http://stackoverflow.com/questions/1114465/getting-mouse-location-in-canvas\n",
       "mpl.findpos = function(e) {\n",
       "    //this section is from http://www.quirksmode.org/js/events_properties.html\n",
       "    var targ;\n",
       "    if (!e)\n",
       "        e = window.event;\n",
       "    if (e.target)\n",
       "        targ = e.target;\n",
       "    else if (e.srcElement)\n",
       "        targ = e.srcElement;\n",
       "    if (targ.nodeType == 3) // defeat Safari bug\n",
       "        targ = targ.parentNode;\n",
       "\n",
       "    // jQuery normalizes the pageX and pageY\n",
       "    // pageX,Y are the mouse positions relative to the document\n",
       "    // offset() returns the position of the element relative to the document\n",
       "    var x = e.pageX - $(targ).offset().left;\n",
       "    var y = e.pageY - $(targ).offset().top;\n",
       "\n",
       "    return {\"x\": x, \"y\": y};\n",
       "};\n",
       "\n",
       "/*\n",
       " * return a copy of an object with only non-object keys\n",
       " * we need this to avoid circular references\n",
       " * http://stackoverflow.com/a/24161582/3208463\n",
       " */\n",
       "function simpleKeys (original) {\n",
       "  return Object.keys(original).reduce(function (obj, key) {\n",
       "    if (typeof original[key] !== 'object')\n",
       "        obj[key] = original[key]\n",
       "    return obj;\n",
       "  }, {});\n",
       "}\n",
       "\n",
       "mpl.figure.prototype.mouse_event = function(event, name) {\n",
       "    var canvas_pos = mpl.findpos(event)\n",
       "\n",
       "    if (name === 'button_press')\n",
       "    {\n",
       "        this.canvas.focus();\n",
       "        this.canvas_div.focus();\n",
       "    }\n",
       "\n",
       "    var x = canvas_pos.x;\n",
       "    var y = canvas_pos.y;\n",
       "\n",
       "    this.send_message(name, {x: x, y: y, button: event.button,\n",
       "                             step: event.step,\n",
       "                             guiEvent: simpleKeys(event)});\n",
       "\n",
       "    /* This prevents the web browser from automatically changing to\n",
       "     * the text insertion cursor when the button is pressed.  We want\n",
       "     * to control all of the cursor setting manually through the\n",
       "     * 'cursor' event from matplotlib */\n",
       "    event.preventDefault();\n",
       "    return false;\n",
       "}\n",
       "\n",
       "mpl.figure.prototype._key_event_extra = function(event, name) {\n",
       "    // Handle any extra behaviour associated with a key event\n",
       "}\n",
       "\n",
       "mpl.figure.prototype.key_event = function(event, name) {\n",
       "\n",
       "    // Prevent repeat events\n",
       "    if (name == 'key_press')\n",
       "    {\n",
       "        if (event.which === this._key)\n",
       "            return;\n",
       "        else\n",
       "            this._key = event.which;\n",
       "    }\n",
       "    if (name == 'key_release')\n",
       "        this._key = null;\n",
       "\n",
       "    var value = '';\n",
       "    if (event.ctrlKey && event.which != 17)\n",
       "        value += \"ctrl+\";\n",
       "    if (event.altKey && event.which != 18)\n",
       "        value += \"alt+\";\n",
       "    if (event.shiftKey && event.which != 16)\n",
       "        value += \"shift+\";\n",
       "\n",
       "    value += 'k';\n",
       "    value += event.which.toString();\n",
       "\n",
       "    this._key_event_extra(event, name);\n",
       "\n",
       "    this.send_message(name, {key: value,\n",
       "                             guiEvent: simpleKeys(event)});\n",
       "    return false;\n",
       "}\n",
       "\n",
       "mpl.figure.prototype.toolbar_button_onclick = function(name) {\n",
       "    if (name == 'download') {\n",
       "        this.handle_save(this, null);\n",
       "    } else {\n",
       "        this.send_message(\"toolbar_button\", {name: name});\n",
       "    }\n",
       "};\n",
       "\n",
       "mpl.figure.prototype.toolbar_button_onmouseover = function(tooltip) {\n",
       "    this.message.textContent = tooltip;\n",
       "};\n",
       "mpl.toolbar_items = [[\"Home\", \"Reset original view\", \"fa fa-home icon-home\", \"home\"], [\"Back\", \"Back to  previous view\", \"fa fa-arrow-left icon-arrow-left\", \"back\"], [\"Forward\", \"Forward to next view\", \"fa fa-arrow-right icon-arrow-right\", \"forward\"], [\"\", \"\", \"\", \"\"], [\"Pan\", \"Pan axes with left mouse, zoom with right\", \"fa fa-arrows icon-move\", \"pan\"], [\"Zoom\", \"Zoom to rectangle\", \"fa fa-square-o icon-check-empty\", \"zoom\"], [\"\", \"\", \"\", \"\"], [\"Download\", \"Download plot\", \"fa fa-floppy-o icon-save\", \"download\"]];\n",
       "\n",
       "mpl.extensions = [\"eps\", \"jpeg\", \"pdf\", \"png\", \"ps\", \"raw\", \"svg\", \"tif\"];\n",
       "\n",
       "mpl.default_extension = \"png\";var comm_websocket_adapter = function(comm) {\n",
       "    // Create a \"websocket\"-like object which calls the given IPython comm\n",
       "    // object with the appropriate methods. Currently this is a non binary\n",
       "    // socket, so there is still some room for performance tuning.\n",
       "    var ws = {};\n",
       "\n",
       "    ws.close = function() {\n",
       "        comm.close()\n",
       "    };\n",
       "    ws.send = function(m) {\n",
       "        //console.log('sending', m);\n",
       "        comm.send(m);\n",
       "    };\n",
       "    // Register the callback with on_msg.\n",
       "    comm.on_msg(function(msg) {\n",
       "        //console.log('receiving', msg['content']['data'], msg);\n",
       "        // Pass the mpl event to the overriden (by mpl) onmessage function.\n",
       "        ws.onmessage(msg['content']['data'])\n",
       "    });\n",
       "    return ws;\n",
       "}\n",
       "\n",
       "mpl.mpl_figure_comm = function(comm, msg) {\n",
       "    // This is the function which gets called when the mpl process\n",
       "    // starts-up an IPython Comm through the \"matplotlib\" channel.\n",
       "\n",
       "    var id = msg.content.data.id;\n",
       "    // Get hold of the div created by the display call when the Comm\n",
       "    // socket was opened in Python.\n",
       "    var element = $(\"#\" + id);\n",
       "    var ws_proxy = comm_websocket_adapter(comm)\n",
       "\n",
       "    function ondownload(figure, format) {\n",
       "        window.open(figure.imageObj.src);\n",
       "    }\n",
       "\n",
       "    var fig = new mpl.figure(id, ws_proxy,\n",
       "                           ondownload,\n",
       "                           element.get(0));\n",
       "\n",
       "    // Call onopen now - mpl needs it, as it is assuming we've passed it a real\n",
       "    // web socket which is closed, not our websocket->open comm proxy.\n",
       "    ws_proxy.onopen();\n",
       "\n",
       "    fig.parent_element = element.get(0);\n",
       "    fig.cell_info = mpl.find_output_cell(\"<div id='\" + id + \"'></div>\");\n",
       "    if (!fig.cell_info) {\n",
       "        console.error(\"Failed to find cell for figure\", id, fig);\n",
       "        return;\n",
       "    }\n",
       "\n",
       "    var output_index = fig.cell_info[2]\n",
       "    var cell = fig.cell_info[0];\n",
       "\n",
       "};\n",
       "\n",
       "mpl.figure.prototype.handle_close = function(fig, msg) {\n",
       "    fig.root.unbind('remove')\n",
       "\n",
       "    // Update the output cell to use the data from the current canvas.\n",
       "    fig.push_to_output();\n",
       "    var dataURL = fig.canvas.toDataURL();\n",
       "    // Re-enable the keyboard manager in IPython - without this line, in FF,\n",
       "    // the notebook keyboard shortcuts fail.\n",
       "    IPython.keyboard_manager.enable()\n",
       "    $(fig.parent_element).html('<img src=\"' + dataURL + '\">');\n",
       "    fig.close_ws(fig, msg);\n",
       "}\n",
       "\n",
       "mpl.figure.prototype.close_ws = function(fig, msg){\n",
       "    fig.send_message('closing', msg);\n",
       "    // fig.ws.close()\n",
       "}\n",
       "\n",
       "mpl.figure.prototype.push_to_output = function(remove_interactive) {\n",
       "    // Turn the data on the canvas into data in the output cell.\n",
       "    var dataURL = this.canvas.toDataURL();\n",
       "    this.cell_info[1]['text/html'] = '<img src=\"' + dataURL + '\">';\n",
       "}\n",
       "\n",
       "mpl.figure.prototype.updated_canvas_event = function() {\n",
       "    // Tell IPython that the notebook contents must change.\n",
       "    IPython.notebook.set_dirty(true);\n",
       "    this.send_message(\"ack\", {});\n",
       "    var fig = this;\n",
       "    // Wait a second, then push the new image to the DOM so\n",
       "    // that it is saved nicely (might be nice to debounce this).\n",
       "    setTimeout(function () { fig.push_to_output() }, 1000);\n",
       "}\n",
       "\n",
       "mpl.figure.prototype._init_toolbar = function() {\n",
       "    var fig = this;\n",
       "\n",
       "    var nav_element = $('<div/>')\n",
       "    nav_element.attr('style', 'width: 100%');\n",
       "    this.root.append(nav_element);\n",
       "\n",
       "    // Define a callback function for later on.\n",
       "    function toolbar_event(event) {\n",
       "        return fig.toolbar_button_onclick(event['data']);\n",
       "    }\n",
       "    function toolbar_mouse_event(event) {\n",
       "        return fig.toolbar_button_onmouseover(event['data']);\n",
       "    }\n",
       "\n",
       "    for(var toolbar_ind in mpl.toolbar_items){\n",
       "        var name = mpl.toolbar_items[toolbar_ind][0];\n",
       "        var tooltip = mpl.toolbar_items[toolbar_ind][1];\n",
       "        var image = mpl.toolbar_items[toolbar_ind][2];\n",
       "        var method_name = mpl.toolbar_items[toolbar_ind][3];\n",
       "\n",
       "        if (!name) { continue; };\n",
       "\n",
       "        var button = $('<button class=\"btn btn-default\" href=\"#\" title=\"' + name + '\"><i class=\"fa ' + image + ' fa-lg\"></i></button>');\n",
       "        button.click(method_name, toolbar_event);\n",
       "        button.mouseover(tooltip, toolbar_mouse_event);\n",
       "        nav_element.append(button);\n",
       "    }\n",
       "\n",
       "    // Add the status bar.\n",
       "    var status_bar = $('<span class=\"mpl-message\" style=\"text-align:right; float: right;\"/>');\n",
       "    nav_element.append(status_bar);\n",
       "    this.message = status_bar[0];\n",
       "\n",
       "    // Add the close button to the window.\n",
       "    var buttongrp = $('<div class=\"btn-group inline pull-right\"></div>');\n",
       "    var button = $('<button class=\"btn btn-mini btn-primary\" href=\"#\" title=\"Stop Interaction\"><i class=\"fa fa-power-off icon-remove icon-large\"></i></button>');\n",
       "    button.click(function (evt) { fig.handle_close(fig, {}); } );\n",
       "    button.mouseover('Stop Interaction', toolbar_mouse_event);\n",
       "    buttongrp.append(button);\n",
       "    var titlebar = this.root.find($('.ui-dialog-titlebar'));\n",
       "    titlebar.prepend(buttongrp);\n",
       "}\n",
       "\n",
       "mpl.figure.prototype._root_extra_style = function(el){\n",
       "    var fig = this\n",
       "    el.on(\"remove\", function(){\n",
       "\tfig.close_ws(fig, {});\n",
       "    });\n",
       "}\n",
       "\n",
       "mpl.figure.prototype._canvas_extra_style = function(el){\n",
       "    // this is important to make the div 'focusable\n",
       "    el.attr('tabindex', 0)\n",
       "    // reach out to IPython and tell the keyboard manager to turn it's self\n",
       "    // off when our div gets focus\n",
       "\n",
       "    // location in version 3\n",
       "    if (IPython.notebook.keyboard_manager) {\n",
       "        IPython.notebook.keyboard_manager.register_events(el);\n",
       "    }\n",
       "    else {\n",
       "        // location in version 2\n",
       "        IPython.keyboard_manager.register_events(el);\n",
       "    }\n",
       "\n",
       "}\n",
       "\n",
       "mpl.figure.prototype._key_event_extra = function(event, name) {\n",
       "    var manager = IPython.notebook.keyboard_manager;\n",
       "    if (!manager)\n",
       "        manager = IPython.keyboard_manager;\n",
       "\n",
       "    // Check for shift+enter\n",
       "    if (event.shiftKey && event.which == 13) {\n",
       "        this.canvas_div.blur();\n",
       "        event.shiftKey = false;\n",
       "        // Send a \"J\" for go to next cell\n",
       "        event.which = 74;\n",
       "        event.keyCode = 74;\n",
       "        manager.command_mode();\n",
       "        manager.handle_keydown(event);\n",
       "    }\n",
       "}\n",
       "\n",
       "mpl.figure.prototype.handle_save = function(fig, msg) {\n",
       "    fig.ondownload(fig, null);\n",
       "}\n",
       "\n",
       "\n",
       "mpl.find_output_cell = function(html_output) {\n",
       "    // Return the cell and output element which can be found *uniquely* in the notebook.\n",
       "    // Note - this is a bit hacky, but it is done because the \"notebook_saving.Notebook\"\n",
       "    // IPython event is triggered only after the cells have been serialised, which for\n",
       "    // our purposes (turning an active figure into a static one), is too late.\n",
       "    var cells = IPython.notebook.get_cells();\n",
       "    var ncells = cells.length;\n",
       "    for (var i=0; i<ncells; i++) {\n",
       "        var cell = cells[i];\n",
       "        if (cell.cell_type === 'code'){\n",
       "            for (var j=0; j<cell.output_area.outputs.length; j++) {\n",
       "                var data = cell.output_area.outputs[j];\n",
       "                if (data.data) {\n",
       "                    // IPython >= 3 moved mimebundle to data attribute of output\n",
       "                    data = data.data;\n",
       "                }\n",
       "                if (data['text/html'] == html_output) {\n",
       "                    return [cell, data, j];\n",
       "                }\n",
       "            }\n",
       "        }\n",
       "    }\n",
       "}\n",
       "\n",
       "// Register the function which deals with the matplotlib target/channel.\n",
       "// The kernel may be null if the page has been refreshed.\n",
       "if (IPython.notebook.kernel != null) {\n",
       "    IPython.notebook.kernel.comm_manager.register_target('matplotlib', mpl.mpl_figure_comm);\n",
       "}\n"
      ],
      "text/plain": [
       "<IPython.core.display.Javascript object>"
      ]
     },
     "metadata": {},
     "output_type": "display_data"
    },
    {
     "data": {
      "text/html": [
       "<img src=\"data:image/png;base64,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\">"
      ],
      "text/plain": [
       "<IPython.core.display.HTML object>"
      ]
     },
     "metadata": {},
     "output_type": "display_data"
    }
   ],
   "source": [
    "from scipy import interpolate\n",
    "\n",
    "# choose eight points between 0 and 10\n",
    "x = np.linspace(0, 10, 8)\n",
    "y = np.sin(x)\n",
    "\n",
    "# create a cubic interpolation function\n",
    "func = interpolate.interp1d(x, y, kind='cubic')\n",
    "\n",
    "# interpolate on a grid of 1,000 points\n",
    "x_interp = np.linspace(0, 10, 1000)\n",
    "y_interp = func(x_interp)\n",
    "\n",
    "# plot the results\n",
    "plt.figure()  # new figure\n",
    "plt.plot(x, y, 'o')\n",
    "plt.plot(x_interp, y_interp);"
   ]
  },
  {
   "cell_type": "markdown",
   "metadata": {},
   "source": [
    "What we see is a smooth interpolation between the points."
   ]
  },
  {
   "cell_type": "markdown",
   "metadata": {},
   "source": [
    "## Other Data Science Packages\n",
    "\n",
    "Built on top of these tools are a host of other data science packages, including general tools like [Scikit-Learn](http://scikit-learn.org) for machine learning, [Scikit-Image](http://scikit-image.org) for image analysis, and [Statsmodels](http://statsmodels.sourceforge.net/) for statistical modeling, as well as more domain-specific packages like [AstroPy](http://astropy.org) for astronomy and astrophysics, [NiPy](http://nipy.org/) for neuro-imaging, and many, many more.\n",
    "\n",
    "No matter what type of scientific, numerical, or statistical problem you are facing, it's likely there is a Python package out there that can help you solve it."
   ]
  },
  {
   "cell_type": "markdown",
   "metadata": {},
   "source": [
    "<!--NAVIGATION-->\n",
    "< [A Preview of Data Science Tools](#section15) | [Contents](#Index) | [Appendix: Figure Code](#section17) >"
   ]
  },
  {
   "cell_type": "markdown",
   "metadata": {},
   "source": [
    "<a id='section16'></a>"
   ]
  },
  {
   "cell_type": "markdown",
   "metadata": {},
   "source": [
    "# Resources for Further Learning"
   ]
  },
  {
   "cell_type": "markdown",
   "metadata": {},
   "source": [
    "This concludes our whirlwind tour of the Python language.\n",
    "My hope is that if you read this far, you have an idea of the essential syntax, semantics, operations, and functionality offered by the Python language, as well as some idea of the range of tools and code constructs that you can explore further.\n",
    "\n",
    "I have tried to cover the pieces and patterns in the Python language that will be most useful to a data scientist using Python, but this has by no means been a complete introduction.\n",
    "If you'd like to go deeper in understanding the Python language itself and how to use it effectively, here are a handful of resources I'd recommend:\n",
    "\n",
    "- [*Fluent Python*](http://shop.oreilly.com/product/0636920032519.do) by Luciano Ramalho. This is an excellent OReilly book that explores best practices and idioms for Python, including getting the most out of the standard library.\n",
    "- [*Dive Into Python*](http://www.diveintopython.net/) by Mark Pilgrim. This is a free online book that provides a ground-up introduction to the Python language.\n",
    "- [*Learn Python the Hard Way*](http://learnpythonthehardway.org/) by Zed Shaw. This book follows a \"learn by trying\" approach, and deliberately emphasizes developing what may be the most useful skill a programmer can learn: Googling things you don't understand.\n",
    "- [*Python Essential Reference*](http://www.dabeaz.com/per.html) by David Beazley. This 700-page monster is well-written, and covers virtually everything there is to know about the Python language and its built-in libraries. For a more application-focused Python walk-through, see Beazley's [*Python Cookbook*](http://shop.oreilly.com/product/0636920027072.do).\n",
    "\n",
    "To dig more into Python tools for data science and scientific computing, I recommend the following books:\n",
    "\n",
    "- [*The Python Data Science Handbook*](http://shop.oreilly.com/product/0636920034919.do) by yours truly. This book starts precisely where this report leaves off, and provides a comprehensive guide to the essential tools in Python's data science stack, from data munging and manipulation to machine learning.\n",
    "- [*Effective Computation in Physics*](http://shop.oreilly.com/product/0636920033424.do) by Katie Huff and Anthony Scopatz, is applicable to people far beyond the world of Physics research. It is a step-by-step, ground-up introduction to scientific computing, including an excellent introduction to many of the tools mentioned in this report.\n",
    "- [*Python for Data Analysis*](http://shop.oreilly.com/product/0636920023784.do) by Wes McKinney, creator of the Pandas package. This book covers the Pandas library in detail, as well as giving useful information on some of the other tools that enable it.\n",
    "\n",
    "Finally, for an even broader look at what's out there, I recommend the following:\n",
    "\n",
    "- [*OReilly Python Resources*](http://shop.oreilly.com/category/browse-subjects/programming/python.do) O'Reilly features a number of excellent books on Python itself and specialized topics in the Python world.\n",
    "- *PyCon*, *SciPy*, and *PyData*. The PyCon, SciPy, and PyData conferences draw thousands of attendees each year, and archive the bulk of their programs each year as free online videos. These have turned into an incredible set of resources for learning about Python itself, Python packages, and related topics. Search online for videos of both talks and tutorials: the former tend to be shorter, covering new packages or fresh looks at old ones. The tutorials tend to be several hours, covering the use of the tools mentioned here as well as others."
   ]
  },
  {
   "cell_type": "markdown",
   "metadata": {},
   "source": [
    "<!--NAVIGATION-->\n",
    "< [Resources for Further Learning](#section16) | [Contents](#Index) |"
   ]
  },
  {
   "cell_type": "markdown",
   "metadata": {},
   "source": [
    "<a id='section17'></a>"
   ]
  },
  {
   "cell_type": "markdown",
   "metadata": {},
   "source": [
    "# Appendix: Figure Code"
   ]
  },
  {
   "cell_type": "markdown",
   "metadata": {},
   "source": [
    "This section contains code used to generate figures that appear in this report."
   ]
  },
  {
   "cell_type": "code",
   "execution_count": 1,
   "metadata": {
    "collapsed": true
   },
   "outputs": [],
   "source": [
    "%matplotlib inline\n",
    "import matplotlib.pyplot as plt"
   ]
  },
  {
   "cell_type": "code",
   "execution_count": 2,
   "metadata": {
    "collapsed": true
   },
   "outputs": [],
   "source": [
    "import os\n",
    "if not os.path.exists('fig'):\n",
    "    os.makedirs('fig')"
   ]
  },
  {
   "cell_type": "markdown",
   "metadata": {},
   "source": [
    "## Section 6: List Indexing\n",
    "\n",
    "This figure helps visualize how Python's indexing works."
   ]
  },
  {
   "cell_type": "code",
   "execution_count": 3,
   "metadata": {
    "scrolled": true
   },
   "outputs": [
    {
     "data": {
      "image/png": "[encoded data removed]",
      "text/plain": [
       "<matplotlib.figure.Figure at 0x10b8a4438>"
      ]
     },
     "metadata": {},
     "output_type": "display_data"
    }
   ],
   "source": [
    "L = [2, 3, 5, 7, 11]\n",
    "\n",
    "fig = plt.figure(figsize=(10, 4))\n",
    "ax = fig.add_axes([0, 0, 1, 1], xticks=[], yticks=[], frameon=False,\n",
    "                  aspect='equal')\n",
    "\n",
    "for i in range(5):\n",
    "    ax.add_patch(plt.Rectangle([i - 0.5, -0.5], 1, 1, fc='none', ec='black'))\n",
    "    ax.text(i, -0.05, L[i], size=100,\n",
    "            ha='center', va='center', family='monospace')\n",
    "    \n",
    "for i in range(6):\n",
    "    ax.text(i - 0.5, 0.55, str(i), size=20,\n",
    "            ha='center', va='bottom', family='monospace')\n",
    "    \n",
    "for i in range(5):\n",
    "    ax.text(i - 0.5, -0.58, str(-5 + i), size=20,\n",
    "            ha='center', va='top', family='monospace')\n",
    "    \n",
    "ax.axis([-0.7, 4.7, -0.7, 0.7]);\n",
    "\n",
    "fig.savefig('fig/list-indexing.png');"
   ]
  },
  {
   "cell_type": "markdown",
   "metadata": {},
   "source": [
    "<!--NAVIGATION-->\n",
    "< [Resources for Further Learning](#section16) | [Contents](#Index) |"
   ]
  }
 ],
 "metadata": {
  "anaconda-cloud": {},
  "kernelspec": {
   "display_name": "Python 3",
   "language": "python",
   "name": "python3"
  },
  "language_info": {
   "codemirror_mode": {
    "name": "ipython",
    "version": 3
   },
   "file_extension": ".py",
   "mimetype": "text/x-python",
   "name": "python",
   "nbconvert_exporter": "python",
   "pygments_lexer": "ipython3",
   "version": "3.5.3"
  }
 },
 "nbformat": 4,
 "nbformat_minor": 1
}
